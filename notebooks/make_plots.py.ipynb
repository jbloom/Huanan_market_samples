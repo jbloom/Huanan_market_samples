{
 "cells": [
  {
   "cell_type": "markdown",
   "id": "bdf42685-7bac-45b8-b061-0851c35f3a59",
   "metadata": {},
   "source": [
    "# Make plots"
   ]
  },
  {
   "cell_type": "markdown",
   "id": "30fe09f9-1157-4594-a37d-c60db2190d6c",
   "metadata": {},
   "source": [
    "Import Python modules:"
   ]
  },
  {
   "cell_type": "code",
   "execution_count": null,
   "id": "814bf235-7c93-47f7-adbc-ba242b931670",
   "metadata": {
    "tags": []
   },
   "outputs": [],
   "source": [
    "import itertools\n",
    "import os\n",
    "\n",
    "import altair as alt\n",
    "\n",
    "import pandas as pd\n",
    "\n",
    "_ = alt.data_transformers.disable_max_rows()"
   ]
  },
  {
   "cell_type": "markdown",
   "id": "897e563c-8a14-48e7-958c-4c69e57bfd69",
   "metadata": {},
   "source": [
    "Get data and variable from `snakemake`:"
   ]
  },
  {
   "cell_type": "code",
   "execution_count": null,
   "id": "1e4be094-39bd-4972-b49d-76e3b400d3ab",
   "metadata": {
    "tags": []
   },
   "outputs": [],
   "source": [
    "sars2_aligned_by_run = pd.read_csv(snakemake.input.sars2_aligned_by_run)\n",
    "\n",
    "sars2_aligned_by_metagenomic_sample = pd.read_csv(snakemake.input.sars2_aligned_by_metagenomic_sample)\n",
    "\n",
    "mito_composition_by_metagenomic_run = pd.read_csv(snakemake.input.mito_composition_by_metagenomic_run)\n",
    "\n",
    "mito_composition_by_metagenomic_sample = pd.read_csv(snakemake.input.mito_composition_by_metagenomic_sample)\n",
    "\n",
    "crits_christoph_read_counts = pd.read_csv(snakemake.input.crits_christoph_read_counts)\n",
    "\n",
    "ngdc_to_crits_christoph = pd.read_csv(snakemake.input.ngdc_to_crits_christoph)\n",
    "\n",
    "plotsdir = snakemake.output.plotsdir"
   ]
  },
  {
   "cell_type": "markdown",
   "id": "f887eb07-373c-42b4-9717-5b7702b84f0c",
   "metadata": {},
   "source": [
    "## Compare mitochondrial DNA composition to Crits-Christoph et al\n",
    "First get Crits-Christoph read counts in tidy format, assigning NGDC run accessions and summing counts for runs:"
   ]
  },
  {
   "cell_type": "code",
   "execution_count": null,
   "id": "b2a9fb08-f0fd-4539-9e7a-59f1ae2a9c44",
   "metadata": {
    "tags": []
   },
   "outputs": [],
   "source": [
    "crits_christoph_read_counts_tidy = (\n",
    "    crits_christoph_read_counts\n",
    "    .drop(columns=[\"Location\", \"Sample_name\"])\n",
    "    .merge(\n",
    "        ngdc_to_crits_christoph\n",
    "        .assign(Filename=lambda x: x[\"fastq Crits-Christoph\"].map(lambda s: s.split(\".\")[0]))\n",
    "        .rename(columns={\"Run accession NGDC\": \"Run accession\"})\n",
    "        [[\"Filename\", \"Run accession\"]]\n",
    "        .drop_duplicates(),\n",
    "        validate=\"one_to_one\",\n",
    "    )\n",
    "    .merge(\n",
    "        sars2_aligned_by_run[[\"Run accession\", \"sample\"]].drop_duplicates(),\n",
    "        validate=\"many_to_one\",\n",
    "        how=\"left\",\n",
    "    )\n",
    "    .melt(\n",
    "        id_vars=[\"sample\", \"Run accession\", \"Filename\"],\n",
    "        var_name=\"species\",\n",
    "        value_name=\"aligned reads Crits-Christoph\",\n",
    "    )\n",
    "    .groupby([\"sample\", \"Run accession\", \"species\"], as_index=False)\n",
    "    .aggregate({\"aligned reads Crits-Christoph\": \"sum\"})\n",
    ")\n",
    "\n",
    "crits_christoph_read_counts_tidy"
   ]
  },
  {
   "cell_type": "code",
   "execution_count": null,
   "id": "8c67148f-2ca1-4a69-a8ae-3ead3f37c31b",
   "metadata": {
    "tags": []
   },
   "outputs": [],
   "source": [
    " mito_composition_by_metagenomic_run.columns"
   ]
  },
  {
   "cell_type": "markdown",
   "id": "81141895-958a-4cc7-b1d0-02e33f8c0064",
   "metadata": {},
   "source": [
    "Now merge current read counts with those from Crits-Christoph for all species:"
   ]
  },
  {
   "cell_type": "code",
   "execution_count": null,
   "id": "116340c5-ebe7-4da3-8472-d1acf24694ef",
   "metadata": {
    "tags": []
   },
   "outputs": [],
   "source": [
    "crits_christoph_species = crits_christoph_read_counts_tidy[\"species\"].unique().tolist()\n",
    "\n",
    "mito_composition_to_compare = (\n",
    "    mito_composition_by_metagenomic_run\n",
    "    [[\"Run accession\", \"species\", \"common_name\", \"aligned_reads\", \"covered_bases\"]]\n",
    "    .rename(\n",
    "        columns={\n",
    "            \"aligned_reads\": \"aligned reads current study\",\n",
    "            \"covered_bases\": \"covered bases current study\",\n",
    "        }\n",
    "    )\n",
    ")\n",
    "\n",
    "assert set(crits_christoph_species).issubset(mito_composition_to_compare[\"species\"])\n",
    "\n",
    "crits_christoph_vs_current = (\n",
    "    crits_christoph_read_counts_tidy\n",
    "    .merge(\n",
    "        mito_composition_to_compare,\n",
    "        validate=\"one_to_one\",\n",
    "        on=[\"Run accession\", \"species\"],\n",
    "    )\n",
    ")"
   ]
  },
  {
   "cell_type": "markdown",
   "id": "8f2893ad-9059-4a99-b026-971364fc4177",
   "metadata": {},
   "source": [
    "Now get the correlations by species and plot them:"
   ]
  },
  {
   "cell_type": "code",
   "execution_count": null,
   "id": "fad10471-0e9e-47e4-b488-a89c2dc09d0a",
   "metadata": {
    "tags": []
   },
   "outputs": [],
   "source": [
    "crits_christoph_vs_current_species_corr = (\n",
    "    crits_christoph_vs_current\n",
    "    .groupby([\"species\", \"common_name\"])\n",
    "    [[\"aligned reads Crits-Christoph\", \"aligned reads current study\"]]\n",
    "    .corr(method=\"pearson\")\n",
    "    .reset_index()\n",
    "    .query(\"level_2 == 'aligned reads Crits-Christoph'\")\n",
    "    .rename(columns={\"aligned reads current study\": \"correlation\"})\n",
    "    .drop(columns=[\"level_2\", \"aligned reads Crits-Christoph\"])\n",
    "    .query(\"correlation.notnull()\")\n",
    "    .merge(\n",
    "        crits_christoph_vs_current\n",
    "        .groupby(\"species\", as_index=False)\n",
    "        .aggregate(\n",
    "            aligned_reads_Crits_Christoph=pd.NamedAgg(\"aligned reads Crits-Christoph\", \"sum\"),\n",
    "            aligned_reads_current_study=pd.NamedAgg(\"aligned reads current study\", \"sum\"),\n",
    "        )\n",
    "    )\n",
    "    .sort_values(\"correlation\")\n",
    ")\n",
    "\n",
    "crits_christoph_vs_current_species_corr"
   ]
  },
  {
   "cell_type": "code",
   "execution_count": null,
   "id": "14913bb6-f68f-4c02-9fe9-fb824f2a28ec",
   "metadata": {
    "tags": []
   },
   "outputs": [],
   "source": [
    "crits_christoph_vs_current_species_corr_chart = (\n",
    "    alt.Chart(crits_christoph_vs_current_species_corr)\n",
    "    .encode(\n",
    "        x=\"correlation\",\n",
    "        y=alt.Y(\n",
    "            \"common_name\",\n",
    "            sort=alt.SortField(\"correlation\", order=\"descending\"),\n",
    "            title=None,\n",
    "        ),\n",
    "        tooltip=[\n",
    "            alt.Tooltip(c, format=\".3g\")\n",
    "            if crits_christoph_vs_current_species_corr[c].dtype == float\n",
    "            else c\n",
    "            for c in crits_christoph_vs_current_species_corr.columns.tolist()\n",
    "        ],\n",
    "    )\n",
    "    .mark_circle(size=50, opacity=1)\n",
    "    .properties(\n",
    "        height=alt.Step(13),\n",
    "        width=185,\n",
    "    )\n",
    ") \n",
    "    \n",
    "crits_christoph_vs_current_species_corr_chart"
   ]
  },
  {
   "cell_type": "markdown",
   "id": "08f3611f-4831-4925-a23b-c6fc817cd43d",
   "metadata": {},
   "source": [
    "Now get the correlations by run:"
   ]
  },
  {
   "cell_type": "code",
   "execution_count": null,
   "id": "197c548e-b73a-46e8-ae3b-c3401ed36d6c",
   "metadata": {
    "tags": []
   },
   "outputs": [],
   "source": [
    "crits_christoph_vs_current_run_corr = (\n",
    "    crits_christoph_vs_current\n",
    "    .groupby([\"Run accession\", \"sample\"])\n",
    "    [[\"aligned reads Crits-Christoph\", \"aligned reads current study\"]]\n",
    "    .corr(method=\"pearson\")\n",
    "    .reset_index()\n",
    "    .query(\"level_2 == 'aligned reads Crits-Christoph'\")\n",
    "    .rename(columns={\"aligned reads current study\": \"correlation\"})\n",
    "    .drop(columns=[\"level_2\", \"aligned reads Crits-Christoph\"])\n",
    "    .query(\"correlation.notnull()\")\n",
    "    .merge(\n",
    "        crits_christoph_vs_current\n",
    "        .groupby(\"Run accession\", as_index=False)\n",
    "        .aggregate(\n",
    "            aligned_reads_Crits_Christoph=pd.NamedAgg(\"aligned reads Crits-Christoph\", \"sum\"),\n",
    "            aligned_reads_current_study=pd.NamedAgg(\"aligned reads current study\", \"sum\"),\n",
    "        )\n",
    "    )\n",
    ")\n",
    "\n",
    "crits_christoph_vs_current_run_corr.sort_values(\"correlation\")"
   ]
  },
  {
   "cell_type": "markdown",
   "id": "060ef350-67e0-4690-b2b6-65af8245a757",
   "metadata": {},
   "source": [
    "Plot the correlations by run:"
   ]
  },
  {
   "cell_type": "code",
   "execution_count": null,
   "id": "c8aed3b3-6113-40ab-83df-eec514e825b1",
   "metadata": {
    "tags": []
   },
   "outputs": [],
   "source": [
    "aligned_reads_current_slider = alt.param(\n",
    "    bind=alt.binding_range(\n",
    "        name=\"minimum aligned reads in current study\",\n",
    "        min=0,\n",
    "        max=1000,\n",
    "    ),\n",
    "    value=50,\n",
    ")\n",
    "\n",
    "aligned_reads_crits_christoph_slider = alt.param(\n",
    "    bind=alt.binding_range(\n",
    "        name=\"minimum aligned reads in Crits-Christoph et al\",\n",
    "        min=0,\n",
    "        max=1000,\n",
    "    ),\n",
    "    value=50,\n",
    ")\n",
    "\n",
    "crits_christoph_vs_current_run_corr_chart = (\n",
    "    alt.Chart(crits_christoph_vs_current_run_corr)\n",
    "    .encode(\n",
    "        x=alt.X(\n",
    "            \"Run accession\",\n",
    "            sort=alt.SortField(\"correlation\", order=\"descending\"),\n",
    "        ),\n",
    "        y=alt.Y(\"correlation\", title=\"Pearson correlation\"),\n",
    "        tooltip=[\n",
    "            alt.Tooltip(c, format=\".4g\")\n",
    "            if crits_christoph_vs_current_run_corr[c].dtype == float\n",
    "            else c\n",
    "            for c in crits_christoph_vs_current_run_corr.columns.tolist()\n",
    "        ],\n",
    "    )\n",
    "    .mark_circle(size=50, opacity=1)\n",
    "    .properties(\n",
    "        width=alt.Step(11),\n",
    "        height=150,\n",
    "        title=(\n",
    "            \"Correlation in read counts aligned to mitochondrial genomes of different \"\n",
    "            \"species in Crits-Christoph et al and current study\"\n",
    "        )\n",
    "    )\n",
    "    .add_params(aligned_reads_current_slider, aligned_reads_crits_christoph_slider)\n",
    "    .transform_filter(\n",
    "        alt.datum[\"aligned_reads_current_study\"] >= aligned_reads_current_slider\n",
    "    )\n",
    "    .transform_filter(\n",
    "        alt.datum[\"aligned_reads_Crits_Christoph\"] >= aligned_reads_crits_christoph_slider\n",
    "    )\n",
    ")\n",
    "\n",
    "crits_christoph_vs_current_run_corr_chart"
   ]
  },
  {
   "cell_type": "markdown",
   "id": "64a1950a-5692-4675-b6c3-74c37966d2af",
   "metadata": {},
   "source": [
    "## Plot mitochondrial composition for samples\n",
    "First, for each sample we get just the species that are sufficiently abundant in either the full species set or the Crits-Christoph species set, and call other species \"other\":"
   ]
  },
  {
   "cell_type": "code",
   "execution_count": null,
   "id": "db686fdc-cbac-4b7f-9796-98e4213959b1",
   "metadata": {
    "tags": []
   },
   "outputs": [],
   "source": [
    "assert set(crits_christoph_species).issubset(mito_composition_by_metagenomic_sample[\"species\"])\n",
    "\n",
    "group_as_other_cutoff = 5  # group as \"other\" if < this %\n",
    "max_species_per_sample = 10  # group as other lower percents so we never get more than this many\n",
    "\n",
    "# require at least this many reads aligned to mitochondrial genomes\n",
    "min_mito_reads = 100\n",
    "\n",
    "composition_df = (\n",
    "    mito_composition_by_metagenomic_sample\n",
    "    .assign(\n",
    "        cc_species=lambda x: x[\"species\"].isin(crits_christoph_species),\n",
    "        total_mito=lambda x: x.groupby(\"sample\")[\"aligned_reads\"].transform(\"sum\"),\n",
    "        aligned_reads_cc=lambda x: x[\"aligned_reads\"].where(x[\"cc_species\"], 0),\n",
    "        total_mito_cc=lambda x: x.groupby(\"sample\")[\"aligned_reads_cc\"].transform(\"sum\"),\n",
    "        percent=lambda x: 100 * x[\"aligned_reads\"] / x[\"total_mito\"],\n",
    "        percent_cc=lambda x: 100 * x[\"aligned_reads_cc\"] / x[\"total_mito_cc\"],\n",
    "        rank=lambda x: x.groupby(\"sample\")[\"aligned_reads\"].transform(\"rank\", method=\"first\", ascending=False),\n",
    "        other=lambda x: (\n",
    "            (x[[\"percent\", \"percent_cc\"]].max(axis=1) < group_as_other_cutoff)\n",
    "            | (x[\"rank\"] >= max_species_per_sample)\n",
    "        ),\n",
    "        species=lambda x: x[\"species\"].where(~x[\"other\"], \"other\"),\n",
    "        common_name=lambda x: x[\"common_name\"].where(~x[\"other\"], \"other\"),\n",
    "    )\n",
    "    .query(\"total_mito > @min_mito_reads\")\n",
    "    .groupby([\"sample\", \"species\", \"common_name\"], as_index=False)\n",
    "    [[\"aligned_reads\", \"aligned_reads_cc\", \"percent\", \"percent_cc\"]]\n",
    "    .aggregate(\"sum\")\n",
    ")\n",
    "\n",
    "composition_df = (\n",
    "    composition_df\n",
    "    .rename(columns={\"aligned_reads\": \"all\", \"aligned_reads_cc\": \"crits_christoph\"})\n",
    "    .melt(\n",
    "        id_vars=[\"sample\", \"species\", \"common_name\"],\n",
    "        value_vars=[\"all\", \"crits_christoph\"],\n",
    "        value_name=\"aligned_reads\",\n",
    "        var_name=\"species_set\",\n",
    "    )\n",
    "    .merge(\n",
    "        composition_df\n",
    "        .rename(columns={\"percent\": \"all\", \"percent_cc\": \"crits_christoph\"})\n",
    "        .melt(\n",
    "            id_vars=[\"sample\", \"species\", \"common_name\"],\n",
    "            value_vars=[\"all\", \"crits_christoph\"],\n",
    "            value_name=\"percent\",\n",
    "            var_name=\"species_set\",\n",
    "        )\n",
    "    )\n",
    "    .assign(\n",
    "        species_set=lambda x: x[\"species_set\"].map(\n",
    "            {\n",
    "                \"all\": \"chordates (current study)\",\n",
    "                \"crits_christoph\": \"mammals (Crits-Christoph et al)\",\n",
    "            }\n",
    "        ),\n",
    "    )\n",
    ")\n",
    "\n",
    "composition_df"
   ]
  },
  {
   "cell_type": "markdown",
   "id": "aeed0b25-f5bc-41f1-8348-731c87b35730",
   "metadata": {},
   "source": [
    "Now make pie charts:"
   ]
  },
  {
   "cell_type": "code",
   "execution_count": null,
   "id": "cd37ae1e-e419-413a-b494-2446a86109fc",
   "metadata": {
    "tags": []
   },
   "outputs": [],
   "source": [
    "sample_selection = alt.selection_point(\n",
    "    fields=[\"sample\"],\n",
    "    bind=alt.binding_select(\n",
    "        options=composition_df[\"sample\"].unique(),\n",
    "        name=\"sample\",\n",
    "    ),\n",
    "    value=\"Q61\",\n",
    ")\n",
    "\n",
    "composition_chart = (\n",
    "    alt.Chart(composition_df)\n",
    "    .encode(\n",
    "        theta=\"percent\",\n",
    "        color=alt.Color(\n",
    "            \"common_name\",\n",
    "            title=\"species (common name)\",\n",
    "            legend=alt.Legend(\n",
    "                orient=\"right\", columns=1, symbolSize=125, symbolType=\"square\", labelLimit=0,\n",
    "            ),\n",
    "        ),\n",
    "        column=alt.Column(\n",
    "            \"species_set\",\n",
    "            title=None,\n",
    "            sort=\"descending\",\n",
    "            header=alt.Header(labelFontSize=11, labelFontWeight=\"bold\"),\n",
    "        ),\n",
    "        tooltip=[\n",
    "            alt.Tooltip(c, format=\".3g\") if composition_df[c].dtype == float else c\n",
    "            for c in composition_df.columns\n",
    "        ],\n",
    "    )\n",
    "    .mark_arc()\n",
    "    .add_params(sample_selection)\n",
    "    .transform_filter(sample_selection)\n",
    "    .properties(height=175, width=175)\n",
    ")\n",
    "\n",
    "composition_chart"
   ]
  },
  {
   "cell_type": "code",
   "execution_count": null,
   "id": "f0c1ee4c-d8ac-40bc-a71d-8faf4c91166c",
   "metadata": {},
   "outputs": [],
   "source": []
  }
 ],
 "metadata": {
  "kernelspec": {
   "display_name": "Python 3 (ipykernel)",
   "language": "python",
   "name": "python3"
  },
  "language_info": {
   "codemirror_mode": {
    "name": "ipython",
    "version": 3
   },
   "file_extension": ".py",
   "mimetype": "text/x-python",
   "name": "python",
   "nbconvert_exporter": "python",
   "pygments_lexer": "ipython3",
   "version": "3.10.8"
  }
 },
 "nbformat": 4,
 "nbformat_minor": 5
}
