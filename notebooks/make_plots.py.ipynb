{
 "cells": [
  {
   "cell_type": "markdown",
   "id": "bdf42685-7bac-45b8-b061-0851c35f3a59",
   "metadata": {},
   "source": [
    "# Make plots"
   ]
  },
  {
   "cell_type": "code",
   "execution_count": null,
   "id": "18e6e90b-ece2-4772-83c2-4988dfc87d9a",
   "metadata": {
    "tags": []
   },
   "outputs": [],
   "source": [
    "\n",
    "######## snakemake preamble start (automatically inserted, do not edit) ########\n",
    "import sys; sys.path.extend(['/fh/fast/bloom_j/software/miniconda3/envs/Huanan_market_samples/lib/python3.10/site-packages', '/home/jbloom/.cache/snakemake/snakemake/source-cache/runtime-cache/tmpu709wcxr/file/fh/fast/bloom_j/computational_notebooks/jbloom/2023/Huanan_market_samples/notebooks', '/fh/fast/bloom_j/computational_notebooks/jbloom/2023/Huanan_market_samples/notebooks']); import pickle; snakemake = pickle.loads(b'\\x80\\x04\\x95\\xb1\\x10\\x00\\x00\\x00\\x00\\x00\\x00\\x8c\\x10snakemake.script\\x94\\x8c\\tSnakemake\\x94\\x93\\x94)\\x81\\x94}\\x94(\\x8c\\x05input\\x94\\x8c\\x0csnakemake.io\\x94\\x8c\\nInputFiles\\x94\\x93\\x94)\\x81\\x94(\\x8c7results/aggregated_counts/sars2_mito_aligned_by_run.csv\\x94\\x8cFresults/aggregated_counts/sars2_mito_aligned_by_metagenomic_sample.csv\\x94\\x8cAresults/aggregated_counts/mito_composition_by_metagenomic_run.csv\\x94\\x8cDresults/aggregated_counts/mito_composition_by_metagenomic_sample.csv\\x94\\x8c,results/crits_christoph_data/read_counts.csv\\x94\\x8c@results/crits_christoph_data/check_sha512_vs_crits_christoph.csv\\x94e}\\x94(\\x8c\\x06_names\\x94}\\x94(\\x8c\\x19sars2_mito_aligned_by_run\\x94K\\x00N\\x86\\x94\\x8c(sars2_mito_aligned_by_metagenomic_sample\\x94K\\x01N\\x86\\x94\\x8c#mito_composition_by_metagenomic_run\\x94K\\x02N\\x86\\x94\\x8c&mito_composition_by_metagenomic_sample\\x94K\\x03N\\x86\\x94\\x8c\\x1bcrits_christoph_read_counts\\x94K\\x04N\\x86\\x94\\x8c\\x17ngdc_to_crits_christoph\\x94K\\x05N\\x86\\x94u\\x8c\\x12_allowed_overrides\\x94]\\x94(\\x8c\\x05index\\x94\\x8c\\x04sort\\x94eh!\\x8c\\tfunctools\\x94\\x8c\\x07partial\\x94\\x93\\x94h\\x06\\x8c\\x19Namedlist._used_attribute\\x94\\x93\\x94\\x85\\x94R\\x94(h\\')}\\x94\\x8c\\x05_name\\x94h!sNt\\x94bh\"h%h\\'\\x85\\x94R\\x94(h\\')}\\x94h+h\"sNt\\x94b\\x8c\\x19sars2_mito_aligned_by_run\\x94h\\n\\x8c(sars2_mito_aligned_by_metagenomic_sample\\x94h\\x0b\\x8c#mito_composition_by_metagenomic_run\\x94h\\x0c\\x8c&mito_composition_by_metagenomic_sample\\x94h\\rh\\x1bh\\x0eh\\x1dh\\x0fub\\x8c\\x06output\\x94h\\x06\\x8c\\x0bOutputFiles\\x94\\x93\\x94)\\x81\\x94\\x8c\\rresults/plots\\x94a}\\x94(h\\x11}\\x94\\x8c\\x08plotsdir\\x94K\\x00N\\x86\\x94sh\\x1f]\\x94(h!h\"eh!h%h\\'\\x85\\x94R\\x94(h\\')}\\x94h+h!sNt\\x94bh\"h%h\\'\\x85\\x94R\\x94(h\\')}\\x94h+h\"sNt\\x94bh<h9ub\\x8c\\x06params\\x94h\\x06\\x8c\\x06Params\\x94\\x93\\x94)\\x81\\x94]\\x94\\x8c\\x0bcollections\\x94\\x8c\\x0bOrderedDict\\x94\\x93\\x94)R\\x94\\x8c\\rAmur hedgehog\\x94\\x8c\\x13Erinaceus amurensis\\x94saa}\\x94(h\\x11}\\x94\\x8c-mitochondrial_genomes_crits_christoph_missing\\x94K\\x00N\\x86\\x94sh\\x1f]\\x94(h!h\"eh!h%h\\'\\x85\\x94R\\x94(h\\')}\\x94h+h!sNt\\x94bh\"h%h\\'\\x85\\x94R\\x94(h\\')}\\x94h+h\"sNt\\x94bhThKub\\x8c\\twildcards\\x94h\\x06\\x8c\\tWildcards\\x94\\x93\\x94)\\x81\\x94}\\x94(h\\x11}\\x94h\\x1f]\\x94(h!h\"eh!h%h\\'\\x85\\x94R\\x94(h\\')}\\x94h+h!sNt\\x94bh\"h%h\\'\\x85\\x94R\\x94(h\\')}\\x94h+h\"sNt\\x94bub\\x8c\\x07threads\\x94K\\x01\\x8c\\tresources\\x94h\\x06\\x8c\\tResources\\x94\\x93\\x94)\\x81\\x94(K\\x01K\\x01\\x8c\\x04/tmp\\x94e}\\x94(h\\x11}\\x94(\\x8c\\x06_cores\\x94K\\x00N\\x86\\x94\\x8c\\x06_nodes\\x94K\\x01N\\x86\\x94\\x8c\\x06tmpdir\\x94K\\x02N\\x86\\x94uh\\x1f]\\x94(h!h\"eh!h%h\\'\\x85\\x94R\\x94(h\\')}\\x94h+h!sNt\\x94bh\"h%h\\'\\x85\\x94R\\x94(h\\')}\\x94h+h\"sNt\\x94bhvK\\x01hxK\\x01hzhsub\\x8c\\x03log\\x94h\\x06\\x8c\\x03Log\\x94\\x93\\x94)\\x81\\x94\\x8c\\x18results/make_plots.ipynb\\x94a}\\x94(h\\x11}\\x94\\x8c\\x08notebook\\x94K\\x00N\\x86\\x94sh\\x1f]\\x94(h!h\"eh!h%h\\'\\x85\\x94R\\x94(h\\')}\\x94h+h!sNt\\x94bh\"h%h\\'\\x85\\x94R\\x94(h\\')}\\x94h+h\"sNt\\x94bh\\x8ch\\x89ub\\x8c\\x06config\\x94}\\x94(\\x8c\\x14crits_christoph_data\\x94}\\x94(\\x8c\\tfile_info\\x94\\x8c\\x95https://raw.githubusercontent.com/sars-cov-2-origins/huanan-environmental/bd2afdb19392a0efb872c09eb94045de9d265a6e/tables/TableS1_FileInformation.csv\\x94\\x8c\\x0csample_names\\x94\\x8c\\x91https://raw.githubusercontent.com/sars-cov-2-origins/huanan-environmental/bd2afdb19392a0efb872c09eb94045de9d265a6e/tables/TableS2_SampleNames.csv\\x94\\x8c\\x0bread_counts\\x94\\x8c\\x96https://raw.githubusercontent.com/sars-cov-2-origins/huanan-environmental/bd2afdb19392a0efb872c09eb94045de9d265a6e/tables/TableS3_MappedReadCounts.csv\\x94u\\x8c\\x15mitochondrial_genomes\\x94\\x8cYhttps://ftp.ncbi.nlm.nih.gov/refseq/release/mitochondrion/mitochondrion.1.genomic.gbff.gz\\x94\\x8c\\x1amitochondrial_taxa_to_keep\\x94}\\x94(\\x8c\\x06phylum\\x94]\\x94\\x8c\\x08Chordata\\x94a\\x8c\\tsubphylum\\x94]\\x94u\\x8c\\x1dmitochondrial_genomes_to_keep\\x94}\\x94(\\x8c\\x03pig\\x94\\x8c\\x15Sus scrofa domesticus\\x94\\x8c\\tbrown rat\\x94\\x8c\\x1fRattus norvegicus strain Wistar\\x94\\x8c\\x06rabbit\\x94\\x8c\\x15Oryctolagus cuniculus\\x94\\x8c\\x03dog\\x94\\x8c\\x16Canis lupus familiaris\\x94\\x8c\\x11European hedgehog\\x94\\x8c\\x13Erinaceus europaeus\\x94\\x8c\\x13long-eared hedgehog\\x94\\x8c\\x13Hemiechinus auritus\\x94\\x8c\\x03cow\\x94\\x8c\\nBos taurus\\x94\\x8c\\x05human\\x94\\x8c\\x0cHomo sapiens\\x94\\x8c\\x0braccoon dog\\x94\\x8c\\x18Nyctereutes procyonoides\\x94\\x8c\\x10Himalayan marmot\\x94\\x8c\\x12Marmota himalayana\\x94\\x8c\\x0fSiberian weasel\\x94\\x8c\\x10Mustela sibirica\\x94\\x8c\\nhog badger\\x94\\x8c\\x11Arctonyx collaris\\x94\\x8c\\x10hoary bamboo rat\\x94\\x8c\\x12Rhizomys pruinosus\\x94\\x8c\\nfennec fox\\x94\\x8c\\x0cVulpes zerda\\x94\\x8c\\x05sheep\\x94\\x8c\\x0fOvis orientalis\\x94\\x8c\\x08gray fox\\x94\\x8c\\x18Urocyon cinereoargenteus\\x94\\x8c\\x04goat\\x94\\x8c\\x0eCapra aegagrus\\x94\\x8c\\x08sand cat\\x94\\x8c\\x0fFelis margarita\\x94\\x8c\\x11masked palm civet\\x94\\x8c\\x0ePaguma larvata\\x94\\x8c\\x11Mayalan field rat\\x94\\x8c\\x11Rattus tiomanicus\\x94\\x8c\\rbat-eared fox\\x94\\x8c\\x11Otocyon megalotis\\x94\\x8c\\tleaf deer\\x94\\x8c\\x14Muntiacus putaoensis\\x94\\x8c\\x11Malayan porcupine\\x94\\x8c\\x11Hystrix brachyura\\x94\\x8c\\x03cat\\x94\\x8c\\x0bFelis catus\\x94\\x8c\\x07chicken\\x94\\x8c\\x17Gallus gallus spadiceus\\x94\\x8c\\x04duck\\x94\\x8c\\x13Anas poecilorhyncha\\x94\\x8c\\tcrocodile\\x94\\x8c\\x15Osteolaemus tetraspis\\x94\\x8c\\x13Japanese salamander\\x94\\x8c\\x11Andrias japonicus\\x94\\x8c\\trat snake\\x94\\x8c\\x0cElaphe dione\\x94\\x8c\\x0esnakehead fish\\x94\\x8c\\x0fChanna maculata\\x94\\x8c\\x0ebrown bush hen\\x94\\x8c\\x10Amaurornis akool\\x94\\x8c\\rcollared dove\\x94\\x8c\\x15Streptopelia decaocto\\x94\\x8c\\x0fgolden pheasant\\x94\\x8c\\x13Chrysolophus pictus\\x94u\\x8c-mitochondrial_genomes_crits_christoph_missing\\x94]\\x94hOa\\x8c\"mitochondrial_genome_min_mash_dist\\x94G?\\xb9\\x99\\x99\\x99\\x99\\x99\\x9a\\x8c\\tsars2_ref\\x94\\x8cGhttp://hgdownload.soe.ucsc.edu/goldenPath/wuhCor1/bigZips/wuhCor1.fa.gz\\x94\\x8c\\x0csars2_ref_id\\x94\\x8c\\x0bNC_045512v2\\x94\\x8c\\x18metagenomic_descriptions\\x94]\\x94\\x8cORNA sequencing of total nucleic acids from environmental swabs for metagenomics\\x94a\\x8c\\x18mito_composition_filters\\x94}\\x94(\\x8c\\x19min_alignments_run_filter\\x94M\\xd0\\x07\\x8c!min_percent_aligned_genome_filter\\x94K\\nuu\\x8c\\x04rule\\x94\\x8c\\nmake_plots\\x94\\x8c\\x0fbench_iteration\\x94N\\x8c\\tscriptdir\\x94\\x8cT/fh/fast/bloom_j/computational_notebooks/jbloom/2023/Huanan_market_samples/notebooks\\x94ub.'); from snakemake.logging import logger; logger.printshellcmds = False; import os; os.chdir(r'/fh/fast/bloom_j/computational_notebooks/jbloom/2023/Huanan_market_samples');\n",
    "######## snakemake preamble end #########\n"
   ]
  },
  {
   "cell_type": "markdown",
   "id": "30fe09f9-1157-4594-a37d-c60db2190d6c",
   "metadata": {},
   "source": [
    "Import Python modules:"
   ]
  },
  {
   "cell_type": "code",
   "execution_count": null,
   "id": "814bf235-7c93-47f7-adbc-ba242b931670",
   "metadata": {
    "tags": []
   },
   "outputs": [],
   "source": [
    "import itertools\n",
    "import os\n",
    "\n",
    "import altair as alt\n",
    "\n",
    "import pandas as pd\n",
    "\n",
    "_ = alt.data_transformers.disable_max_rows()"
   ]
  },
  {
   "cell_type": "markdown",
   "id": "897e563c-8a14-48e7-958c-4c69e57bfd69",
   "metadata": {},
   "source": [
    "Get data and variable from `snakemake`:"
   ]
  },
  {
   "cell_type": "code",
   "execution_count": null,
   "id": "1e4be094-39bd-4972-b49d-76e3b400d3ab",
   "metadata": {
    "tags": []
   },
   "outputs": [],
   "source": [
    "sars2_mito_aligned_by_run = pd.read_csv(snakemake.input.sars2_mito_aligned_by_run)\n",
    "\n",
    "sars2_mito_aligned_by_metagenomic_sample = pd.read_csv(snakemake.input.sars2_mito_aligned_by_metagenomic_sample)\n",
    "\n",
    "mito_composition_by_metagenomic_run = pd.read_csv(snakemake.input.mito_composition_by_metagenomic_run)\n",
    "\n",
    "mito_composition_by_metagenomic_sample = pd.read_csv(snakemake.input.mito_composition_by_metagenomic_sample)\n",
    "\n",
    "crits_christoph_read_counts = pd.read_csv(snakemake.input.crits_christoph_read_counts)\n",
    "\n",
    "ngdc_to_crits_christoph = pd.read_csv(snakemake.input.ngdc_to_crits_christoph)\n",
    "\n",
    "plotsdir = snakemake.output.plotsdir\n",
    "mitochondrial_genomes_crits_christoph_missing = snakemake.params.mitochondrial_genomes_crits_christoph_missing"
   ]
  },
  {
   "cell_type": "markdown",
   "id": "f887eb07-373c-42b4-9717-5b7702b84f0c",
   "metadata": {},
   "source": [
    "## Compare mitochondrial DNA composition to Crits-Christoph et al\n",
    "First get Crits-Christoph read counts in tidy format, assigning NGDC run accessions and summing counts for runs:"
   ]
  },
  {
   "cell_type": "code",
   "execution_count": null,
   "id": "b2a9fb08-f0fd-4539-9e7a-59f1ae2a9c44",
   "metadata": {
    "tags": []
   },
   "outputs": [],
   "source": [
    "crits_christoph_read_counts_tidy = (\n",
    "    crits_christoph_read_counts\n",
    "    .drop(columns=[\"Location\", \"Sample_name\"])\n",
    "    .merge(\n",
    "        ngdc_to_crits_christoph\n",
    "        .assign(Filename=lambda x: x[\"fastq Crits-Christoph\"].map(lambda s: s.split(\".\")[0]))\n",
    "        .rename(columns={\"Run accession NGDC\": \"Run accession\"})\n",
    "        [[\"Filename\", \"Run accession\"]]\n",
    "        .drop_duplicates(),\n",
    "        validate=\"one_to_one\",\n",
    "    )\n",
    "    .merge(\n",
    "        sars2_mito_aligned_by_run[[\"Run accession\", \"sample\"]].drop_duplicates(),\n",
    "        validate=\"many_to_one\",\n",
    "    )\n",
    "    .melt(\n",
    "        id_vars=[\"sample\", \"Run accession\", \"Filename\"],\n",
    "        var_name=\"species\",\n",
    "        value_name=\"alignment count Crits-Christoph\",\n",
    "    )\n",
    "    .groupby([\"sample\", \"Run accession\", \"species\"], as_index=False)\n",
    "    .aggregate({\"alignment count Crits-Christoph\": \"sum\"})\n",
    ")\n",
    "\n",
    "crits_christoph_read_counts_tidy"
   ]
  },
  {
   "cell_type": "markdown",
   "id": "81141895-958a-4cc7-b1d0-02e33f8c0064",
   "metadata": {},
   "source": [
    "Now merge current read counts with those from Crits-Christoph for all species:"
   ]
  },
  {
   "cell_type": "code",
   "execution_count": null,
   "id": "116340c5-ebe7-4da3-8472-d1acf24694ef",
   "metadata": {
    "tags": []
   },
   "outputs": [],
   "source": [
    "# species specifically to drop\n",
    "species_to_drop = {\n",
    "    s\n",
    "    for d in mitochondrial_genomes_crits_christoph_missing\n",
    "    for _, s in d.items()\n",
    "}\n",
    "\n",
    "species_to_compare = [\n",
    "    s for s in crits_christoph_read_counts_tidy[\"species\"].unique()\n",
    "    if s not in species_to_drop\n",
    "]\n",
    "\n",
    "# get current study data in form to compare, harmozing species names\n",
    "mito_composition_to_compare = (\n",
    "    mito_composition_by_metagenomic_run\n",
    "    .assign(\n",
    "        species=lambda x: x[\"species\"].map(lambda s: \" \".join(s.split()[: 2]))\n",
    "    )\n",
    "    [[\"Run accession\", \"species\", \"common_name\", \"alignment_count_type\", \"alignment_count\"]]\n",
    ")\n",
    "\n",
    "# expand mito composition by run to include all Crits-Christoph species\n",
    "assert set(species_to_compare).issubset(mito_composition_to_compare[\"species\"])\n",
    "\n",
    "mito_composition_to_compare = (\n",
    "    mito_composition_to_compare\n",
    "    .drop(columns=\"common_name\")\n",
    "    .merge(\n",
    "        pd.DataFrame(\n",
    "            itertools.product(\n",
    "                mito_composition_to_compare[\"Run accession\"].unique(),\n",
    "                species_to_compare,\n",
    "                mito_composition_to_compare[\"alignment_count_type\"].unique(),\n",
    "            ),\n",
    "            columns=[\"Run accession\", \"species\", \"alignment_count_type\"],\n",
    "        ),\n",
    "        how=\"outer\",\n",
    "    )\n",
    "    .assign(alignment_count=lambda x: x[\"alignment_count\"].fillna(0).astype(int))\n",
    "    .merge(\n",
    "        mito_composition_to_compare[[\"species\", \"common_name\"]].drop_duplicates(),\n",
    "        validate=\"many_to_one\",\n",
    "        how=\"left\",\n",
    "    )\n",
    "    .rename(columns={\"alignment_count\": \"alignment count current study\"})\n",
    ")\n",
    "\n",
    "crits_christoph_vs_current = (\n",
    "    crits_christoph_read_counts_tidy\n",
    "    .query(\"species not in @species_to_drop\")\n",
    "    .merge(\n",
    "        mito_composition_to_compare,\n",
    "        validate=\"one_to_many\",\n",
    "        on=[\"Run accession\", \"species\"],\n",
    "    )\n",
    ")\n",
    "\n",
    "crits_christoph_vs_current"
   ]
  },
  {
   "cell_type": "markdown",
   "id": "08f3611f-4831-4925-a23b-c6fc817cd43d",
   "metadata": {},
   "source": [
    "Now get the correlations by run:"
   ]
  },
  {
   "cell_type": "code",
   "execution_count": null,
   "id": "197c548e-b73a-46e8-ae3b-c3401ed36d6c",
   "metadata": {
    "tags": []
   },
   "outputs": [],
   "source": [
    "crits_christoph_vs_current_corr = (\n",
    "    crits_christoph_vs_current\n",
    "    .groupby([\"Run accession\", \"sample\", \"alignment_count_type\"])\n",
    "    [[\"alignment count Crits-Christoph\", \"alignment count current study\"]]\n",
    "    .corr(method=\"pearson\")\n",
    "    .reset_index()\n",
    "    .query(\"level_3 == 'alignment count Crits-Christoph'\")\n",
    "    .rename(columns={\"alignment count current study\": \"correlation\"})\n",
    "    .drop(columns=[\"level_3\", \"alignment count Crits-Christoph\"])\n",
    "    .query(\"correlation.notnull()\")\n",
    "    .merge(\n",
    "        crits_christoph_vs_current\n",
    "        .groupby([\"Run accession\", \"alignment_count_type\"], as_index=False)\n",
    "        .aggregate(\n",
    "            aligned_reads_Crits_Christoph=pd.NamedAgg(\"alignment count Crits-Christoph\", \"sum\"),\n",
    "            aligned_reads_current_study=pd.NamedAgg(\"alignment count current study\", \"sum\"),\n",
    "        )\n",
    "    )\n",
    ")\n",
    "\n",
    "crits_christoph_vs_current_corr.sort_values(\"correlation\")"
   ]
  },
  {
   "cell_type": "markdown",
   "id": "060ef350-67e0-4690-b2b6-65af8245a757",
   "metadata": {},
   "source": [
    "The correlations by species:"
   ]
  },
  {
   "cell_type": "code",
   "execution_count": null,
   "id": "c8aed3b3-6113-40ab-83df-eec514e825b1",
   "metadata": {
    "tags": []
   },
   "outputs": [],
   "source": [
    "crits_christoph_vs_current_species_corr = (\n",
    "    crits_christoph_vs_current\n",
    "    .groupby([\"species\", \"common_name\", \"alignment_count_type\"])\n",
    "    [[\"alignment count Crits-Christoph\", \"alignment count current study\"]]\n",
    "    .corr(method=\"pearson\")\n",
    "    .reset_index()\n",
    "    .query(\"level_3 == 'alignment count Crits-Christoph'\")\n",
    "    .rename(columns={\"alignment count current study\": \"correlation\"})\n",
    "    .drop(columns=[\"level_3\", \"alignment count Crits-Christoph\"])\n",
    "    .query(\"correlation.notnull()\")\n",
    "    .merge(\n",
    "        crits_christoph_vs_current\n",
    "        .groupby([\"species\", \"alignment_count_type\"], as_index=False)\n",
    "        .aggregate(\n",
    "            aligned_reads_Crits_Christoph=pd.NamedAgg(\"alignment count Crits-Christoph\", \"sum\"),\n",
    "            aligned_reads_current_study=pd.NamedAgg(\"alignment count current study\", \"sum\"),\n",
    "        )\n",
    "    )\n",
    ")\n",
    "\n",
    "crits_christoph_vs_current_species_corr.query(\"alignment_count_type == 'n_primary'\").groupby([\"common_name\", \"alignment_count_type\"]).aggregate({\"correlation\": \"mean\"}).sort_values(\"correlation\")"
   ]
  },
  {
   "cell_type": "code",
   "execution_count": null,
   "id": "bb7d701a-1fec-499a-bcd5-deb99e93edcb",
   "metadata": {
    "tags": []
   },
   "outputs": [],
   "source": [
    "accession_selection = alt.selection_point(\n",
    "    fields=[\"Run accession\"],\n",
    "    bind=alt.binding_select(\n",
    "        options=crits_christoph_vs_current[\"Run accession\"].unique(),\n",
    "        name=\"Run accession\",\n",
    "    ),\n",
    ")\n",
    "\n",
    "alignment_count_type_selection = alt.selection_point(\n",
    "    fields=[\"alignment_count_type\"],\n",
    "    bind=alt.binding_select(\n",
    "        options=crits_christoph_vs_current[\"alignment_count_type\"].unique(),\n",
    "        name=\"alignment count type\",\n",
    "    ),\n",
    "    value=\"n_primary\",\n",
    ")\n",
    "\n",
    "crits_christoph_vs_current_chart = (\n",
    "    alt.Chart(crits_christoph_vs_current)\n",
    "    .encode(\n",
    "        x=alt.X(\"alignment count Crits-Christoph\"),\n",
    "        y=alt.Y(\"alignment count current study\"),\n",
    "        tooltip=crits_christoph_vs_current.columns.tolist(),\n",
    "    )\n",
    "    .mark_circle()\n",
    "    .add_params(accession_selection, alignment_count_type_selection)\n",
    "    .transform_filter(accession_selection)\n",
    "    .transform_filter(alignment_count_type_selection)\n",
    ")\n",
    "\n",
    "crits_christoph_vs_current_chart"
   ]
  },
  {
   "cell_type": "code",
   "execution_count": null,
   "id": "8d4f8ed5-c52d-4c7f-880b-c297821b268b",
   "metadata": {},
   "outputs": [],
   "source": []
  }
 ],
 "metadata": {
  "kernelspec": {
   "display_name": "Python 3 (ipykernel)",
   "language": "python",
   "name": "python3"
  },
  "language_info": {
   "codemirror_mode": {
    "name": "ipython",
    "version": 3
   },
   "file_extension": ".py",
   "mimetype": "text/x-python",
   "name": "python",
   "nbconvert_exporter": "python",
   "pygments_lexer": "ipython3",
   "version": "3.10.8"
  }
 },
 "nbformat": 4,
 "nbformat_minor": 5
}
