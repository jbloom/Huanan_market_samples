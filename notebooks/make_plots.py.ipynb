{
 "cells": [
  {
   "cell_type": "markdown",
   "id": "bdf42685-7bac-45b8-b061-0851c35f3a59",
   "metadata": {},
   "source": [
    "# Make plots"
   ]
  },
  {
   "cell_type": "code",
   "execution_count": 2,
   "id": "badff2ae-86fd-4b48-9436-966d9c38c402",
   "metadata": {
    "execution": {
     "iopub.execute_input": "2023-04-09T12:56:25.368815Z",
     "iopub.status.busy": "2023-04-09T12:56:25.368070Z",
     "iopub.status.idle": "2023-04-09T12:56:25.575375Z",
     "shell.execute_reply": "2023-04-09T12:56:25.574501Z",
     "shell.execute_reply.started": "2023-04-09T12:56:25.368757Z"
    },
    "tags": []
   },
   "outputs": [],
   "source": [
    "######## snakemake preamble start (automatically inserted, do not edit) ########\n",
    "import sys; sys.path.extend(['/fh/fast/bloom_j/software/miniconda3/envs/Huanan_market_samples/lib/python3.10/site-packages', '/home/jbloom/.cache/snakemake/snakemake/source-cache/runtime-cache/tmpmnw94_z2/file/fh/fast/bloom_j/computational_notebooks/jbloom/2023/Huanan_market_samples/notebooks', '/fh/fast/bloom_j/computational_notebooks/jbloom/2023/Huanan_market_samples/notebooks']); import pickle; snakemake = pickle.loads(b'\\x80\\x04\\x95y\\x11\\x00\\x00\\x00\\x00\\x00\\x00\\x8c\\x10snakemake.script\\x94\\x8c\\tSnakemake\\x94\\x93\\x94)\\x81\\x94}\\x94(\\x8c\\x05input\\x94\\x8c\\x0csnakemake.io\\x94\\x8c\\nInputFiles\\x94\\x93\\x94)\\x81\\x94(\\x8c2results/aggregated_counts/sars2_aligned_by_run.csv\\x94\\x8c5results/aggregated_counts/sars2_aligned_by_sample.csv\\x94\\x8c5results/aggregated_counts/mito_composition_by_run.csv\\x94\\x8c8results/aggregated_counts/mito_composition_by_sample.csv\\x94\\x8c,results/crits_christoph_data/read_counts.csv\\x94\\x8c@results/crits_christoph_data/check_sha512_vs_crits_christoph.csv\\x94e}\\x94(\\x8c\\x06_names\\x94}\\x94(\\x8c\\x14sars2_aligned_by_run\\x94K\\x00N\\x86\\x94\\x8c\\x17sars2_aligned_by_sample\\x94K\\x01N\\x86\\x94\\x8c\\x17mito_composition_by_run\\x94K\\x02N\\x86\\x94\\x8c\\x1amito_composition_by_sample\\x94K\\x03N\\x86\\x94\\x8c\\x1bcrits_christoph_read_counts\\x94K\\x04N\\x86\\x94\\x8c\\x17ngdc_to_crits_christoph\\x94K\\x05N\\x86\\x94u\\x8c\\x12_allowed_overrides\\x94]\\x94(\\x8c\\x05index\\x94\\x8c\\x04sort\\x94eh!\\x8c\\tfunctools\\x94\\x8c\\x07partial\\x94\\x93\\x94h\\x06\\x8c\\x19Namedlist._used_attribute\\x94\\x93\\x94\\x85\\x94R\\x94(h\\')}\\x94\\x8c\\x05_name\\x94h!sNt\\x94bh\"h%h\\'\\x85\\x94R\\x94(h\\')}\\x94h+h\"sNt\\x94b\\x8c\\x14sars2_aligned_by_run\\x94h\\n\\x8c\\x17sars2_aligned_by_sample\\x94h\\x0b\\x8c\\x17mito_composition_by_run\\x94h\\x0c\\x8c\\x1amito_composition_by_sample\\x94h\\rh\\x1bh\\x0eh\\x1dh\\x0fub\\x8c\\x06output\\x94h\\x06\\x8c\\x0bOutputFiles\\x94\\x93\\x94)\\x81\\x94\\x8c\\rresults/plots\\x94a}\\x94(h\\x11}\\x94\\x8c\\x08plotsdir\\x94K\\x00N\\x86\\x94sh\\x1f]\\x94(h!h\"eh!h%h\\'\\x85\\x94R\\x94(h\\')}\\x94h+h!sNt\\x94bh\"h%h\\'\\x85\\x94R\\x94(h\\')}\\x94h+h\"sNt\\x94bh<h9ub\\x8c\\x06params\\x94h\\x06\\x8c\\x06Params\\x94\\x93\\x94)\\x81\\x94]\\x94\\x8cORNA sequencing of total nucleic acids from environmental swabs for metagenomics\\x94aa}\\x94(h\\x11}\\x94\\x8c\\x18metagenomic_descriptions\\x94K\\x00N\\x86\\x94sh\\x1f]\\x94(h!h\"eh!h%h\\'\\x85\\x94R\\x94(h\\')}\\x94h+h!sNt\\x94bh\"h%h\\'\\x85\\x94R\\x94(h\\')}\\x94h+h\"sNt\\x94bhOhKub\\x8c\\twildcards\\x94h\\x06\\x8c\\tWildcards\\x94\\x93\\x94)\\x81\\x94}\\x94(h\\x11}\\x94h\\x1f]\\x94(h!h\"eh!h%h\\'\\x85\\x94R\\x94(h\\')}\\x94h+h!sNt\\x94bh\"h%h\\'\\x85\\x94R\\x94(h\\')}\\x94h+h\"sNt\\x94bub\\x8c\\x07threads\\x94K\\x01\\x8c\\tresources\\x94h\\x06\\x8c\\tResources\\x94\\x93\\x94)\\x81\\x94(K\\x01K\\x01\\x8c\\x04/tmp\\x94e}\\x94(h\\x11}\\x94(\\x8c\\x06_cores\\x94K\\x00N\\x86\\x94\\x8c\\x06_nodes\\x94K\\x01N\\x86\\x94\\x8c\\x06tmpdir\\x94K\\x02N\\x86\\x94uh\\x1f]\\x94(h!h\"eh!h%h\\'\\x85\\x94R\\x94(h\\')}\\x94h+h!sNt\\x94bh\"h%h\\'\\x85\\x94R\\x94(h\\')}\\x94h+h\"sNt\\x94bhqK\\x01hsK\\x01huhnub\\x8c\\x03log\\x94h\\x06\\x8c\\x03Log\\x94\\x93\\x94)\\x81\\x94\\x8c\\x1eresults/plots/make_plots.ipynb\\x94a}\\x94(h\\x11}\\x94\\x8c\\x08notebook\\x94K\\x00N\\x86\\x94sh\\x1f]\\x94(h!h\"eh!h%h\\'\\x85\\x94R\\x94(h\\')}\\x94h+h!sNt\\x94bh\"h%h\\'\\x85\\x94R\\x94(h\\')}\\x94h+h\"sNt\\x94bh\\x87h\\x84ub\\x8c\\x06config\\x94}\\x94(\\x8c\\x14crits_christoph_data\\x94}\\x94(\\x8c\\tfile_info\\x94\\x8c\\x95https://raw.githubusercontent.com/sars-cov-2-origins/huanan-environmental/bd2afdb19392a0efb872c09eb94045de9d265a6e/tables/TableS1_FileInformation.csv\\x94\\x8c\\x0csample_names\\x94\\x8c\\x91https://raw.githubusercontent.com/sars-cov-2-origins/huanan-environmental/bd2afdb19392a0efb872c09eb94045de9d265a6e/tables/TableS2_SampleNames.csv\\x94\\x8c\\x0bread_counts\\x94\\x8c\\x96https://raw.githubusercontent.com/sars-cov-2-origins/huanan-environmental/bd2afdb19392a0efb872c09eb94045de9d265a6e/tables/TableS3_MappedReadCounts.csv\\x94u\\x8c\\x15mitochondrial_genomes\\x94\\x8cYhttps://ftp.ncbi.nlm.nih.gov/refseq/release/mitochondrion/mitochondrion.1.genomic.gbff.gz\\x94\\x8c\\x1bextra_mitochondrial_genomes\\x94]\\x94\\x8c\\nKX964606.1\\x94a\\x8c\\x1amitochondrial_taxa_to_keep\\x94}\\x94(\\x8c\\x06phylum\\x94]\\x94\\x8c\\x08Chordata\\x94a\\x8c\\tsubphylum\\x94]\\x94u\\x8c\\x1dmitochondrial_genomes_to_keep\\x94}\\x94(\\x8c\\rAmur hedgehog\\x94\\x8c\\x13Erinaceus amurensis\\x94\\x8c\\x03pig\\x94\\x8c\\x15Sus scrofa domesticus\\x94\\x8c\\tbrown rat\\x94\\x8c\\x1fRattus norvegicus strain Wistar\\x94\\x8c\\x06rabbit\\x94\\x8c\\x15Oryctolagus cuniculus\\x94\\x8c\\x03dog\\x94\\x8c\\x16Canis lupus familiaris\\x94\\x8c\\x11European hedgehog\\x94\\x8c\\x13Erinaceus europaeus\\x94\\x8c\\x13long-eared hedgehog\\x94\\x8c\\x13Hemiechinus auritus\\x94\\x8c\\x03cow\\x94\\x8c\\nBos taurus\\x94\\x8c\\x05human\\x94\\x8c\\x0cHomo sapiens\\x94\\x8c\\x0braccoon dog\\x94\\x8c\\x18Nyctereutes procyonoides\\x94\\x8c\\x10Himalayan marmot\\x94\\x8c\\x12Marmota himalayana\\x94\\x8c\\x0fSiberian weasel\\x94\\x8c\\x10Mustela sibirica\\x94\\x8c\\nhog badger\\x94\\x8c\\x11Arctonyx collaris\\x94\\x8c\\x10hoary bamboo rat\\x94\\x8c\\x12Rhizomys pruinosus\\x94\\x8c\\nfennec fox\\x94\\x8c\\x0cVulpes zerda\\x94\\x8c\\x05sheep\\x94\\x8c\\x0fOvis orientalis\\x94\\x8c\\x08gray fox\\x94\\x8c\\x18Urocyon cinereoargenteus\\x94\\x8c\\x04goat\\x94\\x8c\\x0eCapra aegagrus\\x94\\x8c\\x08sand cat\\x94\\x8c\\x0fFelis margarita\\x94\\x8c\\x11masked palm civet\\x94\\x8c\\x0ePaguma larvata\\x94\\x8c\\x11Mayalan field rat\\x94\\x8c\\x11Rattus tiomanicus\\x94\\x8c\\rbat-eared fox\\x94\\x8c\\x11Otocyon megalotis\\x94\\x8c\\tleaf deer\\x94\\x8c\\x14Muntiacus putaoensis\\x94\\x8c\\x11Malayan porcupine\\x94\\x8c\\x11Hystrix brachyura\\x94\\x8c\\x05quail\\x94\\x8c\\x11Coturnix japonica\\x94\\x8c\\x15yellow croaker (fish)\\x94\\x8c\\x13Larimichthys crocea\\x94\\x8c\\x0cspotted dove\\x94\\x8c\\x16Streptopelia chinensis\\x94\\x8c\\tswamp eel\\x94\\x8c\\x10Monopterus albus\\x94\\x8c\\x07chicken\\x94\\x8c\\x17Gallus gallus spadiceus\\x94\\x8c\\x12Oriental rat snake\\x94\\x8c\\x0cPtyas mucosa\\x94\\x8c\\x04carp\\x94\\x8c\\x17Ctenopharyngodon idella\\x94\\x8c\\x0esnakehead fish\\x94\\x8c\\x0fChanna maculata\\x94\\x8c\\x10spot-billed duck\\x94\\x8c\\x13Anas poecilorhyncha\\x94\\x8c\\x07catfish\\x94\\x8c\\x13Ictalurus punctatus\\x94\\x8c\\x12Chinese salamander\\x94\\x8c\\x12Andrias davidianus\\x94\\x8c\\x0ebrown bush hen\\x94\\x8c\\x10Amaurornis akool\\x94\\x8c\\rChinese cobra\\x94\\x8c\\tNaja atra\\x94\\x8c\\x0fLargemouth bass\\x94\\x8c\\x1fMicropterus salmoides salmoides\\x94\\x8c\\x06pigeon\\x94\\x8c\\x11Columba rupestris\\x94u\\x8c\"mitochondrial_genome_min_mash_dist\\x94G?\\xb1\\xeb\\x85\\x1e\\xb8Q\\xec\\x8c\\tsars2_ref\\x94\\x8cGhttp://hgdownload.soe.ucsc.edu/goldenPath/wuhCor1/bigZips/wuhCor1.fa.gz\\x94\\x8c\\x0csars2_ref_id\\x94\\x8c\\x0bNC_045512v2\\x94\\x8c\\x16sars2_ref_trim_3_polyA\\x94\\x88\\x8c\\x08min_mapq\\x94K\\x04\\x8c\\x0ccoverm_flags\\x94}\\x94(\\x8c\\x17min_read_aligned_length\\x94K(\\x8c\\x14contig_end_exclusion\\x94Kd\\x8c\\x19min_read_percent_identity\\x94G?\\xeeffffffu\\x8c\\x18metagenomic_descriptions\\x94]\\x94hLa\\x8c\\x18mito_composition_filters\\x94}\\x94(\\x8c\\x19min_alignments_run_filter\\x94M\\xf4\\x01\\x8c!min_percent_aligned_genome_filter\\x94K\\x14\\x8c\"min_coverage_aligned_genome_filter\\x94M\\xa0\\x0fuu\\x8c\\x04rule\\x94\\x8c\\nmake_plots\\x94\\x8c\\x0fbench_iteration\\x94N\\x8c\\tscriptdir\\x94\\x8cT/fh/fast/bloom_j/computational_notebooks/jbloom/2023/Huanan_market_samples/notebooks\\x94ub.'); from snakemake.logging import logger; logger.printshellcmds = False; import os; os.chdir(r'/fh/fast/bloom_j/computational_notebooks/jbloom/2023/Huanan_market_samples');\n",
    "######## snakemake preamble end #########\n"
   ]
  },
  {
   "cell_type": "markdown",
   "id": "30fe09f9-1157-4594-a37d-c60db2190d6c",
   "metadata": {},
   "source": [
    "Import Python modules:"
   ]
  },
  {
   "cell_type": "code",
   "execution_count": 3,
   "id": "814bf235-7c93-47f7-adbc-ba242b931670",
   "metadata": {
    "execution": {
     "iopub.execute_input": "2023-04-09T12:56:26.806169Z",
     "iopub.status.busy": "2023-04-09T12:56:26.805523Z",
     "iopub.status.idle": "2023-04-09T12:56:27.918478Z",
     "shell.execute_reply": "2023-04-09T12:56:27.917138Z",
     "shell.execute_reply.started": "2023-04-09T12:56:26.806125Z"
    },
    "tags": []
   },
   "outputs": [],
   "source": [
    "import itertools\n",
    "import os\n",
    "\n",
    "import altair as alt\n",
    "\n",
    "import pandas as pd\n",
    "\n",
    "_ = alt.data_transformers.disable_max_rows()"
   ]
  },
  {
   "cell_type": "markdown",
   "id": "897e563c-8a14-48e7-958c-4c69e57bfd69",
   "metadata": {},
   "source": [
    "Get data and variable from `snakemake`:"
   ]
  },
  {
   "cell_type": "code",
   "execution_count": 1,
   "id": "1e4be094-39bd-4972-b49d-76e3b400d3ab",
   "metadata": {
    "execution": {
     "iopub.execute_input": "2023-04-09T12:56:21.046438Z",
     "iopub.status.busy": "2023-04-09T12:56:21.045744Z",
     "iopub.status.idle": "2023-04-09T12:56:21.291382Z",
     "shell.execute_reply": "2023-04-09T12:56:21.289639Z",
     "shell.execute_reply.started": "2023-04-09T12:56:21.046389Z"
    },
    "tags": []
   },
   "outputs": [
    {
     "ename": "NameError",
     "evalue": "name 'snakemake' is not defined",
     "output_type": "error",
     "traceback": [
      "\u001b[0;31m---------------------------------------------------------------------------\u001b[0m",
      "\u001b[0;31mNameError\u001b[0m                                 Traceback (most recent call last)",
      "Cell \u001b[0;32mIn[1], line 1\u001b[0m\n\u001b[0;32m----> 1\u001b[0m metagenomic_descriptions \u001b[38;5;241m=\u001b[39m \u001b[43msnakemake\u001b[49m\u001b[38;5;241m.\u001b[39mparams\u001b[38;5;241m.\u001b[39mmetagenomic_descriptions\n\u001b[1;32m      3\u001b[0m sars2_aligned_by_run \u001b[38;5;241m=\u001b[39m pd\u001b[38;5;241m.\u001b[39mread_csv(snakemake\u001b[38;5;241m.\u001b[39minput\u001b[38;5;241m.\u001b[39msars2_aligned_by_run)\n\u001b[1;32m      5\u001b[0m sars2_aligned_by_sample \u001b[38;5;241m=\u001b[39m (\n\u001b[1;32m      6\u001b[0m     pd\u001b[38;5;241m.\u001b[39mread_csv(snakemake\u001b[38;5;241m.\u001b[39minput\u001b[38;5;241m.\u001b[39msars2_aligned_by_sample)\n\u001b[1;32m      7\u001b[0m     \u001b[38;5;241m.\u001b[39mrename(\n\u001b[0;32m   (...)\u001b[0m\n\u001b[1;32m     11\u001b[0m     \u001b[38;5;241m.\u001b[39massign(\u001b[38;5;241m*\u001b[39m\u001b[38;5;241m*\u001b[39m{\u001b[38;5;124m\"\u001b[39m\u001b[38;5;124mIsolation source\u001b[39m\u001b[38;5;124m\"\u001b[39m: \u001b[38;5;28;01mlambda\u001b[39;00m x: x[\u001b[38;5;124m\"\u001b[39m\u001b[38;5;124mIsolation source\u001b[39m\u001b[38;5;124m\"\u001b[39m]\u001b[38;5;241m.\u001b[39mstr\u001b[38;5;241m.\u001b[39mreplace(\u001b[38;5;124m\"\u001b[39m\u001b[38;5;124mine \u001b[39m\u001b[38;5;124m\"\u001b[39m, \u001b[38;5;124m\"\u001b[39m\u001b[38;5;124ming \u001b[39m\u001b[38;5;124m\"\u001b[39m)})\n\u001b[1;32m     12\u001b[0m )\n",
      "\u001b[0;31mNameError\u001b[0m: name 'snakemake' is not defined"
     ]
    }
   ],
   "source": [
    "metagenomic_descriptions = snakemake.params.metagenomic_descriptions\n",
    "\n",
    "sars2_aligned_by_run = pd.read_csv(snakemake.input.sars2_aligned_by_run)\n",
    "\n",
    "sars2_aligned_by_sample = (\n",
    "    pd.read_csv(snakemake.input.sars2_aligned_by_sample)\n",
    "    .rename(\n",
    "        columns={\"percent_preprocessed_reads_aligning_to_SARS2\": \"% reads aligning to SARS2\"},\n",
    "    )\n",
    "    # correct spelling of \"wing\" in original metadata\n",
    "    .assign(**{\"Isolation source\": lambda x: x[\"Isolation source\"].str.replace(\"ine \", \"ing \")})\n",
    "    # only keep metagenomic samples\n",
    "    .query(\"description in @metagenomic_descriptions\")\n",
    ")\n",
    "\n",
    "mito_composition_by_run = pd.read_csv(snakemake.input.mito_composition_by_run)\n",
    "\n",
    "mito_composition_by_sample = (\n",
    "    pd.read_csv(snakemake.input.mito_composition_by_sample)\n",
    "    .assign(**{\"Isolation source\": lambda x: x[\"Isolation source\"].str.replace(\"ine\", \"ing \")})\n",
    "    .query(\"description in @metagenomic_descriptions\")\n",
    ")\n",
    "\n",
    "crits_christoph_read_counts = pd.read_csv(snakemake.input.crits_christoph_read_counts)\n",
    "\n",
    "ngdc_to_crits_christoph = pd.read_csv(snakemake.input.ngdc_to_crits_christoph)\n",
    "\n",
    "plotsdir = snakemake.output.plotsdir"
   ]
  },
  {
   "cell_type": "markdown",
   "id": "f887eb07-373c-42b4-9717-5b7702b84f0c",
   "metadata": {},
   "source": [
    "## Compare mitochondrial DNA composition to Crits-Christoph et al\n",
    "First get Crits-Christoph read counts in tidy format, assigning NGDC run accessions and summing counts for runs:"
   ]
  },
  {
   "cell_type": "code",
   "execution_count": null,
   "id": "b2a9fb08-f0fd-4539-9e7a-59f1ae2a9c44",
   "metadata": {
    "tags": []
   },
   "outputs": [],
   "source": [
    "crits_christoph_read_counts_tidy = (\n",
    "    crits_christoph_read_counts\n",
    "    .drop(columns=[\"Location\", \"Sample_name\"])\n",
    "    .merge(\n",
    "        ngdc_to_crits_christoph\n",
    "        .assign(Filename=lambda x: x[\"fastq Crits-Christoph\"].map(lambda s: s.split(\".\")[0]))\n",
    "        .rename(columns={\"Run accession NGDC\": \"Run accession\"})\n",
    "        [[\"Filename\", \"Run accession\"]]\n",
    "        .drop_duplicates(),\n",
    "        validate=\"one_to_one\",\n",
    "    )\n",
    "    .merge(\n",
    "        sars2_aligned_by_run[[\"Run accession\", \"sample\"]].drop_duplicates(),\n",
    "        validate=\"many_to_one\",\n",
    "        how=\"left\",\n",
    "    )\n",
    "    .melt(\n",
    "        id_vars=[\"sample\", \"Run accession\", \"Filename\"],\n",
    "        var_name=\"species\",\n",
    "        value_name=\"aligned reads Crits-Christoph\",\n",
    "    )\n",
    "    .groupby([\"sample\", \"Run accession\", \"species\"], as_index=False)\n",
    "    .aggregate({\"aligned reads Crits-Christoph\": \"sum\"})\n",
    ")\n",
    "\n",
    "crits_christoph_read_counts_tidy"
   ]
  },
  {
   "cell_type": "markdown",
   "id": "81141895-958a-4cc7-b1d0-02e33f8c0064",
   "metadata": {},
   "source": [
    "Now merge current read counts with those from Crits-Christoph for all species:"
   ]
  },
  {
   "cell_type": "code",
   "execution_count": null,
   "id": "116340c5-ebe7-4da3-8472-d1acf24694ef",
   "metadata": {
    "tags": []
   },
   "outputs": [],
   "source": [
    "crits_christoph_species = crits_christoph_read_counts_tidy[\"species\"].unique().tolist()\n",
    "\n",
    "mito_composition_to_compare = (\n",
    "    mito_composition_by_run\n",
    "    [[\"Run accession\", \"species\", \"common_name\", \"aligned_reads\", \"covered_bases\"]]\n",
    "    .rename(\n",
    "        columns={\n",
    "            \"aligned_reads\": \"aligned reads current study\",\n",
    "            \"covered_bases\": \"covered bases current study\",\n",
    "        }\n",
    "    )\n",
    ")\n",
    "\n",
    "assert set(crits_christoph_species).issubset(mito_composition_to_compare[\"species\"])\n",
    "\n",
    "crits_christoph_vs_current = (\n",
    "    crits_christoph_read_counts_tidy\n",
    "    .merge(\n",
    "        mito_composition_to_compare,\n",
    "        validate=\"one_to_one\",\n",
    "        on=[\"Run accession\", \"species\"],\n",
    "    )\n",
    ")"
   ]
  },
  {
   "cell_type": "markdown",
   "id": "8f2893ad-9059-4a99-b026-971364fc4177",
   "metadata": {},
   "source": [
    "Now get the correlations by species and plot them:"
   ]
  },
  {
   "cell_type": "code",
   "execution_count": null,
   "id": "fad10471-0e9e-47e4-b488-a89c2dc09d0a",
   "metadata": {
    "tags": []
   },
   "outputs": [],
   "source": [
    "crits_christoph_vs_current_species_corr = (\n",
    "    crits_christoph_vs_current\n",
    "    .groupby([\"species\", \"common_name\"])\n",
    "    [[\"aligned reads Crits-Christoph\", \"aligned reads current study\"]]\n",
    "    .corr(method=\"pearson\")\n",
    "    .reset_index()\n",
    "    .query(\"level_2 == 'aligned reads Crits-Christoph'\")\n",
    "    .rename(columns={\"aligned reads current study\": \"correlation\"})\n",
    "    .drop(columns=[\"level_2\", \"aligned reads Crits-Christoph\"])\n",
    "    .query(\"correlation.notnull()\")\n",
    "    .merge(\n",
    "        crits_christoph_vs_current\n",
    "        .groupby(\"species\", as_index=False)\n",
    "        .aggregate(\n",
    "            aligned_reads_Crits_Christoph=pd.NamedAgg(\"aligned reads Crits-Christoph\", \"sum\"),\n",
    "            aligned_reads_current_study=pd.NamedAgg(\"aligned reads current study\", \"sum\"),\n",
    "        )\n",
    "    )\n",
    "    .sort_values(\"correlation\")\n",
    ")\n",
    "\n",
    "crits_christoph_vs_current_species_corr"
   ]
  },
  {
   "cell_type": "code",
   "execution_count": null,
   "id": "14913bb6-f68f-4c02-9fe9-fb824f2a28ec",
   "metadata": {
    "tags": []
   },
   "outputs": [],
   "source": [
    "crits_christoph_vs_current_species_corr_chart = (\n",
    "    alt.Chart(crits_christoph_vs_current_species_corr)\n",
    "    .encode(\n",
    "        x=\"correlation\",\n",
    "        y=alt.Y(\n",
    "            \"common_name\",\n",
    "            sort=alt.SortField(\"correlation\", order=\"descending\"),\n",
    "            title=None,\n",
    "        ),\n",
    "        tooltip=[\n",
    "            alt.Tooltip(c, format=\".3g\")\n",
    "            if crits_christoph_vs_current_species_corr[c].dtype == float\n",
    "            else c\n",
    "            for c in crits_christoph_vs_current_species_corr.columns.tolist()\n",
    "        ],\n",
    "    )\n",
    "    .mark_circle(size=50, opacity=1)\n",
    "    .properties(\n",
    "        height=alt.Step(13),\n",
    "        width=185,\n",
    "    )\n",
    ") \n",
    "    \n",
    "crits_christoph_vs_current_species_corr_chart"
   ]
  },
  {
   "cell_type": "markdown",
   "id": "08f3611f-4831-4925-a23b-c6fc817cd43d",
   "metadata": {},
   "source": [
    "Now get the correlations by run:"
   ]
  },
  {
   "cell_type": "code",
   "execution_count": null,
   "id": "197c548e-b73a-46e8-ae3b-c3401ed36d6c",
   "metadata": {
    "tags": []
   },
   "outputs": [],
   "source": [
    "crits_christoph_vs_current_run_corr = (\n",
    "    crits_christoph_vs_current\n",
    "    .groupby([\"Run accession\", \"sample\"])\n",
    "    [[\"aligned reads Crits-Christoph\", \"aligned reads current study\"]]\n",
    "    .corr(method=\"pearson\")\n",
    "    .reset_index()\n",
    "    .query(\"level_2 == 'aligned reads Crits-Christoph'\")\n",
    "    .rename(columns={\"aligned reads current study\": \"correlation\"})\n",
    "    .drop(columns=[\"level_2\", \"aligned reads Crits-Christoph\"])\n",
    "    .query(\"correlation.notnull()\")\n",
    "    .merge(\n",
    "        crits_christoph_vs_current\n",
    "        .groupby(\"Run accession\", as_index=False)\n",
    "        .aggregate(\n",
    "            aligned_reads_Crits_Christoph=pd.NamedAgg(\"aligned reads Crits-Christoph\", \"sum\"),\n",
    "            aligned_reads_current_study=pd.NamedAgg(\"aligned reads current study\", \"sum\"),\n",
    "        )\n",
    "    )\n",
    ")\n",
    "\n",
    "crits_christoph_vs_current_run_corr.sort_values(\"correlation\")"
   ]
  },
  {
   "cell_type": "markdown",
   "id": "060ef350-67e0-4690-b2b6-65af8245a757",
   "metadata": {},
   "source": [
    "Plot the correlations by run:"
   ]
  },
  {
   "cell_type": "code",
   "execution_count": null,
   "id": "c8aed3b3-6113-40ab-83df-eec514e825b1",
   "metadata": {
    "tags": []
   },
   "outputs": [],
   "source": [
    "aligned_reads_current_slider = alt.param(\n",
    "    bind=alt.binding_range(\n",
    "        name=\"minimum aligned reads in current study\",\n",
    "        min=0,\n",
    "        max=1000,\n",
    "    ),\n",
    "    value=50,\n",
    ")\n",
    "\n",
    "aligned_reads_crits_christoph_slider = alt.param(\n",
    "    bind=alt.binding_range(\n",
    "        name=\"minimum aligned reads in Crits-Christoph et al\",\n",
    "        min=0,\n",
    "        max=1000,\n",
    "    ),\n",
    "    value=50,\n",
    ")\n",
    "\n",
    "crits_christoph_vs_current_run_corr_chart = (\n",
    "    alt.Chart(crits_christoph_vs_current_run_corr)\n",
    "    .encode(\n",
    "        x=alt.X(\n",
    "            \"Run accession\",\n",
    "            sort=alt.SortField(\"correlation\", order=\"descending\"),\n",
    "        ),\n",
    "        y=alt.Y(\"correlation\", title=\"Pearson correlation\"),\n",
    "        tooltip=[\n",
    "            alt.Tooltip(c, format=\".4g\")\n",
    "            if crits_christoph_vs_current_run_corr[c].dtype == float\n",
    "            else c\n",
    "            for c in crits_christoph_vs_current_run_corr.columns.tolist()\n",
    "        ],\n",
    "    )\n",
    "    .mark_circle(size=50, opacity=1)\n",
    "    .properties(\n",
    "        width=alt.Step(11),\n",
    "        height=150,\n",
    "        title=(\n",
    "            \"Correlation in read counts aligned to mitochondrial genomes of different \"\n",
    "            \"species in Crits-Christoph et al and current study\"\n",
    "        )\n",
    "    )\n",
    "    .add_params(aligned_reads_current_slider, aligned_reads_crits_christoph_slider)\n",
    "    .transform_filter(\n",
    "        alt.datum[\"aligned_reads_current_study\"] >= aligned_reads_current_slider\n",
    "    )\n",
    "    .transform_filter(\n",
    "        alt.datum[\"aligned_reads_Crits_Christoph\"] >= aligned_reads_crits_christoph_slider\n",
    "    )\n",
    ")\n",
    "\n",
    "crits_christoph_vs_current_run_corr_chart"
   ]
  },
  {
   "cell_type": "markdown",
   "id": "64a1950a-5692-4675-b6c3-74c37966d2af",
   "metadata": {},
   "source": [
    "## Plot mitochondrial composition for samples\n",
    "First, for each sample we get just the species that are sufficiently abundant in either the full species set or the Crits-Christoph species set, and call other species \"other\":"
   ]
  },
  {
   "cell_type": "code",
   "execution_count": null,
   "id": "db686fdc-cbac-4b7f-9796-98e4213959b1",
   "metadata": {
    "tags": []
   },
   "outputs": [],
   "source": [
    "assert set(crits_christoph_species).issubset(mito_composition_by_sample[\"species\"])\n",
    "\n",
    "group_as_other_cutoff = 5  # group as \"other\" if < this %\n",
    "max_species_per_sample = 10  # group as other lower percents so we never get more than this many\n",
    "\n",
    "# require at least this many reads aligned to mitochondrial genomes\n",
    "min_mito_reads = 100\n",
    "\n",
    "composition_df = (\n",
    "    mito_composition_by_sample\n",
    "    .assign(\n",
    "        cc_species=lambda x: x[\"species\"].isin(crits_christoph_species),\n",
    "        total_mito=lambda x: x.groupby(\"sample\")[\"aligned_reads\"].transform(\"sum\"),\n",
    "        aligned_reads_cc=lambda x: x[\"aligned_reads\"].where(x[\"cc_species\"], 0),\n",
    "        total_mito_cc=lambda x: x.groupby(\"sample\")[\"aligned_reads_cc\"].transform(\"sum\"),\n",
    "        percent=lambda x: 100 * x[\"aligned_reads\"] / x[\"total_mito\"],\n",
    "        percent_cc=lambda x: 100 * x[\"aligned_reads_cc\"] / x[\"total_mito_cc\"],\n",
    "        rank=lambda x: x.groupby(\"sample\")[\"aligned_reads\"].transform(\"rank\", method=\"first\", ascending=False),\n",
    "        other=lambda x: (\n",
    "            (x[[\"percent\", \"percent_cc\"]].max(axis=1) < group_as_other_cutoff)\n",
    "            | (x[\"rank\"] >= max_species_per_sample)\n",
    "        ),\n",
    "        species=lambda x: x[\"species\"].where(~x[\"other\"], \"other\"),\n",
    "        common_name=lambda x: x[\"common_name\"].where(~x[\"other\"], \"other\"),\n",
    "    )\n",
    "    .query(\"total_mito > @min_mito_reads\")\n",
    "    .groupby([\"sample\", \"species\", \"common_name\"], as_index=False)\n",
    "    [[\"aligned_reads\", \"aligned_reads_cc\", \"percent\", \"percent_cc\"]]\n",
    "    .aggregate(\"sum\")\n",
    ")\n",
    "\n",
    "composition_df = (\n",
    "    composition_df\n",
    "    .rename(columns={\"aligned_reads\": \"all\", \"aligned_reads_cc\": \"crits_christoph\"})\n",
    "    .melt(\n",
    "        id_vars=[\"sample\", \"species\", \"common_name\"],\n",
    "        value_vars=[\"all\", \"crits_christoph\"],\n",
    "        value_name=\"aligned_reads\",\n",
    "        var_name=\"species_set\",\n",
    "    )\n",
    "    .merge(\n",
    "        composition_df\n",
    "        .rename(columns={\"percent\": \"all\", \"percent_cc\": \"crits_christoph\"})\n",
    "        .melt(\n",
    "            id_vars=[\"sample\", \"species\", \"common_name\"],\n",
    "            value_vars=[\"all\", \"crits_christoph\"],\n",
    "            value_name=\"percent\",\n",
    "            var_name=\"species_set\",\n",
    "        )\n",
    "    )\n",
    "    .assign(\n",
    "        species_set=lambda x: x[\"species_set\"].map(\n",
    "            {\n",
    "                \"all\": \"chordates (current study)\",\n",
    "                \"crits_christoph\": \"mammals (Crits-Christoph et al)\",\n",
    "            }\n",
    "        ),\n",
    "    )\n",
    ")\n",
    "\n",
    "composition_df"
   ]
  },
  {
   "cell_type": "markdown",
   "id": "aeed0b25-f5bc-41f1-8348-731c87b35730",
   "metadata": {},
   "source": [
    "Now make pie charts:"
   ]
  },
  {
   "cell_type": "code",
   "execution_count": null,
   "id": "cd37ae1e-e419-413a-b494-2446a86109fc",
   "metadata": {
    "tags": []
   },
   "outputs": [],
   "source": [
    "sample_selection = alt.selection_point(\n",
    "    fields=[\"sample\"],\n",
    "    bind=alt.binding_select(\n",
    "        options=composition_df[\"sample\"].unique(),\n",
    "        name=\"sample\",\n",
    "    ),\n",
    "    value=\"Q61\",\n",
    ")\n",
    "\n",
    "species_set_selection = alt.selection_point(\n",
    "    fields=[\"species_set\"],\n",
    "    bind=alt.binding_select(\n",
    "        options=[None, *composition_df[\"species_set\"].unique()],\n",
    "        labels=[\"all\", *composition_df[\"species_set\"].unique()],\n",
    "        name=\"species set(s) to show\",\n",
    "    ),\n",
    ")\n",
    "\n",
    "composition_chart = (\n",
    "    alt.Chart(composition_df)\n",
    "    .encode(\n",
    "        theta=\"percent\",\n",
    "        color=alt.Color(\n",
    "            \"common_name\",\n",
    "            title=\"species (common name)\",\n",
    "            legend=alt.Legend(\n",
    "                orient=\"right\", columns=1, symbolSize=125, symbolType=\"square\", labelLimit=0,\n",
    "            ),\n",
    "        ),\n",
    "        column=alt.Column(\n",
    "            \"species_set\",\n",
    "            title=None,\n",
    "            sort=\"descending\",\n",
    "            header=alt.Header(labelFontSize=11, labelFontWeight=\"bold\"),\n",
    "        ),\n",
    "        tooltip=[\n",
    "            alt.Tooltip(c, format=\".3g\") if composition_df[c].dtype == float else c\n",
    "            for c in composition_df.columns\n",
    "        ],\n",
    "    )\n",
    "    .mark_arc()\n",
    "    .add_params(sample_selection, species_set_selection)\n",
    "    .transform_filter(sample_selection)\n",
    "    .transform_filter(species_set_selection)\n",
    "    .properties(height=175, width=175)\n",
    ")\n",
    "\n",
    "composition_chart"
   ]
  },
  {
   "cell_type": "markdown",
   "id": "828353b5-317d-4d70-8219-9669b878bcd1",
   "metadata": {},
   "source": [
    "## Distribution of amount of SARS-CoV-2 per sample\n",
    "First add annotations of top species to number of SARS2 aligned reads per sample:"
   ]
  },
  {
   "cell_type": "code",
   "execution_count": null,
   "id": "acfec5b8-411e-4ca0-a2bd-a7219ba8ea77",
   "metadata": {
    "tags": []
   },
   "outputs": [],
   "source": [
    "top_species_annotation = (\n",
    "    composition_df\n",
    "    .query(\"species_set == 'chordates (current study)'\")\n",
    "    .assign(\n",
    "        top_species=lambda x: x[\"common_name\"] + \" (\" + x[\"percent\"].round().astype(int).astype(str) + \"%)\"\n",
    "    )\n",
    "    .sort_values(\"percent\", ascending=False)\n",
    "    .groupby(\"sample\", as_index=False)\n",
    "    .aggregate({\"top_species\": lambda s: \", \".join(s)})\n",
    ")\n",
    "\n",
    "sars2_aligned_df = sars2_aligned_by_sample.merge(top_species_annotation, how=\"left\")"
   ]
  },
  {
   "cell_type": "code",
   "execution_count": null,
   "id": "2e63110d-1d40-4cf0-b279-289b1c389873",
   "metadata": {
    "tags": []
   },
   "outputs": [],
   "source": [
    "date_selection = alt.selection_point(\n",
    "    fields=[\"Collection date\"],\n",
    "    bind=\"legend\",\n",
    "    toggle=\"true\",\n",
    ")\n",
    "\n",
    "source_selection = alt.selection_point(\n",
    "    fields=[\"Isolation source\"],\n",
    "    bind=\"legend\",\n",
    "    toggle=\"true\",\n",
    ")\n",
    "\n",
    "sars2_aligned_chart = (\n",
    "    alt.Chart(sars2_aligned_df)\n",
    "    .encode(\n",
    "        x=alt.X(\n",
    "            \"sample\",\n",
    "            sort=alt.SortField(\"% reads aligning to SARS2\", order=\"descending\"),\n",
    "        ),\n",
    "        y=alt.Y(\n",
    "            \"% reads aligning to SARS2\",\n",
    "            title=\"% reads aligning to SARS2 (symlog scale)\",\n",
    "            scale=alt.Scale(type=\"symlog\", constant=0.00001),\n",
    "        ),\n",
    "        color=alt.Color(\n",
    "            \"Collection date:O\",\n",
    "            scale=alt.Scale(\n",
    "                domain=sorted(sars2_aligned_df[\"Collection date\"].unique()),\n",
    "                scheme=\"viridis\",\n",
    "                reverse=True,\n",
    "            ),\n",
    "            legend=alt.Legend(orient=\"bottom\", columns=7),\n",
    "        ),\n",
    "        tooltip=[\n",
    "            alt.Tooltip(c, format=\".3~g\")\n",
    "            if sars2_aligned_df[c].dtype in [float, int]\n",
    "            else c\n",
    "            for c in sars2_aligned_df.columns\n",
    "        ],\n",
    "    )\n",
    "    .mark_point(size=60, opacity=1, filled=True)\n",
    "    .properties(width=alt.Step(12), height=220)\n",
    "    .add_params(date_selection, source_selection)\n",
    "    .transform_filter(source_selection)\n",
    "    .transform_filter(date_selection)\n",
    ")\n",
    "\n",
    "sars2_aligned_chart"
   ]
  },
  {
   "cell_type": "markdown",
   "id": "e4dcc522-d75d-41cc-b0c9-692e30b9e00e",
   "metadata": {},
   "source": [
    "## Per species correlations with SARS2 reads\n",
    "Make plots that correlation percent of reads aligned to SARS2 with percent aligned to each species:"
   ]
  },
  {
   "cell_type": "code",
   "execution_count": null,
   "id": "2b673a88-5535-4370-b338-49b5265f5e17",
   "metadata": {
    "tags": []
   },
   "outputs": [],
   "source": [
    "per_species_corr_df = (\n",
    "    mito_composition_by_sample\n",
    "    .drop(columns=[\"reference_id\", \"species\"])\n",
    "    .assign(\n",
    "        percent_SARS2=lambda x: 100 * x[\"SARS2_aligned_reads\"] / x[\"preprocessed_reads\"],\n",
    "        percent_mitochondria=lambda x: 100 * x[\"aligned_reads\"] / x[\"preprocessed_reads\"],\n",
    "    )\n",
    "    .rename(\n",
    "        columns={\n",
    "            \"aligned_reads\": \"mitochondrial_aligned_reads\",\n",
    "            \"percent_SARS2\": \"% reads aligning to SARS2\",\n",
    "            \"percent_mitochondria\": \"% reads aligning to species mitochondria\",\n",
    "            \"common_name\": \"species (common name)\",\n",
    "        }\n",
    "    )\n",
    "    .merge(top_species_annotation, how=\"left\")\n",
    ")\n",
    "\n",
    "per_species_corr_df"
   ]
  },
  {
   "cell_type": "code",
   "execution_count": null,
   "id": "088f9845-c8c5-47ca-a5bb-09ca925e95d7",
   "metadata": {
    "tags": []
   },
   "outputs": [],
   "source": [
    "per_species_corr_chart = (\n",
    "    alt.Chart(per_species_corr_df)\n",
    "    .encode(\n",
    "        x=\"% reads aligning to species mitochondria\",\n",
    "        y=\"% reads aligning to SARS2\",\n",
    "        tooltip=[\n",
    "            alt.Tooltip(c, format=\".3~g\")\n",
    "            if per_species_corr_df[c].dtype in [float, int]\n",
    "            else c\n",
    "            for c in per_species_corr_df.columns\n",
    "        ],\n",
    "    )\n",
    "    .mark_circle(size=50)\n",
    "    .facet(\"species (common name)\")\n",
    ")\n",
    "\n",
    "per_species_corr_chart"
   ]
  },
  {
   "cell_type": "code",
   "execution_count": null,
   "id": "30b34c8e-aaa1-42d0-a6bf-7347912e008b",
   "metadata": {
    "tags": []
   },
   "outputs": [],
   "source": [
    "mito_composition_by_sample.query(\"sample == 'A20'\").sort_values(\"aligned_reads\")"
   ]
  },
  {
   "cell_type": "code",
   "execution_count": null,
   "id": "7484a88a-412c-4a4d-9f07-1f5e63ad5ebb",
   "metadata": {},
   "outputs": [],
   "source": []
  }
 ],
 "metadata": {
  "kernelspec": {
   "display_name": "Python 3 (ipykernel)",
   "language": "python",
   "name": "python3"
  },
  "language_info": {
   "codemirror_mode": {
    "name": "ipython",
    "version": 3
   },
   "file_extension": ".py",
   "mimetype": "text/x-python",
   "name": "python",
   "nbconvert_exporter": "python",
   "pygments_lexer": "ipython3",
   "version": "3.10.8"
  }
 },
 "nbformat": 4,
 "nbformat_minor": 5
}
