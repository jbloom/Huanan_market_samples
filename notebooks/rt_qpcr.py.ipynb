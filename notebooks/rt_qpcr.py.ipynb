{
 "cells": [
  {
   "cell_type": "markdown",
   "id": "ee9cd5e2-d326-4103-a6c7-715fd894214d",
   "metadata": {},
   "source": [
    "# Analyze samples in positive table of Chinese CDC study\n",
    "Importantly, we perform this analysis only for metagenomic samples."
   ]
  },
  {
   "cell_type": "markdown",
   "id": "15a47165-ac7c-46b5-a405-12ce80d935a8",
   "metadata": {},
   "source": [
    "Import Python modules and read data from `snakemake` passed files:"
   ]
  },
  {
   "cell_type": "code",
   "execution_count": null,
   "id": "00e50671-958f-40c7-a69c-073a7ce46286",
   "metadata": {
    "tags": []
   },
   "outputs": [],
   "source": [
    "import altair as alt\n",
    "\n",
    "import numpy\n",
    "\n",
    "import pandas as pd\n",
    "\n",
    "positive_table = pd.read_csv(snakemake.input.positive_table)\n",
    "\n",
    "# get only metagenomic samples\n",
    "sars2_by_sample = pd.read_csv(snakemake.input.sars2_aligned_by_sample).query(\n",
    "    \"description in @snakemake.params.metagenomic_descriptions\"\n",
    ")"
   ]
  },
  {
   "cell_type": "markdown",
   "id": "e65ab7b0-72a8-4d06-b8dc-257fe2d1fbab",
   "metadata": {},
   "source": [
    "Merge the data for all samples that are in the positive table or have non-zero SARS2 reads:"
   ]
  },
  {
   "cell_type": "code",
   "execution_count": null,
   "id": "42a428f8-228a-4ec9-a40e-dd751a41ef6d",
   "metadata": {
    "tags": []
   },
   "outputs": [],
   "source": [
    "merged = (\n",
    "    sars2_by_sample\n",
    "    .merge(\n",
    "        positive_table.rename(\n",
    "            columns={\"Sample ID\": \"Sample name\", \"Lab code\": \"sample\"}\n",
    "        ),\n",
    "        on=[\"sample\", \"Sample name\"],\n",
    "        validate=\"one_to_one\",\n",
    "        how=\"outer\",\n",
    "    )\n",
    ")"
   ]
  },
  {
   "cell_type": "markdown",
   "id": "935bd27b-bbf7-41ee-bebe-673088480407",
   "metadata": {
    "execution": {
     "iopub.execute_input": "2023-04-24T14:24:10.620242Z",
     "iopub.status.busy": "2023-04-24T14:24:10.619601Z",
     "iopub.status.idle": "2023-04-24T14:24:10.629962Z",
     "shell.execute_reply": "2023-04-24T14:24:10.628847Z",
     "shell.execute_reply.started": "2023-04-24T14:24:10.620194Z"
    },
    "tags": []
   },
   "source": [
    "Classify samples as:\n",
    "  - PCR+ / no sequencing\n",
    "  - PCR+ / sequencing+\n",
    "  - PCR+ / sequencing-\n",
    "  - PCR- / no sequencing\n",
    "  - PCR- / sequencing+\n",
    "  - PCR- / sequencing-\n",
    "\n",
    "Samples are sequencing+ if they have at least one SARS-CoV-2 read:"
   ]
  },
  {
   "cell_type": "code",
   "execution_count": null,
   "id": "1c2f2e42-bcc4-473a-8f96-a65ec12957ce",
   "metadata": {
    "tags": []
   },
   "outputs": [],
   "source": [
    "def classify_sample(row):\n",
    "    if row[\"PCR\"] == \"+\":\n",
    "        pcr = \"PCR+\"\n",
    "    else:\n",
    "        pcr = \"PCR-\"\n",
    "    if pd.isnull(row[\"SARS2_aligned_reads\"]):\n",
    "        seq = \"no sequencing\"\n",
    "    elif row[\"SARS2_aligned_reads\"] == 0:\n",
    "        seq = \"sequencing-\"\n",
    "    else:\n",
    "        assert row[\"SARS2_aligned_reads\"] > 0\n",
    "        seq = \"sequencing+\"\n",
    "    return f\"{pcr} / {seq}\"\n",
    "\n",
    "merged[\"classification\"] = merged.apply(classify_sample, axis=1)\n",
    "\n",
    "# write to file\n",
    "merged.to_csv(snakemake.output.csv, index=False, float_format=\"%.5g\")\n",
    "\n",
    "merged.groupby(\"classification\").aggregate(n_samples=pd.NamedAgg(\"classification\", \"count\"))"
   ]
  },
  {
   "cell_type": "markdown",
   "id": "d30ff672-0ae5-4848-af44-90d4f0b7b2e9",
   "metadata": {},
   "source": [
    "Look at the samples that are PCR- but contain SARS-CoV-2 reads in the sequencing:"
   ]
  },
  {
   "cell_type": "code",
   "execution_count": null,
   "id": "517d50e0-8ca2-4ab4-806b-06b37916a0aa",
   "metadata": {
    "tags": []
   },
   "outputs": [],
   "source": [
    "merged.query(\"classification == 'PCR- / sequencing+'\")"
   ]
  },
  {
   "cell_type": "markdown",
   "id": "3b3e2150-965c-4a28-81e7-f380b2ebe3e8",
   "metadata": {},
   "source": [
    "Plot correlation of Ct with SARS-CoV-2 reads.\n",
    "A missing Ct value is taken to be 40 (the limit of detection), as all samples were tested by RT-qPCR.\n",
    "If there are multiple Ct values, take the mean.\n",
    "If the Ct value is just `+`, ignore that sample as we don't have a quantitative value to plot:"
   ]
  },
  {
   "cell_type": "code",
   "execution_count": null,
   "id": "fdfd2bbe-90f9-4fed-a389-6eeceb292660",
   "metadata": {
    "tags": []
   },
   "outputs": [],
   "source": [
    "ct_vs_reads = (\n",
    "    merged\n",
    "    .query(\"percent_preprocessed_reads_aligning_to_SARS2.notnull()\")\n",
    "    .query(\"CT != '+'\")\n",
    "    .assign(\n",
    "        Ct=lambda x: x[\"CT\"].map(\n",
    "            lambda ct: (\n",
    "                40\n",
    "                if pd.isnull(ct)\n",
    "                else numpy.mean([float(c) for c in ct.split(\"/\")])\n",
    "            )\n",
    "        ),\n",
    "    )\n",
    "    [[\n",
    "        \"sample\",\n",
    "        \"Sample name\",\n",
    "        \"Collection date\",\n",
    "        \"Isolation source\",\n",
    "        \"total_reads\",\n",
    "        \"preprocessed_reads\",\n",
    "        \"SARS2_aligned_reads\",\n",
    "        \"percent_preprocessed_reads_aligning_to_SARS2\",\n",
    "        \"Sample type\",\n",
    "        \"PCR\",\n",
    "        \"Ct\",\n",
    "        \"PCR target\",\n",
    "        \"classification\",\n",
    "    ]]\n",
    "    .reset_index(drop=True)\n",
    ")\n",
    "\n",
    "ct_vs_reads"
   ]
  },
  {
   "cell_type": "markdown",
   "id": "087fd506-1679-4cd5-8689-e322c13cb231",
   "metadata": {},
   "source": [
    "Plot, putting SARS-CoV-2 percents in sequencing of zero as half minimum non-zero value:"
   ]
  },
  {
   "cell_type": "code",
   "execution_count": null,
   "id": "395f2959-e1cc-443f-aa6c-6528aac7a38a",
   "metadata": {
    "tags": []
   },
   "outputs": [],
   "source": [
    "plot_min_percent = (\n",
    "    ct_vs_reads\n",
    "    .query(\"percent_preprocessed_reads_aligning_to_SARS2 > 0\")\n",
    "    [\"percent_preprocessed_reads_aligning_to_SARS2\"]\n",
    "    .min()\n",
    ") / 2\n",
    "\n",
    "base_chart = (\n",
    "    alt.Chart(ct_vs_reads)\n",
    "    .transform_calculate(\n",
    "        clipped_percent=alt.expr.max(\n",
    "            alt.datum[\"percent_preprocessed_reads_aligning_to_SARS2\"], plot_min_percent\n",
    "        ),\n",
    "        log10_clipped_percent=alt.expr.log(alt.datum[\"clipped_percent\"]) / alt.expr.LN10,\n",
    "    )\n",
    "    .encode(\n",
    "        x=alt.X(\n",
    "            \"Ct\",\n",
    "            title=\"RT-qPCR Ct value\",\n",
    "            scale=alt.Scale(zero=False),\n",
    "        ),\n",
    "        y=alt.Y(\n",
    "            \"log10_clipped_percent:Q\",\n",
    "            scale=alt.Scale(zero=False, nice=False),\n",
    "            title=\"log10 % reads mapping to SARS2\",\n",
    "        ),\n",
    "        tooltip=ct_vs_reads.columns.tolist(),\n",
    "    )\n",
    "    .mark_circle(size=60, opacity=0.5)\n",
    "    .properties(width=200, height=200)\n",
    ")\n",
    "\n",
    "line_chart = (\n",
    "    base_chart\n",
    "    .transform_regression(\"Ct\", \"log10_clipped_percent\")\n",
    "    .mark_line(color=\"orange\", size=6, opacity=0.35)\n",
    ")\n",
    "\n",
    "r_chart = (\n",
    "    base_chart\n",
    "    .transform_regression(\"Ct\", \"log10_clipped_percent\", params=True)\n",
    "    .transform_calculate(\n",
    "        r=alt.expr.if_(\n",
    "            alt.datum[\"coef\"][1] >= 0,\n",
    "            alt.expr.sqrt(alt.datum[\"rSquared\"]),\n",
    "            -alt.expr.sqrt(alt.datum[\"rSquared\"]),\n",
    "        ),\n",
    "        label='\"r = \" + format(datum.r, \".2f\")',\n",
    "    )\n",
    "    .mark_text(align=\"left\", color=\"orange\", fontWeight=500, fontSize=12)\n",
    "    .encode(\n",
    "        x=alt.value(6),\n",
    "        y=alt.value(8),\n",
    "        text=alt.Text(\"label:N\"),\n",
    "    )\n",
    ")\n",
    "\n",
    "ct_vs_reads_chart = (\n",
    "    (base_chart + line_chart + r_chart)\n",
    "    .configure_axis(grid=False)\n",
    ")\n",
    "\n",
    "ct_vs_reads_chart.save(snakemake.output.html)\n",
    "\n",
    "ct_vs_reads_chart"
   ]
  },
  {
   "cell_type": "code",
   "execution_count": null,
   "id": "0e8a4aa8-7436-483e-9cbd-6524885c06a9",
   "metadata": {},
   "outputs": [],
   "source": []
  }
 ],
 "metadata": {
  "kernelspec": {
   "display_name": "Python 3 (ipykernel)",
   "language": "python",
   "name": "python3"
  },
  "language_info": {
   "codemirror_mode": {
    "name": "ipython",
    "version": 3
   },
   "file_extension": ".py",
   "mimetype": "text/x-python",
   "name": "python",
   "nbconvert_exporter": "python",
   "pygments_lexer": "ipython3",
   "version": "3.10.8"
  }
 },
 "nbformat": 4,
 "nbformat_minor": 5
}
