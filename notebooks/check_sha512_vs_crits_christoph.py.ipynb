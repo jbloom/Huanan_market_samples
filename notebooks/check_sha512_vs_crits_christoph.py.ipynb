{
 "cells": [
  {
   "cell_type": "markdown",
   "id": "a3fcd734-e74f-46bb-b793-74b98c2773dc",
   "metadata": {},
   "source": [
    "# Check the SHA-512 checksums of downloaded FASTQs versus those from Crits Christoph et al"
   ]
  },
  {
   "cell_type": "code",
   "execution_count": null,
   "id": "3e6957d4-ca3e-421d-93e1-20448998b462",
   "metadata": {
    "tags": []
   },
   "outputs": [],
   "source": [
    "import ast\n",
    "import os\n",
    "\n",
    "import pandas as pd"
   ]
  },
  {
   "cell_type": "markdown",
   "id": "66c4c26b-8572-47e6-82b2-1a11d43d52c2",
   "metadata": {},
   "source": [
    "Read Crits-Christoph et al data on checksums:"
   ]
  },
  {
   "cell_type": "code",
   "execution_count": null,
   "id": "c890b64a-a6c5-4ff7-9529-85ce7854b912",
   "metadata": {
    "tags": []
   },
   "outputs": [],
   "source": [
    "cc_checksums = (\n",
    "    pd.read_csv(snakemake.input.cc_checksums)\n",
    "    .drop(columns=[\"File Size (bytes)\", \"Number of Reads\", \"Download Time (Pacific)\"])\n",
    "    .rename(columns={\"File Name\": \"fastq\"})\n",
    "    .assign(SHA512=lambda x: x[\"SHA512\"].str.lower())\n",
    "    .query(\"SHA512 != 'missing from gisaid'\")\n",
    ")\n",
    "\n",
    "cc_checksums"
   ]
  },
  {
   "cell_type": "markdown",
   "id": "823bd8a3-9eea-4220-a2b8-a09ff5c7006d",
   "metadata": {},
   "source": [
    "Get checksums for downloaded FASTQs from NGDC:\n",
    "\n",
    "First get metadata for all downloaded FASTQs:"
   ]
  },
  {
   "cell_type": "code",
   "execution_count": null,
   "id": "9ec079ff-8e63-40cf-a040-5388938d238c",
   "metadata": {
    "tags": []
   },
   "outputs": [],
   "source": [
    "metadata = (\n",
    "    pd.read_csv(snakemake.input.metadata, converters={\"fastqs\": ast.literal_eval})\n",
    "    [[\"Run accession\", \"Sample name\", \"Sample title\", \"Collection date\", \"fastqs\"]]\n",
    "    .explode(\"fastqs\")\n",
    "    .rename(\n",
    "        columns={\n",
    "            \"fastqs\": \"fastq\",\n",
    "            \"Sample name\": \"Sample name NGDC\",\n",
    "            \"Run accession\": \"Run accession NGDC\",\n",
    "        },\n",
    "    )\n",
    "    .reset_index(drop=True)\n",
    ")\n",
    "\n",
    "metadata"
   ]
  },
  {
   "cell_type": "markdown",
   "id": "cb962651-b4c0-44f8-b51c-69b6cf074ff8",
   "metadata": {},
   "source": [
    "Now merge these metadata with the computed checksums:"
   ]
  },
  {
   "cell_type": "code",
   "execution_count": null,
   "id": "e9258f3c-cfc6-4c4e-8d46-4ea5999886d5",
   "metadata": {
    "tags": []
   },
   "outputs": [],
   "source": [
    "records = []\n",
    "\n",
    "for checksum_files in [snakemake.input.checksums, snakemake.input.checksums_nogz]:\n",
    "    for checksum_file in checksum_files:\n",
    "        with open(checksum_file) as f:\n",
    "            checksum, fullpath = f.read().strip().split()\n",
    "        records.append((checksum, os.path.basename(fullpath)))\n",
    "\n",
    "downloaded = (\n",
    "    pd.DataFrame(records, columns=[\"SHA512\", \"fastq\"])\n",
    "    .assign(\n",
    "        fastq_gz=lambda x: x[\"fastq\"].where(\n",
    "            x[\"fastq\"].str.endswith(\".gz\"), x[\"fastq\"] + \".gz\"\n",
    "        ),\n",
    "    )\n",
    "    .merge(\n",
    "        metadata.rename(columns={\"fastq\": \"merge_fastq\"}),\n",
    "        left_on=\"fastq_gz\",\n",
    "        right_on=\"merge_fastq\",\n",
    "        how=\"outer\",\n",
    "        validate=\"many_to_one\",\n",
    "    )\n",
    "    .drop(columns=[\"fastq_gz\", \"merge_fastq\"])\n",
    ")\n",
    "\n",
    "assert downloaded.notnull().all().all()\n",
    "\n",
    "downloaded"
   ]
  },
  {
   "cell_type": "markdown",
   "id": "97a8f6c3-1961-498b-9fdf-90991a169ffe",
   "metadata": {},
   "source": [
    "Now merge the Crits-Christoph and downloaded checksums and see if they match for the shared files:"
   ]
  },
  {
   "cell_type": "code",
   "execution_count": null,
   "id": "3e96d8b9-99f4-472d-8115-6451dba4bb42",
   "metadata": {
    "tags": []
   },
   "outputs": [],
   "source": [
    "merged = (\n",
    "    cc_checksums\n",
    "    .merge(\n",
    "        downloaded,\n",
    "        how=\"left\",\n",
    "        on=\"SHA512\",\n",
    "        validate=\"one_to_one\",\n",
    "        suffixes=[\" Crits-Christoph\", \" NGDC\"],\n",
    "    )\n",
    ")\n",
    "\n",
    "assert set(cc_checksums[\"SHA512\"]).issubset(downloaded[\"SHA512\"]) \n",
    "\n",
    "assert merged.notnull().all().all()\n",
    "\n",
    "assert (merged[\"Sample title Crits-Christoph\"] == merged[\"Sample title NGDC\"]).all()\n",
    "\n",
    "assert (merged[\"Collection date Crits-Christoph\"] == merged[\"Collection date NGDC\"]).all()\n",
    "\n",
    "merged.to_csv(snakemake.output.csv, index=False)\n",
    "\n",
    "merged"
   ]
  }
 ],
 "metadata": {
  "kernelspec": {
   "display_name": "Python 3 (ipykernel)",
   "language": "python",
   "name": "python3"
  },
  "language_info": {
   "codemirror_mode": {
    "name": "ipython",
    "version": 3
   },
   "file_extension": ".py",
   "mimetype": "text/x-python",
   "name": "python",
   "nbconvert_exporter": "python",
   "pygments_lexer": "ipython3",
   "version": "3.10.8"
  }
 },
 "nbformat": 4,
 "nbformat_minor": 5
}
