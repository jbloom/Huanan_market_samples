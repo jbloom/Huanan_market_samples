{
 "cells": [
  {
   "cell_type": "markdown",
   "id": "aa01eedb-fcbd-45b5-a642-c308b717a25c",
   "metadata": {},
   "source": [
    "# Aggregate all the various counts and metadata"
   ]
  },
  {
   "cell_type": "code",
   "execution_count": 1,
   "id": "e5194a55-7bf3-409a-a012-25b90d8e81f1",
   "metadata": {
    "execution": {
     "iopub.execute_input": "2023-04-04T13:37:11.066265Z",
     "iopub.status.busy": "2023-04-04T13:37:11.065786Z",
     "iopub.status.idle": "2023-04-04T13:37:11.396773Z",
     "shell.execute_reply": "2023-04-04T13:37:11.395181Z",
     "shell.execute_reply.started": "2023-04-04T13:37:11.066228Z"
    }
   },
   "outputs": [],
   "source": [
    "######## snakemake preamble start (automatically inserted, do not edit) ########\n",
    "import sys; sys.path.extend(['/fh/fast/bloom_j/software/miniconda3/envs/Huanan_market_samples/lib/python3.10/site-packages', '/home/jbloom/.cache/snakemake/snakemake/source-cache/runtime-cache/tmpv6p3z289/file/fh/fast/bloom_j/computational_notebooks/jbloom/2023/Huanan_market_samples/notebooks', '/fh/fast/bloom_j/computational_notebooks/jbloom/2023/Huanan_market_samples/notebooks']); import pickle; snakemake = pickle.loads(b'\\x80\\x04\\x95-^\\x00\\x00\\x00\\x00\\x00\\x00\\x8c\\x10snakemake.script\\x94\\x8c\\tSnakemake\\x94\\x93\\x94)\\x81\\x94}\\x94(\\x8c\\x05input\\x94\\x8c\\x0csnakemake.io\\x94\\x8c\\nInputFiles\\x94\\x93\\x94)\\x81\\x94(\\x8c.results/tallied_alignment_counts/CRR710761.csv\\x94\\x8c.results/tallied_alignment_counts/CRR710762.csv\\x94\\x8c.results/tallied_alignment_counts/CRR710763.csv\\x94\\x8c.results/tallied_alignment_counts/CRR710764.csv\\x94\\x8c.results/tallied_alignment_counts/CRR710765.csv\\x94\\x8c.results/tallied_alignment_counts/CRR710766.csv\\x94\\x8c.results/tallied_alignment_counts/CRR710767.csv\\x94\\x8c.results/tallied_alignment_counts/CRR710768.csv\\x94\\x8c.results/tallied_alignment_counts/CRR710769.csv\\x94\\x8c.results/tallied_alignment_counts/CRR710770.csv\\x94\\x8c.results/tallied_alignment_counts/CRR710771.csv\\x94\\x8c.results/tallied_alignment_counts/CRR710772.csv\\x94\\x8c.results/tallied_alignment_counts/CRR710773.csv\\x94\\x8c.results/tallied_alignment_counts/CRR710774.csv\\x94\\x8c.results/tallied_alignment_counts/CRR710775.csv\\x94\\x8c.results/tallied_alignment_counts/CRR710776.csv\\x94\\x8c.results/tallied_alignment_counts/CRR710777.csv\\x94\\x8c.results/tallied_alignment_counts/CRR710778.csv\\x94\\x8c.results/tallied_alignment_counts/CRR710779.csv\\x94\\x8c.results/tallied_alignment_counts/CRR710780.csv\\x94\\x8c.results/tallied_alignment_counts/CRR710781.csv\\x94\\x8c.results/tallied_alignment_counts/CRR710782.csv\\x94\\x8c.results/tallied_alignment_counts/CRR710783.csv\\x94\\x8c.results/tallied_alignment_counts/CRR710784.csv\\x94\\x8c.results/tallied_alignment_counts/CRR710785.csv\\x94\\x8c.results/tallied_alignment_counts/CRR710786.csv\\x94\\x8c.results/tallied_alignment_counts/CRR710787.csv\\x94\\x8c.results/tallied_alignment_counts/CRR710788.csv\\x94\\x8c.results/tallied_alignment_counts/CRR710789.csv\\x94\\x8c.results/tallied_alignment_counts/CRR711156.csv\\x94\\x8c.results/tallied_alignment_counts/CRR710790.csv\\x94\\x8c.results/tallied_alignment_counts/CRR710791.csv\\x94\\x8c.results/tallied_alignment_counts/CRR710792.csv\\x94\\x8c.results/tallied_alignment_counts/CRR710793.csv\\x94\\x8c.results/tallied_alignment_counts/CRR711157.csv\\x94\\x8c.results/tallied_alignment_counts/CRR710794.csv\\x94\\x8c.results/tallied_alignment_counts/CRR710795.csv\\x94\\x8c.results/tallied_alignment_counts/CRR710796.csv\\x94\\x8c.results/tallied_alignment_counts/CRR710797.csv\\x94\\x8c.results/tallied_alignment_counts/CRR711158.csv\\x94\\x8c.results/tallied_alignment_counts/CRR710798.csv\\x94\\x8c.results/tallied_alignment_counts/CRR710799.csv\\x94\\x8c.results/tallied_alignment_counts/CRR710800.csv\\x94\\x8c.results/tallied_alignment_counts/CRR710801.csv\\x94\\x8c.results/tallied_alignment_counts/CRR711159.csv\\x94\\x8c.results/tallied_alignment_counts/CRR710802.csv\\x94\\x8c.results/tallied_alignment_counts/CRR710803.csv\\x94\\x8c.results/tallied_alignment_counts/CRR710804.csv\\x94\\x8c.results/tallied_alignment_counts/CRR710805.csv\\x94\\x8c.results/tallied_alignment_counts/CRR710806.csv\\x94\\x8c.results/tallied_alignment_counts/CRR710807.csv\\x94\\x8c.results/tallied_alignment_counts/CRR711160.csv\\x94\\x8c.results/tallied_alignment_counts/CRR710808.csv\\x94\\x8c.results/tallied_alignment_counts/CRR710809.csv\\x94\\x8c.results/tallied_alignment_counts/CRR710810.csv\\x94\\x8c.results/tallied_alignment_counts/CRR710811.csv\\x94\\x8c.results/tallied_alignment_counts/CRR711161.csv\\x94\\x8c.results/tallied_alignment_counts/CRR710812.csv\\x94\\x8c.results/tallied_alignment_counts/CRR710813.csv\\x94\\x8c.results/tallied_alignment_counts/CRR710814.csv\\x94\\x8c.results/tallied_alignment_counts/CRR710815.csv\\x94\\x8c.results/tallied_alignment_counts/CRR710816.csv\\x94\\x8c.results/tallied_alignment_counts/CRR710817.csv\\x94\\x8c.results/tallied_alignment_counts/CRR710818.csv\\x94\\x8c.results/tallied_alignment_counts/CRR710819.csv\\x94\\x8c.results/tallied_alignment_counts/CRR710820.csv\\x94\\x8c.results/tallied_alignment_counts/CRR710821.csv\\x94\\x8c.results/tallied_alignment_counts/CRR710822.csv\\x94\\x8c.results/tallied_alignment_counts/CRR710823.csv\\x94\\x8c.results/tallied_alignment_counts/CRR710824.csv\\x94\\x8c.results/tallied_alignment_counts/CRR710825.csv\\x94\\x8c.results/tallied_alignment_counts/CRR710826.csv\\x94\\x8c.results/tallied_alignment_counts/CRR710827.csv\\x94\\x8c.results/tallied_alignment_counts/CRR710828.csv\\x94\\x8c.results/tallied_alignment_counts/CRR710829.csv\\x94\\x8c.results/tallied_alignment_counts/CRR710830.csv\\x94\\x8c.results/tallied_alignment_counts/CRR710831.csv\\x94\\x8c.results/tallied_alignment_counts/CRR710832.csv\\x94\\x8c.results/tallied_alignment_counts/CRR710833.csv\\x94\\x8c.results/tallied_alignment_counts/CRR710834.csv\\x94\\x8c.results/tallied_alignment_counts/CRR710835.csv\\x94\\x8c.results/tallied_alignment_counts/CRR711143.csv\\x94\\x8c.results/tallied_alignment_counts/CRR710836.csv\\x94\\x8c.results/tallied_alignment_counts/CRR710837.csv\\x94\\x8c.results/tallied_alignment_counts/CRR710838.csv\\x94\\x8c.results/tallied_alignment_counts/CRR710839.csv\\x94\\x8c.results/tallied_alignment_counts/CRR710840.csv\\x94\\x8c.results/tallied_alignment_counts/CRR710841.csv\\x94\\x8c.results/tallied_alignment_counts/CRR710842.csv\\x94\\x8c.results/tallied_alignment_counts/CRR710843.csv\\x94\\x8c.results/tallied_alignment_counts/CRR710844.csv\\x94\\x8c.results/tallied_alignment_counts/CRR710845.csv\\x94\\x8c.results/tallied_alignment_counts/CRR710846.csv\\x94\\x8c.results/tallied_alignment_counts/CRR710847.csv\\x94\\x8c.results/tallied_alignment_counts/CRR710848.csv\\x94\\x8c.results/tallied_alignment_counts/CRR710849.csv\\x94\\x8c.results/tallied_alignment_counts/CRR710850.csv\\x94\\x8c.results/tallied_alignment_counts/CRR710851.csv\\x94\\x8c.results/tallied_alignment_counts/CRR710852.csv\\x94\\x8c.results/tallied_alignment_counts/CRR710853.csv\\x94\\x8c.results/tallied_alignment_counts/CRR710854.csv\\x94\\x8c.results/tallied_alignment_counts/CRR710855.csv\\x94\\x8c.results/tallied_alignment_counts/CRR710856.csv\\x94\\x8c.results/tallied_alignment_counts/CRR710857.csv\\x94\\x8c.results/tallied_alignment_counts/CRR710858.csv\\x94\\x8c.results/tallied_alignment_counts/CRR710859.csv\\x94\\x8c.results/tallied_alignment_counts/CRR710860.csv\\x94\\x8c.results/tallied_alignment_counts/CRR710861.csv\\x94\\x8c.results/tallied_alignment_counts/CRR710862.csv\\x94\\x8c.results/tallied_alignment_counts/CRR710863.csv\\x94\\x8c.results/tallied_alignment_counts/CRR710864.csv\\x94\\x8c.results/tallied_alignment_counts/CRR710865.csv\\x94\\x8c.results/tallied_alignment_counts/CRR710866.csv\\x94\\x8c.results/tallied_alignment_counts/CRR710867.csv\\x94\\x8c.results/tallied_alignment_counts/CRR710868.csv\\x94\\x8c.results/tallied_alignment_counts/CRR710869.csv\\x94\\x8c.results/tallied_alignment_counts/CRR710870.csv\\x94\\x8c.results/tallied_alignment_counts/CRR710871.csv\\x94\\x8c.results/tallied_alignment_counts/CRR710872.csv\\x94\\x8c.results/tallied_alignment_counts/CRR710873.csv\\x94\\x8c.results/tallied_alignment_counts/CRR710874.csv\\x94\\x8c.results/tallied_alignment_counts/CRR710875.csv\\x94\\x8c.results/tallied_alignment_counts/CRR710876.csv\\x94\\x8c.results/tallied_alignment_counts/CRR710877.csv\\x94\\x8c.results/tallied_alignment_counts/CRR710878.csv\\x94\\x8c.results/tallied_alignment_counts/CRR710879.csv\\x94\\x8c.results/tallied_alignment_counts/CRR710880.csv\\x94\\x8c.results/tallied_alignment_counts/CRR710881.csv\\x94\\x8c.results/tallied_alignment_counts/CRR710882.csv\\x94\\x8c.results/tallied_alignment_counts/CRR710883.csv\\x94\\x8c.results/tallied_alignment_counts/CRR710884.csv\\x94\\x8c.results/tallied_alignment_counts/CRR710885.csv\\x94\\x8c.results/tallied_alignment_counts/CRR710886.csv\\x94\\x8c.results/tallied_alignment_counts/CRR710887.csv\\x94\\x8c.results/tallied_alignment_counts/CRR710888.csv\\x94\\x8c.results/tallied_alignment_counts/CRR710889.csv\\x94\\x8c.results/tallied_alignment_counts/CRR710890.csv\\x94\\x8c.results/tallied_alignment_counts/CRR710891.csv\\x94\\x8c.results/tallied_alignment_counts/CRR710892.csv\\x94\\x8c.results/tallied_alignment_counts/CRR710893.csv\\x94\\x8c.results/tallied_alignment_counts/CRR710894.csv\\x94\\x8c.results/tallied_alignment_counts/CRR710895.csv\\x94\\x8c.results/tallied_alignment_counts/CRR710896.csv\\x94\\x8c.results/tallied_alignment_counts/CRR710897.csv\\x94\\x8c.results/tallied_alignment_counts/CRR710898.csv\\x94\\x8c.results/tallied_alignment_counts/CRR710899.csv\\x94\\x8c.results/tallied_alignment_counts/CRR710900.csv\\x94\\x8c.results/tallied_alignment_counts/CRR710901.csv\\x94\\x8c.results/tallied_alignment_counts/CRR710902.csv\\x94\\x8c.results/tallied_alignment_counts/CRR710903.csv\\x94\\x8c.results/tallied_alignment_counts/CRR710904.csv\\x94\\x8c.results/tallied_alignment_counts/CRR710905.csv\\x94\\x8c.results/tallied_alignment_counts/CRR710906.csv\\x94\\x8c.results/tallied_alignment_counts/CRR710907.csv\\x94\\x8c.results/tallied_alignment_counts/CRR710908.csv\\x94\\x8c.results/tallied_alignment_counts/CRR710909.csv\\x94\\x8c.results/tallied_alignment_counts/CRR710910.csv\\x94\\x8c.results/tallied_alignment_counts/CRR710911.csv\\x94\\x8c.results/tallied_alignment_counts/CRR710912.csv\\x94\\x8c.results/tallied_alignment_counts/CRR710913.csv\\x94\\x8c.results/tallied_alignment_counts/CRR710914.csv\\x94\\x8c.results/tallied_alignment_counts/CRR710915.csv\\x94\\x8c.results/tallied_alignment_counts/CRR710916.csv\\x94\\x8c.results/tallied_alignment_counts/CRR710917.csv\\x94\\x8c.results/tallied_alignment_counts/CRR710918.csv\\x94\\x8c.results/tallied_alignment_counts/CRR710919.csv\\x94\\x8c.results/tallied_alignment_counts/CRR710920.csv\\x94\\x8c.results/tallied_alignment_counts/CRR710921.csv\\x94\\x8c.results/tallied_alignment_counts/CRR710922.csv\\x94\\x8c.results/tallied_alignment_counts/CRR710923.csv\\x94\\x8c.results/tallied_alignment_counts/CRR710924.csv\\x94\\x8c.results/tallied_alignment_counts/CRR710925.csv\\x94\\x8c.results/tallied_alignment_counts/CRR710926.csv\\x94\\x8c.results/tallied_alignment_counts/CRR710927.csv\\x94\\x8c.results/tallied_alignment_counts/CRR710928.csv\\x94\\x8c.results/tallied_alignment_counts/CRR710929.csv\\x94\\x8c.results/tallied_alignment_counts/CRR710930.csv\\x94\\x8c.results/tallied_alignment_counts/CRR710931.csv\\x94\\x8c.results/tallied_alignment_counts/CRR710932.csv\\x94\\x8c.results/tallied_alignment_counts/CRR710933.csv\\x94\\x8c.results/tallied_alignment_counts/CRR710934.csv\\x94\\x8c.results/tallied_alignment_counts/CRR710935.csv\\x94\\x8c.results/tallied_alignment_counts/CRR710936.csv\\x94\\x8c.results/tallied_alignment_counts/CRR710937.csv\\x94\\x8c.results/tallied_alignment_counts/CRR710938.csv\\x94\\x8c.results/tallied_alignment_counts/CRR710939.csv\\x94\\x8c.results/tallied_alignment_counts/CRR710940.csv\\x94\\x8c.results/tallied_alignment_counts/CRR710941.csv\\x94\\x8c.results/tallied_alignment_counts/CRR710942.csv\\x94\\x8c.results/tallied_alignment_counts/CRR710943.csv\\x94\\x8c.results/tallied_alignment_counts/CRR710944.csv\\x94\\x8c.results/tallied_alignment_counts/CRR710945.csv\\x94\\x8c.results/tallied_alignment_counts/CRR710946.csv\\x94\\x8c.results/tallied_alignment_counts/CRR710947.csv\\x94\\x8c.results/tallied_alignment_counts/CRR710948.csv\\x94\\x8c.results/tallied_alignment_counts/CRR710949.csv\\x94\\x8c.results/tallied_alignment_counts/CRR710950.csv\\x94\\x8c.results/tallied_alignment_counts/CRR710951.csv\\x94\\x8c.results/tallied_alignment_counts/CRR710952.csv\\x94\\x8c.results/tallied_alignment_counts/CRR710953.csv\\x94\\x8c.results/tallied_alignment_counts/CRR710954.csv\\x94\\x8c.results/tallied_alignment_counts/CRR710955.csv\\x94\\x8c.results/tallied_alignment_counts/CRR710956.csv\\x94\\x8c.results/tallied_alignment_counts/CRR710957.csv\\x94\\x8c.results/tallied_alignment_counts/CRR710958.csv\\x94\\x8c.results/tallied_alignment_counts/CRR710959.csv\\x94\\x8c.results/tallied_alignment_counts/CRR710960.csv\\x94\\x8c.results/tallied_alignment_counts/CRR710961.csv\\x94\\x8c.results/tallied_alignment_counts/CRR710962.csv\\x94\\x8c.results/tallied_alignment_counts/CRR710963.csv\\x94\\x8c.results/tallied_alignment_counts/CRR710964.csv\\x94\\x8c.results/tallied_alignment_counts/CRR710965.csv\\x94\\x8c.results/tallied_alignment_counts/CRR710966.csv\\x94\\x8c.results/tallied_alignment_counts/CRR710967.csv\\x94\\x8c.results/tallied_alignment_counts/CRR710968.csv\\x94\\x8c.results/tallied_alignment_counts/CRR710969.csv\\x94\\x8c.results/tallied_alignment_counts/CRR710970.csv\\x94\\x8c.results/tallied_alignment_counts/CRR710971.csv\\x94\\x8c.results/tallied_alignment_counts/CRR710972.csv\\x94\\x8c.results/tallied_alignment_counts/CRR710973.csv\\x94\\x8c.results/tallied_alignment_counts/CRR710974.csv\\x94\\x8c.results/tallied_alignment_counts/CRR710975.csv\\x94\\x8c.results/tallied_alignment_counts/CRR710976.csv\\x94\\x8c.results/tallied_alignment_counts/CRR710977.csv\\x94\\x8c.results/tallied_alignment_counts/CRR710978.csv\\x94\\x8c.results/tallied_alignment_counts/CRR710979.csv\\x94\\x8c.results/tallied_alignment_counts/CRR710980.csv\\x94\\x8c.results/tallied_alignment_counts/CRR710981.csv\\x94\\x8c.results/tallied_alignment_counts/CRR710982.csv\\x94\\x8c.results/tallied_alignment_counts/CRR710983.csv\\x94\\x8c.results/tallied_alignment_counts/CRR710984.csv\\x94\\x8c.results/tallied_alignment_counts/CRR710985.csv\\x94\\x8c.results/tallied_alignment_counts/CRR710986.csv\\x94\\x8c.results/tallied_alignment_counts/CRR710987.csv\\x94\\x8c.results/tallied_alignment_counts/CRR710988.csv\\x94\\x8c.results/tallied_alignment_counts/CRR710989.csv\\x94\\x8c.results/tallied_alignment_counts/CRR710990.csv\\x94\\x8c.results/tallied_alignment_counts/CRR710991.csv\\x94\\x8c.results/tallied_alignment_counts/CRR710992.csv\\x94\\x8c.results/tallied_alignment_counts/CRR710993.csv\\x94\\x8c.results/tallied_alignment_counts/CRR710994.csv\\x94\\x8c.results/tallied_alignment_counts/CRR710995.csv\\x94\\x8c.results/tallied_alignment_counts/CRR710996.csv\\x94\\x8c.results/tallied_alignment_counts/CRR710997.csv\\x94\\x8c.results/tallied_alignment_counts/CRR710998.csv\\x94\\x8c.results/tallied_alignment_counts/CRR710999.csv\\x94\\x8c.results/tallied_alignment_counts/CRR711000.csv\\x94\\x8c.results/tallied_alignment_counts/CRR711001.csv\\x94\\x8c.results/tallied_alignment_counts/CRR711002.csv\\x94\\x8c.results/tallied_alignment_counts/CRR711003.csv\\x94\\x8c.results/tallied_alignment_counts/CRR711004.csv\\x94\\x8c.results/tallied_alignment_counts/CRR711005.csv\\x94\\x8c.results/tallied_alignment_counts/CRR711006.csv\\x94\\x8c.results/tallied_alignment_counts/CRR711007.csv\\x94\\x8c.results/tallied_alignment_counts/CRR711008.csv\\x94\\x8c.results/tallied_alignment_counts/CRR711009.csv\\x94\\x8c.results/tallied_alignment_counts/CRR711010.csv\\x94\\x8c.results/tallied_alignment_counts/CRR711011.csv\\x94\\x8c.results/tallied_alignment_counts/CRR711012.csv\\x94\\x8c.results/tallied_alignment_counts/CRR711013.csv\\x94\\x8c.results/tallied_alignment_counts/CRR711014.csv\\x94\\x8c.results/tallied_alignment_counts/CRR711015.csv\\x94\\x8c.results/tallied_alignment_counts/CRR711016.csv\\x94\\x8c.results/tallied_alignment_counts/CRR711017.csv\\x94\\x8c.results/tallied_alignment_counts/CRR711018.csv\\x94\\x8c.results/tallied_alignment_counts/CRR711019.csv\\x94\\x8c.results/tallied_alignment_counts/CRR711020.csv\\x94\\x8c.results/tallied_alignment_counts/CRR711021.csv\\x94\\x8c.results/tallied_alignment_counts/CRR711022.csv\\x94\\x8c.results/tallied_alignment_counts/CRR711023.csv\\x94\\x8c.results/tallied_alignment_counts/CRR711024.csv\\x94\\x8c.results/tallied_alignment_counts/CRR711025.csv\\x94\\x8c.results/tallied_alignment_counts/CRR711026.csv\\x94\\x8c.results/tallied_alignment_counts/CRR711027.csv\\x94\\x8c.results/tallied_alignment_counts/CRR712209.csv\\x94\\x8c.results/tallied_alignment_counts/CRR712210.csv\\x94\\x8c.results/tallied_alignment_counts/CRR711029.csv\\x94\\x8c.results/tallied_alignment_counts/CRR711030.csv\\x94\\x8c.results/tallied_alignment_counts/CRR711031.csv\\x94\\x8c.results/tallied_alignment_counts/CRR711032.csv\\x94\\x8c.results/tallied_alignment_counts/CRR711033.csv\\x94\\x8c.results/tallied_alignment_counts/CRR711034.csv\\x94\\x8c.results/tallied_alignment_counts/CRR711035.csv\\x94\\x8c.results/tallied_alignment_counts/CRR711036.csv\\x94\\x8c.results/tallied_alignment_counts/CRR711037.csv\\x94\\x8c.results/tallied_alignment_counts/CRR711038.csv\\x94\\x8c.results/tallied_alignment_counts/CRR711039.csv\\x94\\x8c.results/tallied_alignment_counts/CRR711040.csv\\x94\\x8c.results/tallied_alignment_counts/CRR711041.csv\\x94\\x8c.results/tallied_alignment_counts/CRR711042.csv\\x94\\x8c.results/tallied_alignment_counts/CRR711043.csv\\x94\\x8c.results/tallied_alignment_counts/CRR711044.csv\\x94\\x8c.results/tallied_alignment_counts/CRR711045.csv\\x94\\x8c.results/tallied_alignment_counts/CRR711046.csv\\x94\\x8c.results/tallied_alignment_counts/CRR711047.csv\\x94\\x8c.results/tallied_alignment_counts/CRR711048.csv\\x94\\x8c.results/tallied_alignment_counts/CRR711049.csv\\x94\\x8c.results/tallied_alignment_counts/CRR711050.csv\\x94\\x8c.results/tallied_alignment_counts/CRR711051.csv\\x94\\x8c.results/tallied_alignment_counts/CRR711052.csv\\x94\\x8c.results/tallied_alignment_counts/CRR711053.csv\\x94\\x8c.results/tallied_alignment_counts/CRR711054.csv\\x94\\x8c.results/tallied_alignment_counts/CRR711055.csv\\x94\\x8c.results/tallied_alignment_counts/CRR711056.csv\\x94\\x8c.results/tallied_alignment_counts/CRR711057.csv\\x94\\x8c.results/tallied_alignment_counts/CRR711058.csv\\x94\\x8c.results/tallied_alignment_counts/CRR711059.csv\\x94\\x8c.results/tallied_alignment_counts/CRR711060.csv\\x94\\x8c.results/tallied_alignment_counts/CRR711061.csv\\x94\\x8c.results/tallied_alignment_counts/CRR711062.csv\\x94\\x8c.results/tallied_alignment_counts/CRR711063.csv\\x94\\x8c.results/tallied_alignment_counts/CRR711064.csv\\x94\\x8c.results/tallied_alignment_counts/CRR711065.csv\\x94\\x8c.results/tallied_alignment_counts/CRR711066.csv\\x94\\x8c.results/tallied_alignment_counts/CRR711067.csv\\x94\\x8c.results/tallied_alignment_counts/CRR711068.csv\\x94\\x8c.results/tallied_alignment_counts/CRR711069.csv\\x94\\x8c.results/tallied_alignment_counts/CRR711070.csv\\x94\\x8c.results/tallied_alignment_counts/CRR711071.csv\\x94\\x8c.results/tallied_alignment_counts/CRR711072.csv\\x94\\x8c.results/tallied_alignment_counts/CRR711073.csv\\x94\\x8c.results/tallied_alignment_counts/CRR711074.csv\\x94\\x8c.results/tallied_alignment_counts/CRR711075.csv\\x94\\x8c.results/tallied_alignment_counts/CRR711076.csv\\x94\\x8c.results/tallied_alignment_counts/CRR711077.csv\\x94\\x8c.results/tallied_alignment_counts/CRR711078.csv\\x94\\x8c.results/tallied_alignment_counts/CRR711079.csv\\x94\\x8c.results/tallied_alignment_counts/CRR711080.csv\\x94\\x8c.results/tallied_alignment_counts/CRR711081.csv\\x94\\x8c.results/tallied_alignment_counts/CRR711082.csv\\x94\\x8c.results/tallied_alignment_counts/CRR711083.csv\\x94\\x8c.results/tallied_alignment_counts/CRR711084.csv\\x94\\x8c.results/tallied_alignment_counts/CRR711085.csv\\x94\\x8c.results/tallied_alignment_counts/CRR711086.csv\\x94\\x8c.results/tallied_alignment_counts/CRR711087.csv\\x94\\x8c.results/tallied_alignment_counts/CRR711088.csv\\x94\\x8c.results/tallied_alignment_counts/CRR711089.csv\\x94\\x8c.results/tallied_alignment_counts/CRR711090.csv\\x94\\x8c.results/tallied_alignment_counts/CRR711091.csv\\x94\\x8c.results/tallied_alignment_counts/CRR711092.csv\\x94\\x8c.results/tallied_alignment_counts/CRR711093.csv\\x94\\x8c.results/tallied_alignment_counts/CRR711094.csv\\x94\\x8c.results/tallied_alignment_counts/CRR711095.csv\\x94\\x8c.results/tallied_alignment_counts/CRR711096.csv\\x94\\x8c.results/tallied_alignment_counts/CRR711097.csv\\x94\\x8c.results/tallied_alignment_counts/CRR711098.csv\\x94\\x8c.results/tallied_alignment_counts/CRR711099.csv\\x94\\x8c.results/tallied_alignment_counts/CRR711100.csv\\x94\\x8c.results/tallied_alignment_counts/CRR711101.csv\\x94\\x8c.results/tallied_alignment_counts/CRR711102.csv\\x94\\x8c.results/tallied_alignment_counts/CRR711103.csv\\x94\\x8c.results/tallied_alignment_counts/CRR711104.csv\\x94\\x8c.results/tallied_alignment_counts/CRR711105.csv\\x94\\x8c.results/tallied_alignment_counts/CRR711106.csv\\x94\\x8c.results/tallied_alignment_counts/CRR711107.csv\\x94\\x8c.results/tallied_alignment_counts/CRR711108.csv\\x94\\x8c.results/tallied_alignment_counts/CRR711109.csv\\x94\\x8c.results/tallied_alignment_counts/CRR711110.csv\\x94\\x8c.results/tallied_alignment_counts/CRR711111.csv\\x94\\x8c.results/tallied_alignment_counts/CRR711112.csv\\x94\\x8c.results/tallied_alignment_counts/CRR711113.csv\\x94\\x8c.results/tallied_alignment_counts/CRR711114.csv\\x94\\x8c.results/tallied_alignment_counts/CRR711115.csv\\x94\\x8c.results/tallied_alignment_counts/CRR711116.csv\\x94\\x8c.results/tallied_alignment_counts/CRR711117.csv\\x94\\x8c.results/tallied_alignment_counts/CRR711118.csv\\x94\\x8c.results/tallied_alignment_counts/CRR711119.csv\\x94\\x8c.results/tallied_alignment_counts/CRR711120.csv\\x94\\x8c.results/tallied_alignment_counts/CRR711121.csv\\x94\\x8c.results/tallied_alignment_counts/CRR711122.csv\\x94\\x8c.results/tallied_alignment_counts/CRR711123.csv\\x94\\x8c.results/tallied_alignment_counts/CRR711124.csv\\x94\\x8c.results/tallied_alignment_counts/CRR711125.csv\\x94\\x8c.results/tallied_alignment_counts/CRR711126.csv\\x94\\x8c.results/tallied_alignment_counts/CRR711127.csv\\x94\\x8c.results/tallied_alignment_counts/CRR711128.csv\\x94\\x8c.results/tallied_alignment_counts/CRR711129.csv\\x94\\x8c.results/tallied_alignment_counts/CRR711130.csv\\x94\\x8c.results/tallied_alignment_counts/CRR711131.csv\\x94\\x8c.results/tallied_alignment_counts/CRR711132.csv\\x94\\x8c.results/tallied_alignment_counts/CRR711133.csv\\x94\\x8c.results/tallied_alignment_counts/CRR711134.csv\\x94\\x8c.results/tallied_alignment_counts/CRR711135.csv\\x94\\x8c.results/tallied_alignment_counts/CRR711136.csv\\x94\\x8c.results/tallied_alignment_counts/CRR711137.csv\\x94\\x8c.results/tallied_alignment_counts/CRR711138.csv\\x94\\x8c.results/tallied_alignment_counts/CRR711139.csv\\x94\\x8c.results/tallied_alignment_counts/CRR711140.csv\\x94\\x8c.results/tallied_alignment_counts/CRR711141.csv\\x94\\x8c.results/tallied_alignment_counts/CRR711142.csv\\x94\\x8c.results/tallied_alignment_counts/CRR711152.csv\\x94\\x8c.results/tallied_alignment_counts/CRR711153.csv\\x94\\x8c.results/tallied_alignment_counts/CRR711154.csv\\x94\\x8c.results/tallied_alignment_counts/CRR711155.csv\\x94\\x8c*results/mitochondrial_genomes/retained.csv\\x94\\x8c$results/metadata/merged_metadata.csv\\x94\\x8c)results/read_counts/aggregated_counts.csv\\x94e}\\x94(\\x8c\\x06_names\\x94}\\x94(\\x8c\\x0etallied_counts\\x94K\\x00M\\x8a\\x01\\x86\\x94\\x8c\\rmito_ref_info\\x94M\\x8a\\x01N\\x86\\x94\\x8c\\x08metadata\\x94M\\x8b\\x01N\\x86\\x94\\x8c\\x0bread_counts\\x94M\\x8c\\x01N\\x86\\x94u\\x8c\\x12_allowed_overrides\\x94]\\x94(\\x8c\\x05index\\x94\\x8c\\x04sort\\x94ej\\xa4\\x01\\x00\\x00\\x8c\\tfunctools\\x94\\x8c\\x07partial\\x94\\x93\\x94h\\x06\\x8c\\x19Namedlist._used_attribute\\x94\\x93\\x94\\x85\\x94R\\x94(j\\xaa\\x01\\x00\\x00)}\\x94\\x8c\\x05_name\\x94j\\xa4\\x01\\x00\\x00sNt\\x94bj\\xa5\\x01\\x00\\x00j\\xa8\\x01\\x00\\x00j\\xaa\\x01\\x00\\x00\\x85\\x94R\\x94(j\\xaa\\x01\\x00\\x00)}\\x94j\\xae\\x01\\x00\\x00j\\xa5\\x01\\x00\\x00sNt\\x94bj\\x9a\\x01\\x00\\x00h\\x06\\x8c\\tNamedlist\\x94\\x93\\x94)\\x81\\x94(h\\nh\\x0bh\\x0ch\\rh\\x0eh\\x0fh\\x10h\\x11h\\x12h\\x13h\\x14h\\x15h\\x16h\\x17h\\x18h\\x19h\\x1ah\\x1bh\\x1ch\\x1dh\\x1eh\\x1fh h!h\"h#h$h%h&h\\'h(h)h*h+h,h-h.h/h0h1h2h3h4h5h6h7h8h9h:h;h<h=h>h?h@hAhBhChDhEhFhGhHhIhJhKhLhMhNhOhPhQhRhShThUhVhWhXhYhZh[h\\\\h]h^h_h`hahbhchdhehfhghhhihjhkhlhmhnhohphqhrhshthuhvhwhxhyhzh{h|h}h~h\\x7fh\\x80h\\x81h\\x82h\\x83h\\x84h\\x85h\\x86h\\x87h\\x88h\\x89h\\x8ah\\x8bh\\x8ch\\x8dh\\x8eh\\x8fh\\x90h\\x91h\\x92h\\x93h\\x94h\\x95h\\x96h\\x97h\\x98h\\x99h\\x9ah\\x9bh\\x9ch\\x9dh\\x9eh\\x9fh\\xa0h\\xa1h\\xa2h\\xa3h\\xa4h\\xa5h\\xa6h\\xa7h\\xa8h\\xa9h\\xaah\\xabh\\xach\\xadh\\xaeh\\xafh\\xb0h\\xb1h\\xb2h\\xb3h\\xb4h\\xb5h\\xb6h\\xb7h\\xb8h\\xb9h\\xbah\\xbbh\\xbch\\xbdh\\xbeh\\xbfh\\xc0h\\xc1h\\xc2h\\xc3h\\xc4h\\xc5h\\xc6h\\xc7h\\xc8h\\xc9h\\xcah\\xcbh\\xcch\\xcdh\\xceh\\xcfh\\xd0h\\xd1h\\xd2h\\xd3h\\xd4h\\xd5h\\xd6h\\xd7h\\xd8h\\xd9h\\xdah\\xdbh\\xdch\\xddh\\xdeh\\xdfh\\xe0h\\xe1h\\xe2h\\xe3h\\xe4h\\xe5h\\xe6h\\xe7h\\xe8h\\xe9h\\xeah\\xebh\\xech\\xedh\\xeeh\\xefh\\xf0h\\xf1h\\xf2h\\xf3h\\xf4h\\xf5h\\xf6h\\xf7h\\xf8h\\xf9h\\xfah\\xfbh\\xfch\\xfdh\\xfeh\\xffj\\x00\\x01\\x00\\x00j\\x01\\x01\\x00\\x00j\\x02\\x01\\x00\\x00j\\x03\\x01\\x00\\x00j\\x04\\x01\\x00\\x00j\\x05\\x01\\x00\\x00j\\x06\\x01\\x00\\x00j\\x07\\x01\\x00\\x00j\\x08\\x01\\x00\\x00j\\t\\x01\\x00\\x00j\\n\\x01\\x00\\x00j\\x0b\\x01\\x00\\x00j\\x0c\\x01\\x00\\x00j\\r\\x01\\x00\\x00j\\x0e\\x01\\x00\\x00j\\x0f\\x01\\x00\\x00j\\x10\\x01\\x00\\x00j\\x11\\x01\\x00\\x00j\\x12\\x01\\x00\\x00j\\x13\\x01\\x00\\x00j\\x14\\x01\\x00\\x00j\\x15\\x01\\x00\\x00j\\x16\\x01\\x00\\x00j\\x17\\x01\\x00\\x00j\\x18\\x01\\x00\\x00j\\x19\\x01\\x00\\x00j\\x1a\\x01\\x00\\x00j\\x1b\\x01\\x00\\x00j\\x1c\\x01\\x00\\x00j\\x1d\\x01\\x00\\x00j\\x1e\\x01\\x00\\x00j\\x1f\\x01\\x00\\x00j \\x01\\x00\\x00j!\\x01\\x00\\x00j\"\\x01\\x00\\x00j#\\x01\\x00\\x00j$\\x01\\x00\\x00j%\\x01\\x00\\x00j&\\x01\\x00\\x00j\\'\\x01\\x00\\x00j(\\x01\\x00\\x00j)\\x01\\x00\\x00j*\\x01\\x00\\x00j+\\x01\\x00\\x00j,\\x01\\x00\\x00j-\\x01\\x00\\x00j.\\x01\\x00\\x00j/\\x01\\x00\\x00j0\\x01\\x00\\x00j1\\x01\\x00\\x00j2\\x01\\x00\\x00j3\\x01\\x00\\x00j4\\x01\\x00\\x00j5\\x01\\x00\\x00j6\\x01\\x00\\x00j7\\x01\\x00\\x00j8\\x01\\x00\\x00j9\\x01\\x00\\x00j:\\x01\\x00\\x00j;\\x01\\x00\\x00j<\\x01\\x00\\x00j=\\x01\\x00\\x00j>\\x01\\x00\\x00j?\\x01\\x00\\x00j@\\x01\\x00\\x00jA\\x01\\x00\\x00jB\\x01\\x00\\x00jC\\x01\\x00\\x00jD\\x01\\x00\\x00jE\\x01\\x00\\x00jF\\x01\\x00\\x00jG\\x01\\x00\\x00jH\\x01\\x00\\x00jI\\x01\\x00\\x00jJ\\x01\\x00\\x00jK\\x01\\x00\\x00jL\\x01\\x00\\x00jM\\x01\\x00\\x00jN\\x01\\x00\\x00jO\\x01\\x00\\x00jP\\x01\\x00\\x00jQ\\x01\\x00\\x00jR\\x01\\x00\\x00jS\\x01\\x00\\x00jT\\x01\\x00\\x00jU\\x01\\x00\\x00jV\\x01\\x00\\x00jW\\x01\\x00\\x00jX\\x01\\x00\\x00jY\\x01\\x00\\x00jZ\\x01\\x00\\x00j[\\x01\\x00\\x00j\\\\\\x01\\x00\\x00j]\\x01\\x00\\x00j^\\x01\\x00\\x00j_\\x01\\x00\\x00j`\\x01\\x00\\x00ja\\x01\\x00\\x00jb\\x01\\x00\\x00jc\\x01\\x00\\x00jd\\x01\\x00\\x00je\\x01\\x00\\x00jf\\x01\\x00\\x00jg\\x01\\x00\\x00jh\\x01\\x00\\x00ji\\x01\\x00\\x00jj\\x01\\x00\\x00jk\\x01\\x00\\x00jl\\x01\\x00\\x00jm\\x01\\x00\\x00jn\\x01\\x00\\x00jo\\x01\\x00\\x00jp\\x01\\x00\\x00jq\\x01\\x00\\x00jr\\x01\\x00\\x00js\\x01\\x00\\x00jt\\x01\\x00\\x00ju\\x01\\x00\\x00jv\\x01\\x00\\x00jw\\x01\\x00\\x00jx\\x01\\x00\\x00jy\\x01\\x00\\x00jz\\x01\\x00\\x00j{\\x01\\x00\\x00j|\\x01\\x00\\x00j}\\x01\\x00\\x00j~\\x01\\x00\\x00j\\x7f\\x01\\x00\\x00j\\x80\\x01\\x00\\x00j\\x81\\x01\\x00\\x00j\\x82\\x01\\x00\\x00j\\x83\\x01\\x00\\x00j\\x84\\x01\\x00\\x00j\\x85\\x01\\x00\\x00j\\x86\\x01\\x00\\x00j\\x87\\x01\\x00\\x00j\\x88\\x01\\x00\\x00j\\x89\\x01\\x00\\x00j\\x8a\\x01\\x00\\x00j\\x8b\\x01\\x00\\x00j\\x8c\\x01\\x00\\x00j\\x8d\\x01\\x00\\x00j\\x8e\\x01\\x00\\x00j\\x8f\\x01\\x00\\x00j\\x90\\x01\\x00\\x00j\\x91\\x01\\x00\\x00j\\x92\\x01\\x00\\x00j\\x93\\x01\\x00\\x00e}\\x94(j\\x98\\x01\\x00\\x00}\\x94j\\xa2\\x01\\x00\\x00]\\x94(j\\xa4\\x01\\x00\\x00j\\xa5\\x01\\x00\\x00ej\\xa4\\x01\\x00\\x00j\\xa8\\x01\\x00\\x00j\\xaa\\x01\\x00\\x00\\x85\\x94R\\x94(j\\xaa\\x01\\x00\\x00)}\\x94j\\xae\\x01\\x00\\x00j\\xa4\\x01\\x00\\x00sNt\\x94bj\\xa5\\x01\\x00\\x00j\\xa8\\x01\\x00\\x00j\\xaa\\x01\\x00\\x00\\x85\\x94R\\x94(j\\xaa\\x01\\x00\\x00)}\\x94j\\xae\\x01\\x00\\x00j\\xa5\\x01\\x00\\x00sNt\\x94bubj\\x9c\\x01\\x00\\x00j\\x94\\x01\\x00\\x00j\\x9e\\x01\\x00\\x00j\\x95\\x01\\x00\\x00j\\xa0\\x01\\x00\\x00j\\x96\\x01\\x00\\x00ub\\x8c\\x06output\\x94h\\x06\\x8c\\x0bOutputFiles\\x94\\x93\\x94)\\x81\\x94(\\x8c7results/aggregated_counts/sars2_mito_aligned_by_run.csv\\x94\\x8c:results/aggregated_counts/sars2_mito_aligned_by_sample.csv\\x94e}\\x94(j\\x98\\x01\\x00\\x00}\\x94(\\x8c\\x19sars2_mito_aligned_by_run\\x94K\\x00N\\x86\\x94\\x8c\\x1csars2_mito_aligned_by_sample\\x94K\\x01N\\x86\\x94uj\\xa2\\x01\\x00\\x00]\\x94(j\\xa4\\x01\\x00\\x00j\\xa5\\x01\\x00\\x00ej\\xa4\\x01\\x00\\x00j\\xa8\\x01\\x00\\x00j\\xaa\\x01\\x00\\x00\\x85\\x94R\\x94(j\\xaa\\x01\\x00\\x00)}\\x94j\\xae\\x01\\x00\\x00j\\xa4\\x01\\x00\\x00sNt\\x94bj\\xa5\\x01\\x00\\x00j\\xa8\\x01\\x00\\x00j\\xaa\\x01\\x00\\x00\\x85\\x94R\\x94(j\\xaa\\x01\\x00\\x00)}\\x94j\\xae\\x01\\x00\\x00j\\xa5\\x01\\x00\\x00sNt\\x94bj\\xca\\x01\\x00\\x00j\\xc6\\x01\\x00\\x00j\\xcc\\x01\\x00\\x00j\\xc7\\x01\\x00\\x00ub\\x8c\\x06params\\x94h\\x06\\x8c\\x06Params\\x94\\x93\\x94)\\x81\\x94(\\x8c\\x0bNC_045512v2\\x94}\\x94(\\x8c\\x0braccoon dog\\x94\\x8c\\x18Nyctereutes procyonoides\\x94\\x8c\\x08hedgehog\\x94\\x8c\\x13Erinaceus europaeus\\x94\\x8c\\x11Malayan porcupine\\x94\\x8c\\x11Hystrix brachyura\\x94\\x8c\\x10hoary bamboo rat\\x94\\x8c\\x12Rhizomys pruinosus\\x94\\x8c\\x10Himalayan marmot\\x94\\x8c\\x12Marmota himalayana\\x94\\x8c\\x11masked palm civet\\x94\\x8c\\x0ePaguma larvata\\x94\\x8c\\x0fSiberian weasel\\x94\\x8c\\x10Mustela sibirica\\x94\\x8c\\nhog badger\\x94\\x8c\\x11Arctonyx collaris\\x94\\x8c\\x05human\\x94\\x8c\\x0cHomo sapiens\\x94\\x8c\\x03cow\\x94\\x8c\\nBos taurus\\x94\\x8c\\x05sheep\\x94\\x8c\\x0fOvis orientalis\\x94\\x8c\\tbrown rat\\x94\\x8c\\x1fRattus norvegicus strain Wistar\\x94\\x8c\\x03pig\\x94\\x8c\\x15Sus scrofa domesticus\\x94\\x8c\\x03dog\\x94\\x8c\\x16Canis lupus familiaris\\x94\\x8c\\x03cat\\x94\\x8c\\x0bFelis catus\\x94\\x8c\\x07chicken\\x94\\x8c\\x1eGallus gallus isolate bGalGal1\\x94\\x8c\\x04duck\\x94\\x8c\\x13Anas poecilorhyncha\\x94u}\\x94(\\x8c\\x19min_alignments_run_filter\\x94M\\x88\\x13\\x8c!min_percent_aligned_genome_filter\\x94G?\\xb9\\x99\\x99\\x99\\x99\\x99\\x9aue}\\x94(j\\x98\\x01\\x00\\x00}\\x94(\\x8c\\x0csars2_ref_id\\x94K\\x00N\\x86\\x94\\x8c\\x14mito_genomes_to_keep\\x94K\\x01N\\x86\\x94\\x8c\\x18mito_composition_filters\\x94K\\x02N\\x86\\x94uj\\xa2\\x01\\x00\\x00]\\x94(j\\xa4\\x01\\x00\\x00j\\xa5\\x01\\x00\\x00ej\\xa4\\x01\\x00\\x00j\\xa8\\x01\\x00\\x00j\\xaa\\x01\\x00\\x00\\x85\\x94R\\x94(j\\xaa\\x01\\x00\\x00)}\\x94j\\xae\\x01\\x00\\x00j\\xa4\\x01\\x00\\x00sNt\\x94bj\\xa5\\x01\\x00\\x00j\\xa8\\x01\\x00\\x00j\\xaa\\x01\\x00\\x00\\x85\\x94R\\x94(j\\xaa\\x01\\x00\\x00)}\\x94j\\xae\\x01\\x00\\x00j\\xa5\\x01\\x00\\x00sNt\\x94bj\\x04\\x02\\x00\\x00j\\xdb\\x01\\x00\\x00j\\x06\\x02\\x00\\x00j\\xdc\\x01\\x00\\x00j\\x08\\x02\\x00\\x00j\\xff\\x01\\x00\\x00ub\\x8c\\twildcards\\x94h\\x06\\x8c\\tWildcards\\x94\\x93\\x94)\\x81\\x94}\\x94(j\\x98\\x01\\x00\\x00}\\x94j\\xa2\\x01\\x00\\x00]\\x94(j\\xa4\\x01\\x00\\x00j\\xa5\\x01\\x00\\x00ej\\xa4\\x01\\x00\\x00j\\xa8\\x01\\x00\\x00j\\xaa\\x01\\x00\\x00\\x85\\x94R\\x94(j\\xaa\\x01\\x00\\x00)}\\x94j\\xae\\x01\\x00\\x00j\\xa4\\x01\\x00\\x00sNt\\x94bj\\xa5\\x01\\x00\\x00j\\xa8\\x01\\x00\\x00j\\xaa\\x01\\x00\\x00\\x85\\x94R\\x94(j\\xaa\\x01\\x00\\x00)}\\x94j\\xae\\x01\\x00\\x00j\\xa5\\x01\\x00\\x00sNt\\x94bub\\x8c\\x07threads\\x94K\\x01\\x8c\\tresources\\x94h\\x06\\x8c\\tResources\\x94\\x93\\x94)\\x81\\x94(K\\x01K\\x01\\x8c\\x04/tmp\\x94e}\\x94(j\\x98\\x01\\x00\\x00}\\x94(\\x8c\\x06_cores\\x94K\\x00N\\x86\\x94\\x8c\\x06_nodes\\x94K\\x01N\\x86\\x94\\x8c\\x06tmpdir\\x94K\\x02N\\x86\\x94uj\\xa2\\x01\\x00\\x00]\\x94(j\\xa4\\x01\\x00\\x00j\\xa5\\x01\\x00\\x00ej\\xa4\\x01\\x00\\x00j\\xa8\\x01\\x00\\x00j\\xaa\\x01\\x00\\x00\\x85\\x94R\\x94(j\\xaa\\x01\\x00\\x00)}\\x94j\\xae\\x01\\x00\\x00j\\xa4\\x01\\x00\\x00sNt\\x94bj\\xa5\\x01\\x00\\x00j\\xa8\\x01\\x00\\x00j\\xaa\\x01\\x00\\x00\\x85\\x94R\\x94(j\\xaa\\x01\\x00\\x00)}\\x94j\\xae\\x01\\x00\\x00j\\xa5\\x01\\x00\\x00sNt\\x94bj*\\x02\\x00\\x00K\\x01j,\\x02\\x00\\x00K\\x01j.\\x02\\x00\\x00j\\'\\x02\\x00\\x00ub\\x8c\\x03log\\x94h\\x06\\x8c\\x03Log\\x94\\x93\\x94)\\x81\\x94\\x8c4results/aggregated_counts/aggregate_all_counts.ipynb\\x94a}\\x94(j\\x98\\x01\\x00\\x00}\\x94\\x8c\\x08notebook\\x94K\\x00N\\x86\\x94sj\\xa2\\x01\\x00\\x00]\\x94(j\\xa4\\x01\\x00\\x00j\\xa5\\x01\\x00\\x00ej\\xa4\\x01\\x00\\x00j\\xa8\\x01\\x00\\x00j\\xaa\\x01\\x00\\x00\\x85\\x94R\\x94(j\\xaa\\x01\\x00\\x00)}\\x94j\\xae\\x01\\x00\\x00j\\xa4\\x01\\x00\\x00sNt\\x94bj\\xa5\\x01\\x00\\x00j\\xa8\\x01\\x00\\x00j\\xaa\\x01\\x00\\x00\\x85\\x94R\\x94(j\\xaa\\x01\\x00\\x00)}\\x94j\\xae\\x01\\x00\\x00j\\xa5\\x01\\x00\\x00sNt\\x94bj@\\x02\\x00\\x00j=\\x02\\x00\\x00ub\\x8c\\x06config\\x94}\\x94(\\x8c\\x14crits_christoph_data\\x94}\\x94(\\x8c\\tfile_info\\x94\\x8c\\x95https://raw.githubusercontent.com/sars-cov-2-origins/huanan-environmental/bd2afdb19392a0efb872c09eb94045de9d265a6e/tables/TableS1_FileInformation.csv\\x94\\x8c\\x0csample_names\\x94\\x8c\\x91https://raw.githubusercontent.com/sars-cov-2-origins/huanan-environmental/bd2afdb19392a0efb872c09eb94045de9d265a6e/tables/TableS2_SampleNames.csv\\x94\\x8c\\x0bread_counts\\x94\\x8c\\x96https://raw.githubusercontent.com/sars-cov-2-origins/huanan-environmental/bd2afdb19392a0efb872c09eb94045de9d265a6e/tables/TableS3_MappedReadCounts.csv\\x94u\\x8c\\x15mitochondrial_genomes\\x94\\x8cZhttps://ftp.ncbi.nlm.nih.gov/refseq/release/mitochondrion/mitochondrion.1.1.genomic.fna.gz\\x94\\x8c\\x1dmitochondrial_genomes_to_keep\\x94j\\xdc\\x01\\x00\\x00\\x8c\"mitochondrial_genome_min_mash_dist\\x94G?\\xb9\\x99\\x99\\x99\\x99\\x99\\x9a\\x8c\\tsars2_ref\\x94\\x8cGhttp://hgdownload.soe.ucsc.edu/goldenPath/wuhCor1/bigZips/wuhCor1.fa.gz\\x94\\x8c\\x0csars2_ref_id\\x94j\\xdb\\x01\\x00\\x00\\x8c\\x18mito_composition_filters\\x94j\\xff\\x01\\x00\\x00u\\x8c\\x04rule\\x94\\x8c\\x14aggregate_all_counts\\x94\\x8c\\x0fbench_iteration\\x94N\\x8c\\tscriptdir\\x94\\x8cT/fh/fast/bloom_j/computational_notebooks/jbloom/2023/Huanan_market_samples/notebooks\\x94ub.'); from snakemake.logging import logger; logger.printshellcmds = False; import os; os.chdir(r'/fh/fast/bloom_j/computational_notebooks/jbloom/2023/Huanan_market_samples');\n",
    "######## snakemake preamble end #########\n"
   ]
  },
  {
   "cell_type": "code",
   "execution_count": 2,
   "id": "080d9351-837f-4e60-b199-de54a8e67b66",
   "metadata": {
    "execution": {
     "iopub.execute_input": "2023-04-04T13:37:11.402919Z",
     "iopub.status.busy": "2023-04-04T13:37:11.402524Z",
     "iopub.status.idle": "2023-04-04T13:37:12.177059Z",
     "shell.execute_reply": "2023-04-04T13:37:12.175874Z",
     "shell.execute_reply.started": "2023-04-04T13:37:11.402891Z"
    },
    "tags": []
   },
   "outputs": [],
   "source": [
    "import pandas as pd"
   ]
  },
  {
   "cell_type": "markdown",
   "id": "442943df-4fd0-455e-ab33-1c0c16a61496",
   "metadata": {},
   "source": [
    "Get variables from `snakemake`:"
   ]
  },
  {
   "cell_type": "code",
   "execution_count": 3,
   "id": "301ac539-6b0b-4d37-b08b-43a059f521e8",
   "metadata": {
    "execution": {
     "iopub.execute_input": "2023-04-04T13:37:12.182450Z",
     "iopub.status.busy": "2023-04-04T13:37:12.181976Z",
     "iopub.status.idle": "2023-04-04T13:37:12.187841Z",
     "shell.execute_reply": "2023-04-04T13:37:12.186963Z",
     "shell.execute_reply.started": "2023-04-04T13:37:12.182414Z"
    },
    "tags": []
   },
   "outputs": [],
   "source": [
    "tallied_count_files = snakemake.input.tallied_counts\n",
    "mito_ref_info_csv = snakemake.input.mito_ref_info\n",
    "metadata_csv = snakemake.input.metadata\n",
    "read_counts_csv = snakemake.input.read_counts\n",
    "sars2_ref_id = snakemake.params.sars2_ref_id\n",
    "mito_genomes_to_keep = snakemake.params.mito_genomes_to_keep"
   ]
  },
  {
   "cell_type": "markdown",
   "id": "bfc352d8-105f-4f1e-9412-b376809d0b25",
   "metadata": {},
   "source": [
    "Read information on mitochondrial reference genomes:"
   ]
  },
  {
   "cell_type": "code",
   "execution_count": 4,
   "id": "82e9b930-e2b0-43d2-b5af-e26376128ca4",
   "metadata": {
    "execution": {
     "iopub.execute_input": "2023-04-04T13:37:12.195862Z",
     "iopub.status.busy": "2023-04-04T13:37:12.195482Z",
     "iopub.status.idle": "2023-04-04T13:37:12.215468Z",
     "shell.execute_reply": "2023-04-04T13:37:12.214656Z",
     "shell.execute_reply.started": "2023-04-04T13:37:12.195832Z"
    },
    "tags": []
   },
   "outputs": [],
   "source": [
    "mito_ref_info = pd.read_csv(mito_ref_info_csv)"
   ]
  },
  {
   "cell_type": "markdown",
   "id": "28989fa2-3ee3-4f93-9c2d-1cfdd8b50765",
   "metadata": {},
   "source": [
    "Read metadata on samples:"
   ]
  },
  {
   "cell_type": "code",
   "execution_count": 23,
   "id": "66dd0295-14a9-4004-a670-a7c609ba2459",
   "metadata": {
    "execution": {
     "iopub.execute_input": "2023-04-04T13:44:05.485403Z",
     "iopub.status.busy": "2023-04-04T13:44:05.484789Z",
     "iopub.status.idle": "2023-04-04T13:44:05.504775Z",
     "shell.execute_reply": "2023-04-04T13:44:05.503850Z",
     "shell.execute_reply.started": "2023-04-04T13:44:05.485359Z"
    },
    "tags": []
   },
   "outputs": [],
   "source": [
    "metadata_all = pd.read_csv(metadata_csv)\n",
    "\n",
    "# downsize to most relevant metadata to keep\n",
    "metadata = metadata_all.rename(columns={\"Public description\": \"description\"})[\n",
    "    [\n",
    "        \"Run accession\",\n",
    "        \"Sample title\",\n",
    "        \"Collection date\",\n",
    "        \"description\",\n",
    "        \"Isolation source\",\n",
    "    ]\n",
    "]"
   ]
  },
  {
   "cell_type": "markdown",
   "id": "bf5e0344-11fa-406b-99b1-5d9d10e238f1",
   "metadata": {},
   "source": [
    "Tally all the alignment counts:"
   ]
  },
  {
   "cell_type": "code",
   "execution_count": 6,
   "id": "be252664-0415-4f43-b4f1-25d6c642bf5f",
   "metadata": {
    "execution": {
     "iopub.execute_input": "2023-04-04T13:37:12.233779Z",
     "iopub.status.busy": "2023-04-04T13:37:12.233510Z",
     "iopub.status.idle": "2023-04-04T13:37:22.153672Z",
     "shell.execute_reply": "2023-04-04T13:37:22.152470Z",
     "shell.execute_reply.started": "2023-04-04T13:37:12.233760Z"
    },
    "tags": []
   },
   "outputs": [],
   "source": [
    "tallied_counts = pd.concat(\n",
    "    [pd.read_csv(f) for f in tallied_count_files],\n",
    "    ignore_index=True,\n",
    ").assign(\n",
    "    alignment_reference_type=lambda x: x[\"alignment_reference\"].map(\n",
    "        lambda r: \"SARS-CoV-2\" if r == sars2_ref_id else \"mitochondrial genomes\"\n",
    "    )\n",
    ")\n",
    "\n",
    "# make sure all alignment references are SARS2 or a known mitochondrial genome\n",
    "assert set(tallied_counts[\"alignment_reference\"]).issubset(\n",
    "    set(mito_ref_info[\"id\"]).union([sars2_ref_id])\n",
    ")\n",
    "\n",
    "assert (\n",
    "    len(tallied_counts)\n",
    "    == len(tallied_counts.drop_duplicates())\n",
    "    == len(tallied_counts.groupby([\"alignment_reference\", \"Run accession\"]))\n",
    ")\n",
    "\n",
    "count_cols = [\n",
    "    \"n_primary\",\n",
    "    \"n_primary_and_unique_best\",\n",
    "    \"n_primary_or_equally_good_secondary\",\n",
    "]\n",
    "\n",
    "tallied_counts_tidy = tallied_counts.melt(\n",
    "    id_vars=[\"Run accession\", \"alignment_reference\", \"alignment_reference_type\"],\n",
    "    value_vars=count_cols,\n",
    "    var_name=\"alignment_count_type\",\n",
    "    value_name=\"alignment_count\",\n",
    ")"
   ]
  },
  {
   "cell_type": "markdown",
   "id": "6955a97c-9227-4993-a247-1ccf487fd55b",
   "metadata": {},
   "source": [
    "Get the read and alignment counts:"
   ]
  },
  {
   "cell_type": "code",
   "execution_count": 7,
   "id": "b1e5d096-cfe9-4bb1-b255-c178daa5a605",
   "metadata": {
    "execution": {
     "iopub.execute_input": "2023-04-04T13:37:22.158211Z",
     "iopub.status.busy": "2023-04-04T13:37:22.157920Z",
     "iopub.status.idle": "2023-04-04T13:37:22.164685Z",
     "shell.execute_reply": "2023-04-04T13:37:22.163849Z",
     "shell.execute_reply.started": "2023-04-04T13:37:22.158191Z"
    },
    "tags": []
   },
   "outputs": [],
   "source": [
    "read_counts = pd.read_csv(read_counts_csv)"
   ]
  },
  {
   "cell_type": "markdown",
   "id": "6748fae6-e8a7-4b99-85c2-980abbe1ac04",
   "metadata": {},
   "source": [
    "## SARS-CoV-2 and mitochondrial read counts\n",
    "Now get the SARS-CoV-2 and mitochondrial read counts as a percentage of all preprocessed reads.\n",
    "Here we drop the `n_primary_or_equally_good_secondary` alignment count type as it double counts reads and so is not useful for this type of counting.\n",
    "\n",
    "We first do this by run:"
   ]
  },
  {
   "cell_type": "code",
   "execution_count": 26,
   "id": "a8807c49-2033-43ec-a14a-d68ce74ab27a",
   "metadata": {
    "execution": {
     "iopub.execute_input": "2023-04-04T13:45:29.709852Z",
     "iopub.status.busy": "2023-04-04T13:45:29.709330Z",
     "iopub.status.idle": "2023-04-04T13:45:30.121444Z",
     "shell.execute_reply": "2023-04-04T13:45:30.120104Z",
     "shell.execute_reply.started": "2023-04-04T13:45:29.709813Z"
    },
    "tags": []
   },
   "outputs": [],
   "source": [
    "sars2_mito_aligned_by_run = (\n",
    "    tallied_counts_tidy\n",
    "    .query(\"alignment_count_type != 'n_primary_or_equally_good_secondary'\")\n",
    "    .groupby(\n",
    "        [\"Run accession\", \"alignment_reference_type\", \"alignment_count_type\"],\n",
    "        as_index=False,\n",
    "    )\n",
    "    .aggregate({\"alignment_count\": \"sum\"})\n",
    "    .merge(read_counts, validate=\"many_to_one\", how=\"outer\")\n",
    "    .assign(\n",
    "        aligned_reads=lambda x: (\n",
    "            x\n",
    "            .groupby([\"Run accession\", \"alignment_count_type\"])\n",
    "            [\"alignment_count\"]\n",
    "            .transform(\"sum\")\n",
    "        ),\n",
    "        percent_preprocessed_reads=(\n",
    "            lambda x: x[\"alignment_count\"] / x[\"preprocessed_reads\"] * 100\n",
    "        ),\n",
    "        percent_aligned_reads=(\n",
    "            lambda x: x[\"alignment_count\"] / x[\"aligned_reads\"] * 100\n",
    "        ),\n",
    "    )\n",
    "    .rename(columns={\"alignment_reference_type\": \"aligned_to\"})\n",
    "    .merge(\n",
    "        metadata,\n",
    "        on=\"Run accession\",\n",
    "        validate=\"many_to_one\",\n",
    "        how=\"outer\",\n",
    "    )\n",
    "    .assign(\n",
    "        aligned_reads=lambda x: x[\"aligned_reads\"].astype(\"Int64\"),\n",
    "        alignment_count=lambda x: x[\"alignment_count\"].astype(\"Int64\"),\n",
    "    )\n",
    ")\n",
    "\n",
    "sars2_mito_aligned_by_run.to_csv(\n",
    "    snakemake.output[\"sars2_mito_aligned_by_run\"], index=False, float_format=\"%.5g\",\n",
    ")"
   ]
  },
  {
   "cell_type": "markdown",
   "id": "6d6385ce-0467-40cc-a449-aad91e9aa762",
   "metadata": {
    "execution": {
     "iopub.execute_input": "2023-04-04T12:31:56.085557Z",
     "iopub.status.busy": "2023-04-04T12:31:56.085007Z",
     "iopub.status.idle": "2023-04-04T12:31:56.093519Z",
     "shell.execute_reply": "2023-04-04T12:31:56.092581Z",
     "shell.execute_reply.started": "2023-04-04T12:31:56.085514Z"
    },
    "tags": []
   },
   "source": [
    "Now we do this by sample:"
   ]
  },
  {
   "cell_type": "code",
   "execution_count": 27,
   "id": "f9d7b1f6-50a1-4151-a843-c89e86cc2a84",
   "metadata": {
    "execution": {
     "iopub.execute_input": "2023-04-04T13:45:31.101932Z",
     "iopub.status.busy": "2023-04-04T13:45:31.101383Z",
     "iopub.status.idle": "2023-04-04T13:45:31.131143Z",
     "shell.execute_reply": "2023-04-04T13:45:31.130402Z",
     "shell.execute_reply.started": "2023-04-04T13:45:31.101888Z"
    },
    "tags": []
   },
   "outputs": [],
   "source": [
    "# columns that we sum across runs for each sample\n",
    "sum_cols = [\n",
    "    \"total_reads\",\n",
    "    \"preprocessed_reads\",\n",
    "    \"aligned_reads\",\n",
    "    \"alignment_count\",\n",
    "]\n",
    "\n",
    "sars2_mito_aligned_by_sample = (\n",
    "    sars2_mito_aligned_by_run\n",
    "    .groupby(\n",
    "        [\n",
    "            c for c in sars2_mito_aligned_by_run\n",
    "            if c not in sum_cols\n",
    "            and not c.startswith(\"percent_\")\n",
    "            and c != \"Run accession\"\n",
    "        ],\n",
    "        as_index=False,\n",
    "        dropna=False,\n",
    "    )\n",
    "    .aggregate({c: \"sum\" for c in sum_cols})\n",
    "    .assign(\n",
    "        percent_preprocessed_reads=(\n",
    "            lambda x: x[\"alignment_count\"] / x[\"preprocessed_reads\"] * 100\n",
    "        ),\n",
    "        percent_aligned_reads=(\n",
    "            lambda x: x[\"alignment_count\"] / x[\"aligned_reads\"] * 100\n",
    "        ),\n",
    "    )\n",
    ")\n",
    "\n",
    "assert (\n",
    "    len(sars2_mito_aligned_by_sample)\n",
    "    == len(\n",
    "        sars2_mito_aligned_by_sample\n",
    "        [[\"aligned_to\", \"alignment_count_type\", \"Sample title\"]]\n",
    "        .drop_duplicates()\n",
    "    )\n",
    ")\n",
    "\n",
    "sars2_mito_aligned_by_sample.to_csv(\n",
    "    snakemake.output[\"sars2_mito_aligned_by_sample\"], index=False, float_format=\"%.5g\",\n",
    ")"
   ]
  },
  {
   "cell_type": "markdown",
   "id": "024f4dc9-93f2-4f56-9380-716b59ca2dd7",
   "metadata": {},
   "source": [
    "## Composition of mitochondrial reads\n",
    "\n",
    "Apply filters.\n",
    "\n",
    "First exclude reads that aren't metagenomic:"
   ]
  },
  {
   "cell_type": "code",
   "execution_count": 40,
   "id": "29534cb0-dfb1-46ef-a28b-f41b6a4ea159",
   "metadata": {
    "execution": {
     "iopub.execute_input": "2023-04-04T13:55:43.278035Z",
     "iopub.status.busy": "2023-04-04T13:55:43.277354Z",
     "iopub.status.idle": "2023-04-04T13:55:43.670806Z",
     "shell.execute_reply": "2023-04-04T13:55:43.669904Z",
     "shell.execute_reply.started": "2023-04-04T13:55:43.277972Z"
    },
    "tags": []
   },
   "outputs": [
    {
     "name": "stdout",
     "output_type": "stream",
     "text": [
      "Excluding the following non-metagenomic runs: ['CRR711152', 'CRR711153', 'CRR711154', 'CRR711155']\n"
     ]
    }
   ],
   "source": [
    "non_metagenomic_runs = (\n",
    "    metadata\n",
    "    .query(\"description.str.contains('SARS-CoV-2 Amplicon')\")\n",
    "    [\"Run accession\"]\n",
    "    .unique()\n",
    "    .tolist()\n",
    ")\n",
    "\n",
    "print(f\"Excluding the following non-metagenomic runs: {non_metagenomic_runs}\")\n",
    "\n",
    "mito_counts = (\n",
    "    tallied_counts_tidy\n",
    "    .query(\"alignment_reference_type == 'mitochondrial genomes'\")\n",
    "    .query(\"`Run accession` not in @non_metagenomic_runs\")\n",
    ")"
   ]
  },
  {
   "cell_type": "markdown",
   "id": "600c91c7-ad43-4c50-a25c-6cbf078e58c0",
   "metadata": {},
   "source": [
    "Now exclude runs with insufficient primary read alignment counts:"
   ]
  },
  {
   "cell_type": "code",
   "execution_count": 41,
   "id": "b258ec79-2e5d-4f6e-9c31-ac4fa339f509",
   "metadata": {
    "execution": {
     "iopub.execute_input": "2023-04-04T13:55:45.315580Z",
     "iopub.status.busy": "2023-04-04T13:55:45.315001Z",
     "iopub.status.idle": "2023-04-04T13:55:45.659899Z",
     "shell.execute_reply": "2023-04-04T13:55:45.659264Z",
     "shell.execute_reply.started": "2023-04-04T13:55:45.315538Z"
    },
    "tags": []
   },
   "outputs": [
    {
     "name": "stdout",
     "output_type": "stream",
     "text": [
      "Excluding the following runs with insufficient aligned mitochondrial reads:\n"
     ]
    },
    {
     "data": {
      "text/html": [
       "<div>\n",
       "<style scoped>\n",
       "    .dataframe tbody tr th:only-of-type {\n",
       "        vertical-align: middle;\n",
       "    }\n",
       "\n",
       "    .dataframe tbody tr th {\n",
       "        vertical-align: top;\n",
       "    }\n",
       "\n",
       "    .dataframe thead th {\n",
       "        text-align: right;\n",
       "    }\n",
       "</style>\n",
       "<table border=\"1\" class=\"dataframe\">\n",
       "  <thead>\n",
       "    <tr style=\"text-align: right;\">\n",
       "      <th></th>\n",
       "      <th>Run accession</th>\n",
       "      <th>total_aligned_reads</th>\n",
       "    </tr>\n",
       "  </thead>\n",
       "  <tbody>\n",
       "    <tr>\n",
       "      <th>0</th>\n",
       "      <td>CRR710920</td>\n",
       "      <td>975.0</td>\n",
       "    </tr>\n",
       "    <tr>\n",
       "      <th>1</th>\n",
       "      <td>CRR710918</td>\n",
       "      <td>1023.0</td>\n",
       "    </tr>\n",
       "    <tr>\n",
       "      <th>2</th>\n",
       "      <td>CRR710919</td>\n",
       "      <td>1049.0</td>\n",
       "    </tr>\n",
       "    <tr>\n",
       "      <th>3</th>\n",
       "      <td>CRR710921</td>\n",
       "      <td>1203.0</td>\n",
       "    </tr>\n",
       "    <tr>\n",
       "      <th>4</th>\n",
       "      <td>CRR710769</td>\n",
       "      <td>1337.0</td>\n",
       "    </tr>\n",
       "    <tr>\n",
       "      <th>5</th>\n",
       "      <td>CRR710767</td>\n",
       "      <td>1921.0</td>\n",
       "    </tr>\n",
       "    <tr>\n",
       "      <th>6</th>\n",
       "      <td>CRR711076</td>\n",
       "      <td>3270.0</td>\n",
       "    </tr>\n",
       "    <tr>\n",
       "      <th>7</th>\n",
       "      <td>CRR711074</td>\n",
       "      <td>3282.0</td>\n",
       "    </tr>\n",
       "    <tr>\n",
       "      <th>8</th>\n",
       "      <td>CRR711068</td>\n",
       "      <td>3533.0</td>\n",
       "    </tr>\n",
       "    <tr>\n",
       "      <th>9</th>\n",
       "      <td>CRR711067</td>\n",
       "      <td>3592.0</td>\n",
       "    </tr>\n",
       "    <tr>\n",
       "      <th>10</th>\n",
       "      <td>CRR711069</td>\n",
       "      <td>3627.0</td>\n",
       "    </tr>\n",
       "    <tr>\n",
       "      <th>11</th>\n",
       "      <td>CRR711070</td>\n",
       "      <td>3645.0</td>\n",
       "    </tr>\n",
       "  </tbody>\n",
       "</table>\n",
       "</div>"
      ],
      "text/plain": [
       "   Run accession  total_aligned_reads\n",
       "0      CRR710920                975.0\n",
       "1      CRR710918               1023.0\n",
       "2      CRR710919               1049.0\n",
       "3      CRR710921               1203.0\n",
       "4      CRR710769               1337.0\n",
       "5      CRR710767               1921.0\n",
       "6      CRR711076               3270.0\n",
       "7      CRR711074               3282.0\n",
       "8      CRR711068               3533.0\n",
       "9      CRR711067               3592.0\n",
       "10     CRR711069               3627.0\n",
       "11     CRR711070               3645.0"
      ]
     },
     "metadata": {},
     "output_type": "display_data"
    },
    {
     "name": "stdout",
     "output_type": "stream",
     "text": [
      "1931001\n",
      "1912038\n"
     ]
    }
   ],
   "source": [
    "mito_composition_filters = snakemake.params[\"mito_composition_filters\"]\n",
    "\n",
    "insufficient_mito_reads = (\n",
    "    mito_counts\n",
    "    .query(\"alignment_count_type == 'n_primary'\")\n",
    "    .groupby(\"Run accession\", as_index=False)\n",
    "    .aggregate(total_aligned_reads=pd.NamedAgg(\"alignment_count\", \"sum\"))\n",
    "    .sort_values(\"total_aligned_reads\")\n",
    "    .query(\"total_aligned_reads < @mito_composition_filters['min_alignments_run_filter']\")\n",
    "    .reset_index(drop=True)\n",
    ")\n",
    "\n",
    "print(\"Excluding the following runs with insufficient aligned mitochondrial reads:\")\n",
    "display(insufficient_mito_reads)\n",
    "\n",
    "mito_counts = mito_counts[\n",
    "    ~mito_counts[\"Run accession\"].isin(insufficient_mito_reads[\"Run accession\"])\n",
    "]"
   ]
  },
  {
   "cell_type": "markdown",
   "id": "16e75ff2-dc43-4557-a64e-959ee29c7e41",
   "metadata": {
    "execution": {
     "iopub.execute_input": "2023-04-04T13:43:25.177040Z",
     "iopub.status.busy": "2023-04-04T13:43:25.176357Z",
     "iopub.status.idle": "2023-04-04T13:43:25.184777Z",
     "shell.execute_reply": "2023-04-04T13:43:25.183760Z",
     "shell.execute_reply.started": "2023-04-04T13:43:25.176998Z"
    },
    "tags": []
   },
   "source": [
    "Now exclude mitochondrial reference genomes that don't have a high enough percentage of primary read alignments:"
   ]
  },
  {
   "cell_type": "code",
   "execution_count": 66,
   "id": "89a56047-8ab0-43ad-bac8-79a6176b6848",
   "metadata": {
    "execution": {
     "iopub.execute_input": "2023-04-04T14:12:33.405327Z",
     "iopub.status.busy": "2023-04-04T14:12:33.404811Z",
     "iopub.status.idle": "2023-04-04T14:12:33.668050Z",
     "shell.execute_reply": "2023-04-04T14:12:33.667477Z",
     "shell.execute_reply.started": "2023-04-04T14:12:33.405294Z"
    },
    "tags": []
   },
   "outputs": [
    {
     "data": {
      "text/html": [
       "<div>\n",
       "<style scoped>\n",
       "    .dataframe tbody tr th:only-of-type {\n",
       "        vertical-align: middle;\n",
       "    }\n",
       "\n",
       "    .dataframe tbody tr th {\n",
       "        vertical-align: top;\n",
       "    }\n",
       "\n",
       "    .dataframe thead th {\n",
       "        text-align: right;\n",
       "    }\n",
       "</style>\n",
       "<table border=\"1\" class=\"dataframe\">\n",
       "  <thead>\n",
       "    <tr style=\"text-align: right;\">\n",
       "      <th></th>\n",
       "      <th>alignment_reference</th>\n",
       "      <th>max_percent</th>\n",
       "      <th>species</th>\n",
       "      <th>common_name</th>\n",
       "    </tr>\n",
       "  </thead>\n",
       "  <tbody>\n",
       "    <tr>\n",
       "      <th>0</th>\n",
       "      <td>NC_023117.1</td>\n",
       "      <td>0.100210</td>\n",
       "      <td>Annulohypoxylon stygium</td>\n",
       "      <td>NaN</td>\n",
       "    </tr>\n",
       "    <tr>\n",
       "      <th>1</th>\n",
       "      <td>NC_031864.1</td>\n",
       "      <td>0.100763</td>\n",
       "      <td>Raphus cucullatus</td>\n",
       "      <td>NaN</td>\n",
       "    </tr>\n",
       "    <tr>\n",
       "      <th>2</th>\n",
       "      <td>NC_031515.1</td>\n",
       "      <td>0.100908</td>\n",
       "      <td>Saccharomyces pastorianus strain NRRL Y-27171</td>\n",
       "      <td>NaN</td>\n",
       "    </tr>\n",
       "    <tr>\n",
       "      <th>3</th>\n",
       "      <td>NC_001646.1</td>\n",
       "      <td>0.100955</td>\n",
       "      <td>Pongo pygmaeus</td>\n",
       "      <td>NaN</td>\n",
       "    </tr>\n",
       "    <tr>\n",
       "      <th>4</th>\n",
       "      <td>NC_037181.1</td>\n",
       "      <td>0.101104</td>\n",
       "      <td>Changeondelphax velitchkovskyi</td>\n",
       "      <td>NaN</td>\n",
       "    </tr>\n",
       "    <tr>\n",
       "      <th>...</th>\n",
       "      <td>...</td>\n",
       "      <td>...</td>\n",
       "      <td>...</td>\n",
       "      <td>...</td>\n",
       "    </tr>\n",
       "    <tr>\n",
       "      <th>796</th>\n",
       "      <td>NC_069591.1</td>\n",
       "      <td>36.433071</td>\n",
       "      <td>Taxus chinensis</td>\n",
       "      <td>NaN</td>\n",
       "    </tr>\n",
       "    <tr>\n",
       "      <th>797</th>\n",
       "      <td>NC_031832.1</td>\n",
       "      <td>40.334582</td>\n",
       "      <td>Palpitomonas bilix</td>\n",
       "      <td>NaN</td>\n",
       "    </tr>\n",
       "    <tr>\n",
       "      <th>798</th>\n",
       "      <td>NC_053523.1</td>\n",
       "      <td>44.587674</td>\n",
       "      <td>Gallus gallus isolate bGalGal1</td>\n",
       "      <td>chicken</td>\n",
       "    </tr>\n",
       "    <tr>\n",
       "      <th>799</th>\n",
       "      <td>NC_069157.1</td>\n",
       "      <td>46.232426</td>\n",
       "      <td>Psychoda alternata</td>\n",
       "      <td>NaN</td>\n",
       "    </tr>\n",
       "    <tr>\n",
       "      <th>800</th>\n",
       "      <td>NC_029745.1</td>\n",
       "      <td>94.169439</td>\n",
       "      <td>Pyronema omphalodes strain CBS 100304 culture-...</td>\n",
       "      <td>NaN</td>\n",
       "    </tr>\n",
       "  </tbody>\n",
       "</table>\n",
       "<p>801 rows × 4 columns</p>\n",
       "</div>"
      ],
      "text/plain": [
       "    alignment_reference  max_percent  \\\n",
       "0           NC_023117.1     0.100210   \n",
       "1           NC_031864.1     0.100763   \n",
       "2           NC_031515.1     0.100908   \n",
       "3           NC_001646.1     0.100955   \n",
       "4           NC_037181.1     0.101104   \n",
       "..                  ...          ...   \n",
       "796         NC_069591.1    36.433071   \n",
       "797         NC_031832.1    40.334582   \n",
       "798         NC_053523.1    44.587674   \n",
       "799         NC_069157.1    46.232426   \n",
       "800         NC_029745.1    94.169439   \n",
       "\n",
       "                                               species common_name  \n",
       "0                              Annulohypoxylon stygium         NaN  \n",
       "1                                    Raphus cucullatus         NaN  \n",
       "2        Saccharomyces pastorianus strain NRRL Y-27171         NaN  \n",
       "3                                       Pongo pygmaeus         NaN  \n",
       "4                       Changeondelphax velitchkovskyi         NaN  \n",
       "..                                                 ...         ...  \n",
       "796                                    Taxus chinensis         NaN  \n",
       "797                                 Palpitomonas bilix         NaN  \n",
       "798                     Gallus gallus isolate bGalGal1     chicken  \n",
       "799                                 Psychoda alternata         NaN  \n",
       "800  Pyronema omphalodes strain CBS 100304 culture-...         NaN  \n",
       "\n",
       "[801 rows x 4 columns]"
      ]
     },
     "execution_count": 66,
     "metadata": {},
     "output_type": "execute_result"
    }
   ],
   "source": [
    "keeping = ( \n",
    "    mito_counts\n",
    "    .query(\"alignment_count_type == 'n_primary'\")\n",
    "    .assign(\n",
    "        total=lambda x: x.groupby(\"Run accession\")[\"alignment_count\"].transform(\"sum\"),\n",
    "        percent=lambda x: 100 * x[\"alignment_count\"] / x[\"total\"],\n",
    "    )\n",
    "    .groupby(\"alignment_reference\", as_index=False)\n",
    "    .aggregate(max_percent=pd.NamedAgg(\"percent\", \"max\"))\n",
    "    .sort_values(\"max_percent\")\n",
    "    .query(\"max_percent >= @mito_composition_filters['min_percent_aligned_genome_filter']\")\n",
    "    .merge(mito_ref_info.rename(columns={\"id\": \"alignment_reference\"}))\n",
    " #   .query(\"species == 'Mustela sibirica'\")\n",
    ")\n",
    "\n",
    "keeping"
   ]
  },
  {
   "cell_type": "code",
   "execution_count": 60,
   "id": "39b1a886-f783-4451-a75e-dc5a71ee87cc",
   "metadata": {
    "execution": {
     "iopub.execute_input": "2023-04-04T14:09:52.713313Z",
     "iopub.status.busy": "2023-04-04T14:09:52.712637Z",
     "iopub.status.idle": "2023-04-04T14:09:52.719478Z",
     "shell.execute_reply": "2023-04-04T14:09:52.718736Z",
     "shell.execute_reply.started": "2023-04-04T14:09:52.713270Z"
    },
    "tags": []
   },
   "outputs": [
    {
     "name": "stdout",
     "output_type": "stream",
     "text": [
      "raccoon dog Nyctereutes procyonoides True\n",
      "hedgehog Erinaceus europaeus True\n",
      "Malayan porcupine Hystrix brachyura True\n",
      "hoary bamboo rat Rhizomys pruinosus True\n",
      "Himalayan marmot Marmota himalayana True\n",
      "masked palm civet Paguma larvata True\n",
      "Siberian weasel Mustela sibirica False\n",
      "hog badger Arctonyx collaris True\n",
      "human Homo sapiens True\n",
      "cow Bos taurus True\n",
      "sheep Ovis orientalis True\n",
      "brown rat Rattus norvegicus strain Wistar True\n",
      "pig Sus scrofa domesticus True\n",
      "dog Canis lupus familiaris True\n",
      "cat Felis catus True\n",
      "chicken Gallus gallus isolate bGalGal1 True\n",
      "duck Anas poecilorhyncha True\n"
     ]
    }
   ],
   "source": [
    "for common, species in mito_genomes_to_keep.items():\n",
    "    print(common, species, species in keeping)"
   ]
  },
  {
   "cell_type": "code",
   "execution_count": 65,
   "id": "8c83b527-11f8-4e80-9376-80addc2ceb38",
   "metadata": {
    "execution": {
     "iopub.execute_input": "2023-04-04T14:12:00.675512Z",
     "iopub.status.busy": "2023-04-04T14:12:00.674835Z",
     "iopub.status.idle": "2023-04-04T14:12:00.685382Z",
     "shell.execute_reply": "2023-04-04T14:12:00.684333Z",
     "shell.execute_reply.started": "2023-04-04T14:12:00.675470Z"
    },
    "tags": []
   },
   "outputs": [
    {
     "data": {
      "text/plain": [
       "0.03575898444484177"
      ]
     },
     "execution_count": 65,
     "metadata": {},
     "output_type": "execute_result"
    }
   ],
   "source": [
    "keeping[\"max_percent\"].quantile(0.5)"
   ]
  },
  {
   "cell_type": "code",
   "execution_count": null,
   "id": "2f56454c-d5fe-4b2c-9716-7f452f23173b",
   "metadata": {},
   "outputs": [],
   "source": []
  }
 ],
 "metadata": {
  "kernelspec": {
   "display_name": "Python 3 (ipykernel)",
   "language": "python",
   "name": "python3"
  },
  "language_info": {
   "codemirror_mode": {
    "name": "ipython",
    "version": 3
   },
   "file_extension": ".py",
   "mimetype": "text/x-python",
   "name": "python",
   "nbconvert_exporter": "python",
   "pygments_lexer": "ipython3",
   "version": "3.10.8"
  }
 },
 "nbformat": 4,
 "nbformat_minor": 5
}
