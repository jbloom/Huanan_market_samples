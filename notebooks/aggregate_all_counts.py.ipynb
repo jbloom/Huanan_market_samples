{
 "cells": [
  {
   "cell_type": "markdown",
   "id": "aa01eedb-fcbd-45b5-a642-c308b717a25c",
   "metadata": {
    "tags": []
   },
   "source": [
    "# Aggregate all the various counts and metadata"
   ]
  },
  {
   "cell_type": "code",
   "execution_count": null,
   "id": "080d9351-837f-4e60-b199-de54a8e67b66",
   "metadata": {
    "tags": []
   },
   "outputs": [],
   "source": [
    "import numpy\n",
    "\n",
    "import pandas as pd"
   ]
  },
  {
   "cell_type": "markdown",
   "id": "442943df-4fd0-455e-ab33-1c0c16a61496",
   "metadata": {},
   "source": [
    "Get variables from `snakemake`:"
   ]
  },
  {
   "cell_type": "code",
   "execution_count": null,
   "id": "301ac539-6b0b-4d37-b08b-43a059f521e8",
   "metadata": {
    "tags": []
   },
   "outputs": [],
   "source": [
    "counts_and_coverage_files = snakemake.input.counts_and_coverage\n",
    "mito_ref_info_csv = snakemake.input.mito_ref_info\n",
    "metadata_csv = snakemake.input.metadata\n",
    "read_counts_csv = snakemake.input.read_counts\n",
    "sars2_ref_id = snakemake.params.sars2_ref_id\n",
    "mito_genomes_to_keep = snakemake.params.mito_genomes_to_keep\n",
    "mito_composition_filters = snakemake.params.mito_composition_filters\n",
    "metagenomic_descriptions = snakemake.params.metagenomic_descriptions"
   ]
  },
  {
   "cell_type": "markdown",
   "id": "bfc352d8-105f-4f1e-9412-b376809d0b25",
   "metadata": {},
   "source": [
    "Read information on mitochondrial reference genomes, and get species name as just first two words:"
   ]
  },
  {
   "cell_type": "code",
   "execution_count": null,
   "id": "9936a779-9b99-4b35-b2b1-cf41bdd23edc",
   "metadata": {
    "tags": []
   },
   "outputs": [],
   "source": [
    "mito_ref_info = pd.read_csv(mito_ref_info_csv)\n",
    "\n",
    "mito_ref_info"
   ]
  },
  {
   "cell_type": "markdown",
   "id": "28989fa2-3ee3-4f93-9c2d-1cfdd8b50765",
   "metadata": {},
   "source": [
    "Read metadata on samples.\n",
    "For sample titles that have multiple sample names, append the name to the title:"
   ]
  },
  {
   "cell_type": "code",
   "execution_count": null,
   "id": "66dd0295-14a9-4004-a670-a7c609ba2459",
   "metadata": {
    "tags": []
   },
   "outputs": [],
   "source": [
    "metadata_all = pd.read_csv(metadata_csv)\n",
    "\n",
    "# downsize to most relevant metadata to keep\n",
    "metadata = (\n",
    "    metadata_all\n",
    "    # make sample titles unique if they correspond to multiple names\n",
    "    .assign(\n",
    "        n_sample_names=lambda x: (\n",
    "            x.groupby(\"Sample title\")[\"Sample name\"].transform(\"nunique\")\n",
    "        ),\n",
    "        sample=lambda x: x[\"Sample title\"].where(\n",
    "            x[\"n_sample_names\"] == 1,\n",
    "            x[\"Sample title\"] + \"_\" + x[\"Sample name\"],\n",
    "        )\n",
    "    )\n",
    "    # rename and organize\n",
    "    .rename(columns={\"Public description\": \"description\"})\n",
    "    [\n",
    "        [\n",
    "            \"Run accession\",\n",
    "            \"sample\",\n",
    "            \"Sample name\",\n",
    "            \"Collection date\",\n",
    "            \"description\",\n",
    "            \"Isolation source\",\n",
    "        ]\n",
    "    ]\n",
    ")"
   ]
  },
  {
   "cell_type": "markdown",
   "id": "bf5e0344-11fa-406b-99b1-5d9d10e238f1",
   "metadata": {},
   "source": [
    "Tally all the alignment counts:"
   ]
  },
  {
   "cell_type": "code",
   "execution_count": null,
   "id": "be252664-0415-4f43-b4f1-25d6c642bf5f",
   "metadata": {
    "tags": []
   },
   "outputs": [],
   "source": [
    "counts_and_coverage = pd.concat(\n",
    "    [\n",
    "        (\n",
    "            pd.read_csv(\n",
    "                f,\n",
    "                sep=\"\\t\",\n",
    "                names=[\"alignment_reference\", \"aligned_reads\", \"covered_bases\"],\n",
    "                header=0,\n",
    "            )\n",
    "            .assign(**{\"Run accession\": os.path.splitext(os.path.basename(f))[0]})\n",
    "        )\n",
    "        for f in counts_and_coverage_files\n",
    "    ],\n",
    "    ignore_index=True,\n",
    ")[[\"Run accession\", \"alignment_reference\", \"aligned_reads\", \"covered_bases\"]]\n",
    "\n",
    "# make sure all alignment references are SARS2 or a known mitochondrial genome\n",
    "assert set(counts_and_coverage[\"alignment_reference\"]).issubset(\n",
    "    set(mito_ref_info[\"id\"]).union([sars2_ref_id])\n",
    ")\n",
    "\n",
    "assert (\n",
    "    len(counts_and_coverage)\n",
    "    == len(counts_and_coverage.drop_duplicates())\n",
    "    == counts_and_coverage[\"alignment_reference\"].nunique() * counts_and_coverage[\"Run accession\"].nunique()\n",
    ")\n",
    "\n",
    "counts_and_coverage"
   ]
  },
  {
   "cell_type": "markdown",
   "id": "6955a97c-9227-4993-a247-1ccf487fd55b",
   "metadata": {},
   "source": [
    "Get the read and alignment counts:"
   ]
  },
  {
   "cell_type": "code",
   "execution_count": null,
   "id": "b1e5d096-cfe9-4bb1-b255-c178daa5a605",
   "metadata": {
    "tags": []
   },
   "outputs": [],
   "source": [
    "read_counts = pd.read_csv(read_counts_csv)"
   ]
  },
  {
   "cell_type": "markdown",
   "id": "6748fae6-e8a7-4b99-85c2-980abbe1ac04",
   "metadata": {},
   "source": [
    "## SARS-CoV-2 read counts\n",
    "Now get the SARS-CoV-2 read counts as a percentage of all preprocessed reads.\n",
    "\n",
    "We first do this by run:"
   ]
  },
  {
   "cell_type": "code",
   "execution_count": null,
   "id": "a8807c49-2033-43ec-a14a-d68ce74ab27a",
   "metadata": {
    "tags": []
   },
   "outputs": [],
   "source": [
    "sars2_aligned_by_run = (\n",
    "    counts_and_coverage\n",
    "    .query(\"alignment_reference == @sars2_ref_id\")\n",
    "    .drop(columns=\"alignment_reference\")\n",
    "    .rename(\n",
    "        columns={\n",
    "            \"aligned_reads\": \"SARS2_aligned_reads\",\n",
    "            \"covered_bases\": \"SARS2_covered_bases\",\n",
    "        },\n",
    "    )\n",
    "    .merge(read_counts, validate=\"one_to_one\", how=\"outer\")\n",
    "    .assign(\n",
    "        percent_preprocessed_reads_aligning_to_SARS2=(\n",
    "            lambda x: x[\"SARS2_aligned_reads\"] / x[\"preprocessed_reads\"] * 100\n",
    "        ),\n",
    "    )\n",
    "    .merge(\n",
    "        metadata,\n",
    "        on=\"Run accession\",\n",
    "        validate=\"one_to_one\",\n",
    "        how=\"outer\",\n",
    "    )\n",
    ")\n",
    "\n",
    "sars2_aligned_by_run.to_csv(\n",
    "    snakemake.output[\"sars2_aligned_by_run\"], index=False, float_format=\"%.5g\",\n",
    ")\n",
    "\n",
    "sars2_aligned_by_run"
   ]
  },
  {
   "cell_type": "markdown",
   "id": "6d6385ce-0467-40cc-a449-aad91e9aa762",
   "metadata": {
    "execution": {
     "iopub.execute_input": "2023-04-04T12:31:56.085557Z",
     "iopub.status.busy": "2023-04-04T12:31:56.085007Z",
     "iopub.status.idle": "2023-04-04T12:31:56.093519Z",
     "shell.execute_reply": "2023-04-04T12:31:56.092581Z",
     "shell.execute_reply.started": "2023-04-04T12:31:56.085514Z"
    },
    "tags": []
   },
   "source": [
    "Now we do this by sample (aggregating runs for each sample) for **just the metagenomic samples**."
   ]
  },
  {
   "cell_type": "code",
   "execution_count": null,
   "id": "f9d7b1f6-50a1-4151-a843-c89e86cc2a84",
   "metadata": {
    "tags": []
   },
   "outputs": [],
   "source": [
    "# columns that we sum across runs for each sample\n",
    "sum_cols = [\n",
    "    \"total_reads\",\n",
    "    \"preprocessed_reads\",\n",
    "    \"SARS2_aligned_reads\",\n",
    "]\n",
    "\n",
    "sars2_aligned_by_metagenomic_sample = (\n",
    "    sars2_aligned_by_run\n",
    "    .query(\"description in @metagenomic_descriptions\")\n",
    "    .groupby(\n",
    "        [\n",
    "            c for c in sars2_aligned_by_run\n",
    "            if c not in sum_cols\n",
    "            and not c.startswith(\"percent_\")\n",
    "            and c not in [\"Run accession\", \"SARS2_covered_bases\"]\n",
    "        ],\n",
    "        as_index=False,\n",
    "        dropna=False,\n",
    "    )\n",
    "    .aggregate({c: \"sum\" for c in sum_cols})\n",
    "    .assign(\n",
    "        percent_preprocessed_reads_aligning_to_SARS2=(\n",
    "            lambda x: x[\"SARS2_aligned_reads\"] / x[\"preprocessed_reads\"] * 100\n",
    "        ),\n",
    "    )\n",
    ")\n",
    "\n",
    "dup_samples = (\n",
    "    sars2_aligned_by_metagenomic_sample\n",
    "    .groupby(\"sample\")\n",
    "    .aggregate(\n",
    "        n=pd.NamedAgg(\"total_reads\", \"count\"),\n",
    "        sample_names=pd.NamedAgg(\"Sample name\", \"unique\"),\n",
    "    )\n",
    "    .query(\"n > 1\")\n",
    ")\n",
    "\n",
    "assert not len(dup_samples), f\"Some duplicated sample names\\n{dup_samples}\"\n",
    "\n",
    "sars2_aligned_by_metagenomic_sample.to_csv(\n",
    "    snakemake.output[\"sars2_aligned_by_metagenomic_sample\"], index=False, float_format=\"%.5g\",\n",
    ")\n",
    "\n",
    "sars2_aligned_by_metagenomic_sample.sort_values(\"SARS2_aligned_reads\")"
   ]
  },
  {
   "cell_type": "markdown",
   "id": "024f4dc9-93f2-4f56-9380-716b59ca2dd7",
   "metadata": {},
   "source": [
    "## Composition of mitochondrial reads\n",
    "\n",
    "Do some filtering on the runs:\n",
    " - Get just the mitochondrial counts\n",
    " - Only keep runs with the metagenomic description\n",
    " - Exclude runs with insufficient alignment counts to mitochondria"
   ]
  },
  {
   "cell_type": "code",
   "execution_count": null,
   "id": "b258ec79-2e5d-4f6e-9c31-ac4fa339f509",
   "metadata": {
    "tags": []
   },
   "outputs": [],
   "source": [
    "mito_counts = (\n",
    "    counts_and_coverage\n",
    "    .merge(metadata, validate=\"many_to_one\")\n",
    "    .query(\"alignment_reference != @sars2_ref_id\")\n",
    "    .query(\"description in @metagenomic_descriptions\")\n",
    ")\n",
    "\n",
    "insufficient_mito_reads = (\n",
    "    mito_counts\n",
    "    .groupby(\"Run accession\", as_index=False)\n",
    "    .aggregate(total_aligned_reads=pd.NamedAgg(\"aligned_reads\", \"sum\"))\n",
    "    .sort_values(\"total_aligned_reads\")\n",
    "    .query(\"total_aligned_reads < @mito_composition_filters['min_alignments_run_filter']\")\n",
    "    .reset_index(drop=True)\n",
    "    .merge(metadata, how=\"left\")\n",
    ")\n",
    "\n",
    "print(\"Excluding the following metagenomic runs with insufficient aligned mitochondrial reads:\")\n",
    "display(insufficient_mito_reads)\n",
    "\n",
    "mito_counts = mito_counts[\n",
    "    ~mito_counts[\"Run accession\"].isin(insufficient_mito_reads[\"Run accession\"])\n",
    "]"
   ]
  },
  {
   "cell_type": "markdown",
   "id": "16e75ff2-dc43-4557-a64e-959ee29c7e41",
   "metadata": {
    "execution": {
     "iopub.execute_input": "2023-04-04T13:43:25.177040Z",
     "iopub.status.busy": "2023-04-04T13:43:25.176357Z",
     "iopub.status.idle": "2023-04-04T13:43:25.184777Z",
     "shell.execute_reply": "2023-04-04T13:43:25.183760Z",
     "shell.execute_reply.started": "2023-04-04T13:43:25.176998Z"
    },
    "tags": []
   },
   "source": [
    "Now exclude mitochondrial reference genomes that don't have a high enough percentage of read alignments or are not delineated in the list to keep:"
   ]
  },
  {
   "cell_type": "code",
   "execution_count": null,
   "id": "89a56047-8ab0-43ad-bac8-79a6176b6848",
   "metadata": {
    "tags": []
   },
   "outputs": [],
   "source": [
    "mito_max_primary_percent = ( \n",
    "    mito_counts\n",
    "    .assign(\n",
    "        total=lambda x: x.groupby(\"Run accession\")[\"aligned_reads\"].transform(\"sum\"),\n",
    "        percent=lambda x: 100 * x[\"aligned_reads\"] / x[\"total\"],\n",
    "    )\n",
    "    .groupby(\"alignment_reference\", as_index=False)\n",
    "    .aggregate(\n",
    "        max_percent=pd.NamedAgg(\"percent\", \"max\"),\n",
    "        avg_percent=pd.NamedAgg(\"percent\", \"mean\"),\n",
    "        max_coverage=pd.NamedAgg(\"covered_bases\", \"max\"),\n",
    "    )\n",
    "    .sort_values(\"max_percent\")\n",
    "    .merge(mito_ref_info.rename(columns={\"id\": \"alignment_reference\"}))\n",
    ")\n",
    "\n",
    "min_percent = mito_composition_filters[\"min_percent_aligned_genome_filter\"]\n",
    "min_coverage = mito_composition_filters[\"min_coverage_aligned_genome_filter\"]\n",
    "\n",
    "mito_to_keep = (\n",
    "    mito_max_primary_percent\n",
    "    .assign(\n",
    "        to_keep=lambda x: x[\"species\"].map(\n",
    "            lambda s: any(s.startswith(s_to_keep) for s_to_keep in mito_genomes_to_keep.values())\n",
    "        )\n",
    "    )\n",
    "    .query(\"((max_percent >= @min_percent) and (max_coverage >= @min_coverage)) or to_keep\")\n",
    "    .sort_values(\"max_percent\", ascending=False)\n",
    "    .reset_index(drop=True)\n",
    ")\n",
    "\n",
    "assert all(\n",
    "    any(s_kept.startswith(s_to_keep) for s_kept in mito_to_keep[\"species\"])\n",
    "    for s_to_keep in mito_genomes_to_keep.values()\n",
    ")\n",
    "\n",
    "print(\"Keeping the following mitochondrial genomes:\")\n",
    "display(mito_to_keep.sort_values(\"max_percent\", ascending=False).round(2))\n",
    "\n",
    "mito_ids_to_keep = mito_to_keep[\"alignment_reference\"].tolist()"
   ]
  },
  {
   "cell_type": "markdown",
   "id": "9a92f6fe-1de8-4418-a325-3588589e31c3",
   "metadata": {},
   "source": [
    "Now get just the counts for those mitochondrial genomes to keep, aggregating all other counts to \"other\" and pivoting / melting to add zero counts:"
   ]
  },
  {
   "cell_type": "code",
   "execution_count": null,
   "id": "5efa6705-0c17-4a85-a8bc-f13c34cbb9c6",
   "metadata": {
    "tags": []
   },
   "outputs": [],
   "source": [
    "mito_counts_by_metagenomic_run = (\n",
    "    counts_and_coverage\n",
    "    [[\"Run accession\", \"alignment_reference\", \"aligned_reads\"]]\n",
    "    .query(\"alignment_reference.isin(@mito_ids_to_keep)\")\n",
    "    .rename(columns={\"alignment_reference\": \"reference_id\"})\n",
    "    # add more information on references, and shorten species name to first two words\n",
    "    .merge(mito_ref_info.rename(columns={\"id\": \"reference_id\"}), how=\"left\")\n",
    "    .assign(\n",
    "        species=lambda x: x[\"species\"].map(lambda s: \" \".join(s.split()[: 2])),\n",
    "    )\n",
    "    # add other information\n",
    "    .merge(\n",
    "        sars2_aligned_by_run\n",
    "        .drop(columns=[\"percent_preprocessed_reads_aligning_to_SARS2\", \"SARS2_covered_bases\"]),\n",
    "        how=\"left\",\n",
    "    )\n",
    ")\n",
    "\n",
    "mito_counts_by_metagenomic_run.to_csv(\n",
    "    snakemake.output[\"mito_composition_by_metagenomic_run\"], index=False, float_format=\"%.5f\",\n",
    ")\n",
    "\n",
    "# debugging\n",
    "assert mito_counts_by_metagenomic_run.notnull().all().all(), mito_counts_by_metagenomic_run.notnull().all()\n",
    "\n",
    "mito_counts_by_metagenomic_run"
   ]
  },
  {
   "cell_type": "markdown",
   "id": "917eb8e5-1903-4916-b4cb-bc32cc87906c",
   "metadata": {
    "execution": {
     "iopub.status.busy": "2023-04-05T20:15:01.703158Z",
     "iopub.status.idle": "2023-04-05T20:15:01.704024Z",
     "shell.execute_reply": "2023-04-05T20:15:01.703776Z",
     "shell.execute_reply.started": "2023-04-05T20:15:01.703749Z"
    },
    "tags": []
   },
   "source": [
    "Now we get the mitochondrial counts by **sample** (aggregating counts across run for the same sample:"
   ]
  },
  {
   "cell_type": "code",
   "execution_count": null,
   "id": "8c83b527-11f8-4e80-9376-80addc2ceb38",
   "metadata": {
    "tags": []
   },
   "outputs": [],
   "source": [
    "# columns that we sum across runs for each sample\n",
    "sum_cols = [\n",
    "    \"aligned_reads\",\n",
    "    \"total_reads\",\n",
    "    \"preprocessed_reads\",\n",
    "    \"SARS2_aligned_reads\",\n",
    "]\n",
    "\n",
    "mito_counts_by_metagenomic_sample = (\n",
    "    mito_counts_by_metagenomic_run\n",
    "    .groupby(\n",
    "        [\n",
    "            c for c in mito_counts_by_metagenomic_run\n",
    "            if c not in sum_cols\n",
    "            and c not in {\"Run accession\"}\n",
    "        ],\n",
    "        as_index=False,\n",
    "        dropna=False,\n",
    "    )\n",
    "    .aggregate({c: \"sum\" for c in sum_cols})\n",
    ")\n",
    "\n",
    "dup_samples = (\n",
    "    mito_counts_by_metagenomic_sample\n",
    "    .groupby([\"reference_id\", \"sample\"])\n",
    "    .aggregate(\n",
    "        n=pd.NamedAgg(\"aligned_reads\", \"count\"),\n",
    "        sample_names=pd.NamedAgg(\"Sample name\", \"unique\"),\n",
    "    )\n",
    "    .query(\"n > 1\")\n",
    ")\n",
    "\n",
    "assert not len(dup_samples), f\"Some duplicated sample names\\n{dup_samples}\"\n",
    "\n",
    "mito_counts_by_metagenomic_sample.to_csv(\n",
    "    snakemake.output[\"mito_composition_by_metagenomic_sample\"], index=False, float_format=\"%.5g\",\n",
    ")\n",
    "\n",
    "mito_counts_by_metagenomic_sample"
   ]
  },
  {
   "cell_type": "code",
   "execution_count": null,
   "id": "cae22a2c-4c9f-4af9-b9f1-661e6998bc72",
   "metadata": {},
   "outputs": [],
   "source": []
  }
 ],
 "metadata": {
  "kernelspec": {
   "display_name": "Python 3 (ipykernel)",
   "language": "python",
   "name": "python3"
  },
  "language_info": {
   "codemirror_mode": {
    "name": "ipython",
    "version": 3
   },
   "file_extension": ".py",
   "mimetype": "text/x-python",
   "name": "python",
   "nbconvert_exporter": "python",
   "pygments_lexer": "ipython3",
   "version": "3.10.8"
  }
 },
 "nbformat": 4,
 "nbformat_minor": 5
}
