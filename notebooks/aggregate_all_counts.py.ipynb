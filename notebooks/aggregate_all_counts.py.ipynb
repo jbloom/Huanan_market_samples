{
 "cells": [
  {
   "cell_type": "markdown",
   "id": "aa01eedb-fcbd-45b5-a642-c308b717a25c",
   "metadata": {},
   "source": [
    "# Aggregate all the various counts and metadata"
   ]
  },
  {
   "cell_type": "code",
   "execution_count": null,
   "id": "080d9351-837f-4e60-b199-de54a8e67b66",
   "metadata": {
    "tags": []
   },
   "outputs": [],
   "source": [
    "import pandas as pd"
   ]
  },
  {
   "cell_type": "markdown",
   "id": "442943df-4fd0-455e-ab33-1c0c16a61496",
   "metadata": {},
   "source": [
    "Get variables from `snakemake`:"
   ]
  },
  {
   "cell_type": "code",
   "execution_count": null,
   "id": "301ac539-6b0b-4d37-b08b-43a059f521e8",
   "metadata": {
    "tags": []
   },
   "outputs": [],
   "source": [
    "tallied_count_files = snakemake.input.tallied_counts\n",
    "mito_ref_info_csv = snakemake.input.mito_ref_info\n",
    "metadata_csv = snakemake.input.metadata\n",
    "read_counts_csv = snakemake.input.read_counts\n",
    "sars2_ref_id = snakemake.params.sars2_ref_id\n",
    "mito_genomes_to_keep = snakemake.params.mito_genomes_to_keep\n",
    "mito_composition_filters = snakemake.params.mito_composition_filters\n",
    "metagenomic_descriptions = snakemake.params.metagenomic_descriptions"
   ]
  },
  {
   "cell_type": "markdown",
   "id": "bfc352d8-105f-4f1e-9412-b376809d0b25",
   "metadata": {},
   "source": [
    "Read information on mitochondrial reference genomes:"
   ]
  },
  {
   "cell_type": "code",
   "execution_count": null,
   "id": "9936a779-9b99-4b35-b2b1-cf41bdd23edc",
   "metadata": {
    "tags": []
   },
   "outputs": [],
   "source": [
    "mito_ref_info = pd.read_csv(mito_ref_info_csv)"
   ]
  },
  {
   "cell_type": "markdown",
   "id": "28989fa2-3ee3-4f93-9c2d-1cfdd8b50765",
   "metadata": {},
   "source": [
    "Read metadata on samples.\n",
    "For sample titles that have multiple sample names, append the name to the title:"
   ]
  },
  {
   "cell_type": "code",
   "execution_count": null,
   "id": "66dd0295-14a9-4004-a670-a7c609ba2459",
   "metadata": {
    "tags": []
   },
   "outputs": [],
   "source": [
    "metadata_all = pd.read_csv(metadata_csv)\n",
    "\n",
    "# downsize to most relevant metadata to keep\n",
    "metadata = (\n",
    "    metadata_all\n",
    "    # make sample titles unique if they correspond to multiple names\n",
    "    .assign(\n",
    "        n_sample_names=lambda x: (\n",
    "            x.groupby(\"Sample title\")[\"Sample name\"].transform(\"nunique\")\n",
    "        ),\n",
    "        sample=lambda x: x[\"Sample title\"].where(\n",
    "            x[\"n_sample_names\"] == 1,\n",
    "            x[\"Sample title\"] + \"_\" + x[\"Sample name\"],\n",
    "        )\n",
    "    )\n",
    "    # rename and organize\n",
    "    .rename(columns={\"Public description\": \"description\"})\n",
    "    [\n",
    "        [\n",
    "            \"Run accession\",\n",
    "            \"sample\",\n",
    "            \"Sample name\",\n",
    "            \"Collection date\",\n",
    "            \"description\",\n",
    "            \"Isolation source\",\n",
    "        ]\n",
    "    ]\n",
    ")"
   ]
  },
  {
   "cell_type": "markdown",
   "id": "bf5e0344-11fa-406b-99b1-5d9d10e238f1",
   "metadata": {},
   "source": [
    "Tally all the alignment counts:"
   ]
  },
  {
   "cell_type": "code",
   "execution_count": null,
   "id": "be252664-0415-4f43-b4f1-25d6c642bf5f",
   "metadata": {
    "tags": []
   },
   "outputs": [],
   "source": [
    "tallied_counts = pd.concat(\n",
    "    [pd.read_csv(f) for f in tallied_count_files],\n",
    "    ignore_index=True,\n",
    ").assign(\n",
    "    alignment_reference_type=lambda x: x[\"alignment_reference\"].map(\n",
    "        lambda r: \"SARS-CoV-2\" if r == sars2_ref_id else \"mitochondrial genomes\"\n",
    "    )\n",
    ")\n",
    "\n",
    "# make sure all alignment references are SARS2 or a known mitochondrial genome\n",
    "assert set(tallied_counts[\"alignment_reference\"]).issubset(\n",
    "    set(mito_ref_info[\"id\"]).union([sars2_ref_id])\n",
    ")\n",
    "\n",
    "assert (\n",
    "    len(tallied_counts)\n",
    "    == len(tallied_counts.drop_duplicates())\n",
    "    == len(tallied_counts.groupby([\"alignment_reference\", \"Run accession\"]))\n",
    ")\n",
    "\n",
    "# only keep these types of counts\n",
    "count_cols = [\"n_primary\", \"n_primary_and_unique_best\"]\n",
    "\n",
    "tallied_counts_tidy = tallied_counts.melt(\n",
    "    id_vars=[\"Run accession\", \"alignment_reference\", \"alignment_reference_type\"],\n",
    "    value_vars=count_cols,\n",
    "    var_name=\"alignment_count_type\",\n",
    "    value_name=\"alignment_count\",\n",
    ")"
   ]
  },
  {
   "cell_type": "markdown",
   "id": "6955a97c-9227-4993-a247-1ccf487fd55b",
   "metadata": {},
   "source": [
    "Get the read and alignment counts:"
   ]
  },
  {
   "cell_type": "code",
   "execution_count": null,
   "id": "b1e5d096-cfe9-4bb1-b255-c178daa5a605",
   "metadata": {
    "tags": []
   },
   "outputs": [],
   "source": [
    "read_counts = pd.read_csv(read_counts_csv)"
   ]
  },
  {
   "cell_type": "markdown",
   "id": "6748fae6-e8a7-4b99-85c2-980abbe1ac04",
   "metadata": {},
   "source": [
    "## SARS-CoV-2 and mitochondrial read counts\n",
    "Now get the SARS-CoV-2 and mitochondrial read counts as a percentage of all preprocessed reads.\n",
    "\n",
    "We first do this by run:"
   ]
  },
  {
   "cell_type": "code",
   "execution_count": null,
   "id": "a8807c49-2033-43ec-a14a-d68ce74ab27a",
   "metadata": {
    "tags": []
   },
   "outputs": [],
   "source": [
    "sars2_mito_aligned_by_run = (\n",
    "    tallied_counts_tidy\n",
    "    .groupby(\n",
    "        [\"Run accession\", \"alignment_reference_type\", \"alignment_count_type\"],\n",
    "        as_index=False,\n",
    "    )\n",
    "    .aggregate({\"alignment_count\": \"sum\"})\n",
    "    .merge(read_counts, validate=\"many_to_one\", how=\"outer\")\n",
    "    .assign(\n",
    "        aligned_reads=lambda x: (\n",
    "            x\n",
    "            .groupby([\"Run accession\", \"alignment_count_type\"])\n",
    "            [\"alignment_count\"]\n",
    "            .transform(\"sum\")\n",
    "        ),\n",
    "        percent_preprocessed_reads=(\n",
    "            lambda x: x[\"alignment_count\"] / x[\"preprocessed_reads\"] * 100\n",
    "        ),\n",
    "        percent_aligned_reads=(\n",
    "            lambda x: x[\"alignment_count\"] / x[\"aligned_reads\"] * 100\n",
    "        ),\n",
    "    )\n",
    "    .rename(columns={\"alignment_reference_type\": \"aligned_to\"})\n",
    "    .merge(\n",
    "        metadata,\n",
    "        on=\"Run accession\",\n",
    "        validate=\"many_to_one\",\n",
    "        how=\"outer\",\n",
    "    )\n",
    "    .assign(\n",
    "        aligned_reads=lambda x: x[\"aligned_reads\"].astype(\"Int64\"),\n",
    "        alignment_count=lambda x: x[\"alignment_count\"].astype(\"Int64\"),\n",
    "    )\n",
    ")\n",
    "\n",
    "sars2_mito_aligned_by_run.to_csv(\n",
    "    snakemake.output[\"sars2_mito_aligned_by_run\"], index=False, float_format=\"%.5g\",\n",
    ")"
   ]
  },
  {
   "cell_type": "markdown",
   "id": "6d6385ce-0467-40cc-a449-aad91e9aa762",
   "metadata": {
    "execution": {
     "iopub.execute_input": "2023-04-04T12:31:56.085557Z",
     "iopub.status.busy": "2023-04-04T12:31:56.085007Z",
     "iopub.status.idle": "2023-04-04T12:31:56.093519Z",
     "shell.execute_reply": "2023-04-04T12:31:56.092581Z",
     "shell.execute_reply.started": "2023-04-04T12:31:56.085514Z"
    },
    "tags": []
   },
   "source": [
    "Now we do this by sample (aggregating runs for each sample) for **just the metagenomic samples**."
   ]
  },
  {
   "cell_type": "code",
   "execution_count": null,
   "id": "f9d7b1f6-50a1-4151-a843-c89e86cc2a84",
   "metadata": {
    "tags": []
   },
   "outputs": [],
   "source": [
    "# columns that we sum across runs for each sample\n",
    "sum_cols = [\n",
    "    \"total_reads\",\n",
    "    \"preprocessed_reads\",\n",
    "    \"aligned_reads\",\n",
    "    \"alignment_count\",\n",
    "]\n",
    "\n",
    "sars2_mito_aligned_by_metagenomic_sample = (\n",
    "    sars2_mito_aligned_by_run\n",
    "    .query(\"description in @metagenomic_descriptions\")\n",
    "    .groupby(\n",
    "        [\n",
    "            c for c in sars2_mito_aligned_by_run\n",
    "            if c not in sum_cols\n",
    "            and not c.startswith(\"percent_\")\n",
    "            and c != \"Run accession\"\n",
    "        ],\n",
    "        as_index=False,\n",
    "        dropna=False,\n",
    "    )\n",
    "    .aggregate({c: \"sum\" for c in sum_cols})\n",
    "    .assign(\n",
    "        percent_preprocessed_reads=(\n",
    "            lambda x: x[\"alignment_count\"] / x[\"preprocessed_reads\"] * 100\n",
    "        ),\n",
    "        percent_aligned_reads=(\n",
    "            lambda x: x[\"alignment_count\"] / x[\"aligned_reads\"] * 100\n",
    "        ),\n",
    "    )\n",
    ")\n",
    "\n",
    "dup_samples = (\n",
    "    sars2_mito_aligned_by_metagenomic_sample\n",
    "    .groupby([\"aligned_to\", \"alignment_count_type\", \"sample\"])\n",
    "    .aggregate(\n",
    "        n=pd.NamedAgg(\"total_reads\", \"count\"),\n",
    "        sample_names=pd.NamedAgg(\"Sample name\", \"unique\"),\n",
    "    )\n",
    "    .query(\"n > 1\")\n",
    ")\n",
    "\n",
    "assert not len(dup_samples), f\"Some duplicated sample names\\n{dup_samples}\"\n",
    "\n",
    "sars2_mito_aligned_by_metagenomic_sample.to_csv(\n",
    "    snakemake.output[\"sars2_mito_aligned_by_metagenomic_sample\"], index=False, float_format=\"%.5g\",\n",
    ")"
   ]
  },
  {
   "cell_type": "markdown",
   "id": "024f4dc9-93f2-4f56-9380-716b59ca2dd7",
   "metadata": {},
   "source": [
    "## Composition of mitochondrial reads\n",
    "\n",
    "Do some filtering on the runs:\n",
    " - Get just the mitochondrial counts\n",
    " - Only keep runs with the metagenomic description\n",
    " - Exclude runs with insufficient unique best primary read alignment counts to mitochondria"
   ]
  },
  {
   "cell_type": "code",
   "execution_count": null,
   "id": "b258ec79-2e5d-4f6e-9c31-ac4fa339f509",
   "metadata": {
    "tags": []
   },
   "outputs": [],
   "source": [
    "mito_counts = (\n",
    "    tallied_counts_tidy\n",
    "    .merge(metadata, validate=\"many_to_one\")\n",
    "    .query(\"alignment_reference_type == 'mitochondrial genomes'\")\n",
    "    .drop(columns=\"alignment_reference_type\")\n",
    "    .query(\"description in @metagenomic_descriptions\")\n",
    "    .assign(alignment_count=lambda x: x[\"alignment_count\"].astype(int))\n",
    ")\n",
    "\n",
    "insufficient_mito_reads = (\n",
    "    mito_counts\n",
    "    .query(\"alignment_count_type == 'n_primary'\")\n",
    "    .groupby(\"Run accession\", as_index=False)\n",
    "    .aggregate(total_aligned_reads=pd.NamedAgg(\"alignment_count\", \"sum\"))\n",
    "    .sort_values(\"total_aligned_reads\")\n",
    "    .query(\"total_aligned_reads < @mito_composition_filters['min_alignments_run_filter']\")\n",
    "    .reset_index(drop=True)\n",
    "    .merge(metadata, how=\"left\")\n",
    ")\n",
    "\n",
    "print(\"Excluding the following metagenomic runs with insufficient aligned mitochondrial reads:\")\n",
    "display(insufficient_mito_reads)\n",
    "\n",
    "mito_counts = mito_counts[\n",
    "    ~mito_counts[\"Run accession\"].isin(insufficient_mito_reads[\"Run accession\"])\n",
    "]"
   ]
  },
  {
   "cell_type": "markdown",
   "id": "16e75ff2-dc43-4557-a64e-959ee29c7e41",
   "metadata": {
    "execution": {
     "iopub.execute_input": "2023-04-04T13:43:25.177040Z",
     "iopub.status.busy": "2023-04-04T13:43:25.176357Z",
     "iopub.status.idle": "2023-04-04T13:43:25.184777Z",
     "shell.execute_reply": "2023-04-04T13:43:25.183760Z",
     "shell.execute_reply.started": "2023-04-04T13:43:25.176998Z"
    },
    "tags": []
   },
   "source": [
    "Now exclude mitochondrial reference genomes that don't have a high enough percentage of primary read alignments or are not delineated in the list to keep:"
   ]
  },
  {
   "cell_type": "code",
   "execution_count": null,
   "id": "89a56047-8ab0-43ad-bac8-79a6176b6848",
   "metadata": {
    "tags": []
   },
   "outputs": [],
   "source": [
    "mito_max_primary_percent = ( \n",
    "    mito_counts\n",
    "    .query(\"alignment_count_type == 'n_primary'\")\n",
    "    .assign(\n",
    "        total=lambda x: x.groupby(\"Run accession\")[\"alignment_count\"].transform(\"sum\"),\n",
    "        percent=lambda x: 100 * x[\"alignment_count\"] / x[\"total\"],\n",
    "    )\n",
    "    .groupby(\"alignment_reference\", as_index=False)\n",
    "    .aggregate(\n",
    "        max_percent=pd.NamedAgg(\"percent\", \"max\"),\n",
    "        avg_percent=pd.NamedAgg(\"percent\", \"mean\"),\n",
    "    )\n",
    "    .sort_values(\"max_percent\")\n",
    "    .merge(mito_ref_info.rename(columns={\"id\": \"alignment_reference\"}))\n",
    ")\n",
    "\n",
    "min_percent = mito_composition_filters[\"min_percent_aligned_genome_filter\"]\n",
    "mito_to_keep = (\n",
    "    mito_max_primary_percent\n",
    "    .assign(\n",
    "        reason_kept=lambda x: x.apply(\n",
    "            lambda row: (\n",
    "                \"specified to keep in config\"\n",
    "                if any(row[\"species\"].startswith(s) for s in mito_genomes_to_keep.values())\n",
    "                else (\n",
    "                    f\"at least {min_percent}% in one run\"\n",
    "                    if row[\"max_percent\"] >= min_percent\n",
    "                    else\n",
    "                    \"not retained\"\n",
    "                )\n",
    "            ),\n",
    "            axis=1,\n",
    "        ),\n",
    "    )\n",
    "    .query(\"reason_kept != 'not retained'\")\n",
    "    .sort_values(\"max_percent\", ascending=False)\n",
    "    .reset_index(drop=True)\n",
    ")\n",
    "\n",
    "assert all(\n",
    "    any(s_kept.startswith(s_to_keep) for s_kept in mito_to_keep[\"species\"])\n",
    "    for s_to_keep in mito_genomes_to_keep.values()\n",
    ")\n",
    "\n",
    "print(\"Keeping the following mitochondrial genomes:\")\n",
    "display(mito_to_keep.round(2))"
   ]
  },
  {
   "cell_type": "markdown",
   "id": "9a92f6fe-1de8-4418-a325-3588589e31c3",
   "metadata": {},
   "source": [
    "Now get just the counts for those mitochondrial genomes to keep:"
   ]
  },
  {
   "cell_type": "code",
   "execution_count": null,
   "id": "382ab5d1-59a0-4969-ae08-54fdb5a924ae",
   "metadata": {
    "tags": []
   },
   "outputs": [],
   "source": [
    "mito_counts_by_run = (\n",
    "    mito_counts\n",
    "    .merge(\n",
    "        mito_to_keep[[\"alignment_reference\", \"species\", \"common_name\"]],\n",
    "        validate=\"many_to_one\",\n",
    "        on=\"alignment_reference\",\n",
    "        how=\"inner\",\n",
    "    )\n",
    ")\n",
    "\n",
    "mito_counts_by_run.to_csv(\n",
    "    snakemake.output[\"mito_composition_by_metagenomic_run\"], index=False, float_format=\"%.5f\",\n",
    ")"
   ]
  },
  {
   "cell_type": "markdown",
   "id": "917eb8e5-1903-4916-b4cb-bc32cc87906c",
   "metadata": {
    "execution": {
     "iopub.status.busy": "2023-04-05T20:15:01.703158Z",
     "iopub.status.idle": "2023-04-05T20:15:01.704024Z",
     "shell.execute_reply": "2023-04-05T20:15:01.703776Z",
     "shell.execute_reply.started": "2023-04-05T20:15:01.703749Z"
    },
    "tags": []
   },
   "source": [
    "Now we get the mitochondrial counts by **sample** (aggregating counts across run for the same sample:"
   ]
  },
  {
   "cell_type": "code",
   "execution_count": null,
   "id": "8c83b527-11f8-4e80-9376-80addc2ceb38",
   "metadata": {
    "tags": []
   },
   "outputs": [],
   "source": [
    "# columns that we sum across runs for each sample\n",
    "sum_cols = [\n",
    "    \"alignment_count\",\n",
    "]\n",
    "\n",
    "mito_counts_by_sample = (\n",
    "    mito_counts_by_run\n",
    "    .groupby(\n",
    "        [\n",
    "            c for c in mito_counts_by_run\n",
    "            if c not in sum_cols and c != \"Run accession\"\n",
    "        ],\n",
    "        as_index=False,\n",
    "        dropna=False,\n",
    "    )\n",
    "    .aggregate({c: \"sum\" for c in sum_cols})\n",
    ")\n",
    "\n",
    "dup_samples = (\n",
    "    mito_counts_by_sample\n",
    "    .groupby([\"alignment_reference\", \"alignment_count_type\", \"sample\"])\n",
    "    .aggregate(\n",
    "        n=pd.NamedAgg(\"alignment_count\", \"count\"),\n",
    "        sample_names=pd.NamedAgg(\"Sample name\", \"unique\"),\n",
    "    )\n",
    "    .query(\"n > 1\")\n",
    ")\n",
    "\n",
    "assert not len(dup_samples), f\"Some duplicated sample names\\n{dup_samples}\"\n",
    "\n",
    "mito_counts_by_sample.to_csv(\n",
    "    snakemake.output[\"mito_composition_by_metagenomic_sample\"], index=False, float_format=\"%.5g\",\n",
    ")"
   ]
  },
  {
   "cell_type": "code",
   "execution_count": null,
   "id": "cae22a2c-4c9f-4af9-b9f1-661e6998bc72",
   "metadata": {},
   "outputs": [],
   "source": []
  }
 ],
 "metadata": {
  "kernelspec": {
   "display_name": "Python 3 (ipykernel)",
   "language": "python",
   "name": "python3"
  },
  "language_info": {
   "codemirror_mode": {
    "name": "ipython",
    "version": 3
   },
   "file_extension": ".py",
   "mimetype": "text/x-python",
   "name": "python",
   "nbconvert_exporter": "python",
   "pygments_lexer": "ipython3",
   "version": "3.10.8"
  }
 },
 "nbformat": 4,
 "nbformat_minor": 5
}
