{
 "cells": [
  {
   "cell_type": "markdown",
   "id": "c4751eb3-baa4-4f1d-aa63-6c2e85f1511e",
   "metadata": {},
   "source": [
    "# Choose the mitochondrial genomes to retain\n",
    "We do this by first only including taxa of interest, then keeping all of the ones specified to keep, plus a greedy algorithm to keep others that are sufficiently different from ones already retained."
   ]
  },
  {
   "cell_type": "code",
   "execution_count": null,
   "id": "a97e3925-4293-4020-b8f6-91c341d5aded",
   "metadata": {
    "tags": []
   },
   "outputs": [],
   "source": [
    "import os\n",
    "\n",
    "import Bio.SeqIO\n",
    "\n",
    "import pandas as pd"
   ]
  },
  {
   "cell_type": "markdown",
   "id": "5b123bcb-823d-4290-9a92-73dfc2e10090",
   "metadata": {},
   "source": [
    "Get variables from `snakemake`:"
   ]
  },
  {
   "cell_type": "code",
   "execution_count": null,
   "id": "cf862427-7f06-4341-9162-8034fb9f31e3",
   "metadata": {
    "tags": []
   },
   "outputs": [],
   "source": [
    "mashes = snakemake.input.mashes\n",
    "fasta = snakemake.input.fasta\n",
    "taxa = snakemake.input.taxa\n",
    "info_csv = snakemake.input.info_csv\n",
    "output_csv = snakemake.output.csv\n",
    "output_fasta = snakemake.output.fasta\n",
    "min_mash_dist = snakemake.params.min_mash_dist\n",
    "to_keep = snakemake.params.to_keep\n",
    "taxa_to_keep = snakemake.params.taxa_to_keep"
   ]
  },
  {
   "cell_type": "markdown",
   "id": "ac61efc7-754c-4740-809e-f6fa2e435d41",
   "metadata": {},
   "source": [
    "Get all the taxa to keep:"
   ]
  },
  {
   "cell_type": "code",
   "execution_count": null,
   "id": "7060f9ad-9265-4506-800a-bc4bbeff2903",
   "metadata": {
    "tags": []
   },
   "outputs": [],
   "source": [
    "taxa_df = pd.concat([pd.read_csv(f) for f in taxa], ignore_index=True)\n",
    "\n",
    "assert set(taxa_df.columns) == {\"id\", \"taxonid\", *taxa_to_keep}\n",
    "\n",
    "taxa_df[\"to_keep\"] = False\n",
    "for taxalevel, taxalist in taxa_to_keep.items():\n",
    "    taxa_df[\"to_keep\"] = taxa_df[\"to_keep\"] | taxa_df[taxalevel].isin(taxalist)\n",
    "\n",
    "print(\"Keeping this many genomes based on taxa inclusions:\")\n",
    "display(taxa_df.groupby(\"to_keep\").aggregate(n=pd.NamedAgg(\"id\", \"count\")))\n",
    "\n",
    "ids_of_valid_taxa = set(taxa_df[\"id\"])"
   ]
  },
  {
   "cell_type": "markdown",
   "id": "a026ac11-8323-4a25-9007-fff7763fd550",
   "metadata": {},
   "source": [
    "Get the IDs specified to keep:"
   ]
  },
  {
   "cell_type": "code",
   "execution_count": null,
   "id": "6215d604-18d5-49be-b507-9df3df9abe1a",
   "metadata": {
    "tags": []
   },
   "outputs": [],
   "source": [
    "info = pd.read_csv(info_csv).query(\"id in @ids_of_valid_taxa\")\n",
    "\n",
    "id_to_species = info.set_index(\"id\")[\"species\"].to_dict()\n",
    "\n",
    "valid_ids = set(info[\"id\"])\n",
    "\n",
    "retained_records = []\n",
    "retained_ids = set()\n",
    "for common_name, name in to_keep.items():\n",
    "    df = info.query(\"species.str.startswith(@name)\")\n",
    "    if len(df) == 1:\n",
    "        mito_id = df[\"id\"].tolist()[0]\n",
    "    elif len(df) > 1:\n",
    "        df = info.query(\"species == @name\")\n",
    "        if len(df) == 1:\n",
    "            mito_id = df[\"id\"].tolist()[0]\n",
    "        else:\n",
    "            raise ValueError(f\"ambiguous multiple hits for {name=}\\n{df}\")\n",
    "    else:\n",
    "        raise ValueError(f\"no match for {common_name=}, {name=}\")\n",
    "    retained_records.append((mito_id, name, common_name))\n",
    "    retained_ids.add(mito_id)"
   ]
  },
  {
   "cell_type": "markdown",
   "id": "486f1ab6-d77f-4550-8f88-e16a687f0daf",
   "metadata": {
    "execution": {
     "iopub.execute_input": "2023-03-30T23:55:22.046619Z",
     "iopub.status.busy": "2023-03-30T23:55:22.046075Z",
     "iopub.status.idle": "2023-03-30T23:55:22.054164Z",
     "shell.execute_reply": "2023-03-30T23:55:22.053288Z",
     "shell.execute_reply.started": "2023-03-30T23:55:22.046575Z"
    },
    "tags": []
   },
   "source": [
    "Now loop over all other IDs and get the ones to keep, using a greedy algorithm (if not overly similar to one already kept):"
   ]
  },
  {
   "cell_type": "code",
   "execution_count": null,
   "id": "b88e6916-f2ef-436c-86a6-4148b359b7c6",
   "metadata": {
    "tags": []
   },
   "outputs": [],
   "source": [
    "for mash in mashes:\n",
    "    mito_id = os.path.splitext(os.path.basename(mash))[0]\n",
    "    if mito_id not in ids_of_valid_taxa:\n",
    "        continue\n",
    "    assert mito_id in valid_ids\n",
    "    if mito_id in retained_ids:\n",
    "        continue\n",
    "    mash_df = pd.read_csv(mash, sep=\"\\t\", skiprows=1, names=[\"query\", \"dist\"]).assign(\n",
    "        id=lambda x: x[\"query\"].map(lambda f: os.path.splitext(os.path.basename(f))[0])\n",
    "    )\n",
    "    # are there close matches?\n",
    "    to_close = len(\n",
    "        mash_df\n",
    "        .query(\"id != @mito_id\")\n",
    "        .query(\"id in @retained_ids\")\n",
    "        .query(\"dist < @min_mash_dist\")\n",
    "    )\n",
    "    if not to_close:\n",
    "        retained_ids.add(mito_id)\n",
    "        retained_records.append((mito_id, id_to_species[mito_id], \"\"))"
   ]
  },
  {
   "cell_type": "code",
   "execution_count": null,
   "id": "aa74f1fb-f13f-4779-b52b-98e63f2d0c92",
   "metadata": {
    "tags": []
   },
   "outputs": [],
   "source": [
    "retained_df = pd.DataFrame(retained_records, columns=[\"id\", \"species\", \"common_name\"])\n",
    "\n",
    "print(f\"Retained {len(retained_df)=} mitochondrial genomes\")\n",
    "\n",
    "retained_df.to_csv(output_csv, index=False)\n",
    "\n",
    "retained_df"
   ]
  },
  {
   "cell_type": "markdown",
   "id": "e4d79bdb-1853-4f58-a9a1-8ac2c07d92d8",
   "metadata": {},
   "source": [
    "Get FASTA file with genomes to keep:"
   ]
  },
  {
   "cell_type": "code",
   "execution_count": null,
   "id": "c18a72eb-e357-4783-b6d4-b097735f0cb4",
   "metadata": {
    "tags": []
   },
   "outputs": [],
   "source": [
    "retained_fastas = []\n",
    "for seq in Bio.SeqIO.parse(fasta, \"fasta\"):\n",
    "    if seq.id in retained_ids:\n",
    "        retained_fastas.append(seq)\n",
    "        \n",
    "assert len(retained_df) == len(retained_ids) == len(retained_fastas)\n",
    "\n",
    "_ = Bio.SeqIO.write(retained_fastas, output_fasta, \"fasta\")"
   ]
  },
  {
   "cell_type": "code",
   "execution_count": null,
   "id": "ce9a2819-1add-41e6-966b-01df16677ad4",
   "metadata": {},
   "outputs": [],
   "source": []
  }
 ],
 "metadata": {
  "kernelspec": {
   "display_name": "Python 3 (ipykernel)",
   "language": "python",
   "name": "python3"
  },
  "language_info": {
   "codemirror_mode": {
    "name": "ipython",
    "version": 3
   },
   "file_extension": ".py",
   "mimetype": "text/x-python",
   "name": "python",
   "nbconvert_exporter": "python",
   "pygments_lexer": "ipython3",
   "version": "3.10.8"
  }
 },
 "nbformat": 4,
 "nbformat_minor": 5
}
